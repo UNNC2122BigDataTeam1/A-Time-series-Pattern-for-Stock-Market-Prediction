{
 "cells": [
  {
   "cell_type": "code",
   "execution_count": 1,
   "id": "f83aaaae",
   "metadata": {
    "ExecuteTime": {
     "end_time": "2022-04-13T01:07:32.995643Z",
     "start_time": "2022-04-13T01:07:24.999081Z"
    }
   },
   "outputs": [],
   "source": [
    "from pyspark import SparkConf, SparkContext\n",
    "from pyspark.sql import SparkSession\n",
    "spark = SparkSession.builder.master(\"local[*]\").appName(\"test\").getOrCreate()\n",
    "sc = spark.sparkContext"
   ]
  },
  {
   "cell_type": "code",
   "execution_count": 2,
   "id": "88384045",
   "metadata": {
    "ExecuteTime": {
     "end_time": "2022-04-13T01:07:39.756617Z",
     "start_time": "2022-04-13T01:07:34.049109Z"
    }
   },
   "outputs": [],
   "source": [
    "stock_1 = spark.read.csv(\"stock_market_data/sp500/csv/AAPL.csv\", inferSchema=True, header=True)"
   ]
  },
  {
   "cell_type": "code",
   "execution_count": 3,
   "id": "0b32b034",
   "metadata": {
    "ExecuteTime": {
     "end_time": "2022-04-13T01:07:40.472364Z",
     "start_time": "2022-04-13T01:07:40.438405Z"
    }
   },
   "outputs": [
    {
     "name": "stdout",
     "output_type": "stream",
     "text": [
      "root\n",
      " |-- Date: string (nullable = true)\n",
      " |-- Low: double (nullable = true)\n",
      " |-- Open: double (nullable = true)\n",
      " |-- Volume: long (nullable = true)\n",
      " |-- High: double (nullable = true)\n",
      " |-- Close: double (nullable = true)\n",
      " |-- Adjusted Close: double (nullable = true)\n",
      "\n"
     ]
    }
   ],
   "source": [
    "stock_1.printSchema()"
   ]
  },
  {
   "cell_type": "code",
   "execution_count": 4,
   "id": "312908a0",
   "metadata": {
    "ExecuteTime": {
     "end_time": "2022-04-13T01:07:41.559142Z",
     "start_time": "2022-04-13T01:07:41.348458Z"
    }
   },
   "outputs": [],
   "source": [
    "from pyspark.sql import functions as F \n",
    "close_data = stock_1.select(F.collect_list('Close').alias('Close Price'))\n",
    "low_data = stock_1.select(F.collect_list('Low').alias('Low Price'))\n",
    "open_data = stock_1.select(F.collect_list('Open').alias('Open Price'))\n",
    "volumn_data = stock_1.select(F.collect_list('Volume').alias('Transaction Volume'))\n",
    "high_data = stock_1.select(F.collect_list('High').alias('High Price'))\n",
    "adjusted_close_data = stock_1.select(F.collect_list('Adjusted Close').alias('Adjusted Close Price'))"
   ]
  },
  {
   "cell_type": "code",
   "execution_count": 5,
   "id": "66255f63",
   "metadata": {
    "ExecuteTime": {
     "end_time": "2022-04-13T01:07:45.560388Z",
     "start_time": "2022-04-13T01:07:43.296104Z"
    }
   },
   "outputs": [],
   "source": [
    "close_price_array = close_data.first()['Close Price']\n",
    "low_price_array = low_data.first()['Low Price']\n",
    "open_price_array = open_data.first()['Open Price']\n",
    "transaction_volume_array = volumn_data.first()['Transaction Volume']\n",
    "transaction_volume_array = list(map(float, transaction_volume_array))\n",
    "high_price_array = high_data.first()['High Price']\n",
    "adjusted_close_price_array = adjusted_close_data.first()['Adjusted Close Price']"
   ]
  },
  {
   "cell_type": "code",
   "execution_count": 6,
   "id": "8550a5bb",
   "metadata": {
    "ExecuteTime": {
     "end_time": "2022-04-13T01:07:46.574822Z",
     "start_time": "2022-04-13T01:07:46.245992Z"
    }
   },
   "outputs": [],
   "source": [
    "date_array = stock_1.select(F.collect_list('Date').alias('Date')).first()['Date']"
   ]
  },
  {
   "cell_type": "code",
   "execution_count": 7,
   "id": "f5d8fca6",
   "metadata": {
    "ExecuteTime": {
     "end_time": "2022-04-13T01:07:47.097910Z",
     "start_time": "2022-04-13T01:07:47.091017Z"
    }
   },
   "outputs": [],
   "source": [
    "days = [i for i in range(1, len(date_array) + 1)]"
   ]
  },
  {
   "cell_type": "code",
   "execution_count": 8,
   "id": "c25f90df",
   "metadata": {
    "ExecuteTime": {
     "end_time": "2022-04-13T01:07:49.668311Z",
     "start_time": "2022-04-13T01:07:48.858746Z"
    }
   },
   "outputs": [
    {
     "data": {
      "text/plain": [
       "[<matplotlib.lines.Line2D at 0x1167ca0d0>]"
      ]
     },
     "execution_count": 8,
     "metadata": {},
     "output_type": "execute_result"
    },
    {
     "data": {
      "image/png": "[encoded data removed]",
      "text/plain": [
       "<Figure size 432x288 with 1 Axes>"
      ]
     },
     "metadata": {
      "needs_background": "light"
     },
     "output_type": "display_data"
    }
   ],
   "source": [
    "import matplotlib.pyplot as plt\n",
    "plt.plot(days, close_price_array)"
   ]
  },
  {
   "cell_type": "code",
   "execution_count": 9,
   "id": "34268b1c",
   "metadata": {
    "ExecuteTime": {
     "end_time": "2022-04-13T01:07:52.783004Z",
     "start_time": "2022-04-13T01:07:51.740833Z"
    }
   },
   "outputs": [],
   "source": [
    "covid_data = spark.read.csv(\"WHO-COVID-19-global-data.csv\", inferSchema=True, header=True)"
   ]
  },
  {
   "cell_type": "code",
   "execution_count": 10,
   "id": "f072b603",
   "metadata": {
    "ExecuteTime": {
     "end_time": "2022-04-13T01:07:53.490911Z",
     "start_time": "2022-04-13T01:07:53.237555Z"
    }
   },
   "outputs": [],
   "source": [
    "USA_covid_data = covid_data.filter(\"Country_code = 'US'\")"
   ]
  },
  {
   "cell_type": "code",
   "execution_count": 11,
   "id": "cec9f91e",
   "metadata": {
    "ExecuteTime": {
     "end_time": "2022-04-13T01:07:53.952459Z",
     "start_time": "2022-04-13T01:07:53.934265Z"
    }
   },
   "outputs": [
    {
     "name": "stdout",
     "output_type": "stream",
     "text": [
      "root\n",
      " |-- Date_reported: string (nullable = true)\n",
      " |-- Country_code: string (nullable = true)\n",
      " |-- Country: string (nullable = true)\n",
      " |-- WHO_region: string (nullable = true)\n",
      " |-- New_cases: integer (nullable = true)\n",
      " |-- Cumulative_cases: integer (nullable = true)\n",
      " |-- New_deaths: integer (nullable = true)\n",
      " |-- Cumulative_deaths: integer (nullable = true)\n",
      "\n"
     ]
    }
   ],
   "source": [
    "USA_covid_data.printSchema()"
   ]
  },
  {
   "cell_type": "code",
   "execution_count": 12,
   "id": "de691fc0",
   "metadata": {
    "ExecuteTime": {
     "end_time": "2022-04-13T01:07:57.003326Z",
     "start_time": "2022-04-13T01:07:56.095244Z"
    }
   },
   "outputs": [],
   "source": [
    "covid_date_array = USA_covid_data.select(F.collect_list('Date_reported').alias('Date')).first()['Date']"
   ]
  },
  {
   "cell_type": "code",
   "execution_count": 13,
   "id": "5c51f699",
   "metadata": {
    "ExecuteTime": {
     "end_time": "2022-04-13T01:07:57.459843Z",
     "start_time": "2022-04-13T01:07:57.455587Z"
    }
   },
   "outputs": [],
   "source": [
    "def changeDateMode(date):\n",
    "    elements = date.split('-')\n",
    "    return elements[2] + '-' + elements[1] + '-' + elements[0]"
   ]
  },
  {
   "cell_type": "code",
   "execution_count": 14,
   "id": "ac2ffcc2",
   "metadata": {
    "ExecuteTime": {
     "end_time": "2022-04-13T01:07:58.168497Z",
     "start_time": "2022-04-13T01:07:58.158716Z"
    }
   },
   "outputs": [],
   "source": [
    "covid_date_array = list(map(changeDateMode, covid_date_array))"
   ]
  },
  {
   "cell_type": "code",
   "execution_count": 15,
   "id": "479349db",
   "metadata": {
    "ExecuteTime": {
     "end_time": "2022-04-13T01:08:00.523820Z",
     "start_time": "2022-04-13T01:08:00.519355Z"
    }
   },
   "outputs": [],
   "source": [
    "first_day_index = 0\n",
    "for i in range(0, 3):\n",
    "    if covid_date_array[i] in date_array:\n",
    "        first_day_index = date_array.index(covid_date_array[i])\n",
    "        break"
   ]
  },
  {
   "cell_type": "code",
   "execution_count": 16,
   "id": "f59bea0c",
   "metadata": {
    "ExecuteTime": {
     "end_time": "2022-04-13T01:08:01.006533Z",
     "start_time": "2022-04-13T01:08:01.000161Z"
    }
   },
   "outputs": [],
   "source": [
    "final_day_index = 0\n",
    "for i in range(1, 4):\n",
    "    if covid_date_array[len(covid_date_array) - i] in date_array:\n",
    "        final_day_index = date_array.index(covid_date_array[len(covid_date_array) - i])\n",
    "        break"
   ]
  },
  {
   "cell_type": "code",
   "execution_count": 17,
   "id": "1db51954",
   "metadata": {
    "ExecuteTime": {
     "end_time": "2022-04-13T01:08:01.513258Z",
     "start_time": "2022-04-13T01:08:01.503578Z"
    }
   },
   "outputs": [
    {
     "data": {
      "text/plain": [
       "9848"
      ]
     },
     "execution_count": 17,
     "metadata": {},
     "output_type": "execute_result"
    }
   ],
   "source": [
    "first_day_index"
   ]
  },
  {
   "cell_type": "code",
   "execution_count": 18,
   "id": "43a92579",
   "metadata": {
    "ExecuteTime": {
     "end_time": "2022-04-13T01:08:02.001238Z",
     "start_time": "2022-04-13T01:08:01.996644Z"
    }
   },
   "outputs": [
    {
     "data": {
      "text/plain": [
       "10398"
      ]
     },
     "execution_count": 18,
     "metadata": {},
     "output_type": "execute_result"
    }
   ],
   "source": [
    "final_day_index"
   ]
  },
  {
   "cell_type": "code",
   "execution_count": 19,
   "id": "74800f04",
   "metadata": {
    "ExecuteTime": {
     "end_time": "2022-04-13T01:08:04.128603Z",
     "start_time": "2022-04-13T01:08:03.937503Z"
    }
   },
   "outputs": [
    {
     "data": {
      "text/plain": [
       "[<matplotlib.lines.Line2D at 0x1168d0b50>,\n",
       " <matplotlib.lines.Line2D at 0x1168d0b80>,\n",
       " <matplotlib.lines.Line2D at 0x1168d0ca0>]"
      ]
     },
     "execution_count": 19,
     "metadata": {},
     "output_type": "execute_result"
    },
    {
     "data": {
      "image/png": "[encoded data removed]",
      "text/plain": [
       "<Figure size 432x288 with 1 Axes>"
      ]
     },
     "metadata": {
      "needs_background": "light"
     },
     "output_type": "display_data"
    }
   ],
   "source": [
    "plt.plot(days, close_price_array, [first_day_index] * 175, [i for i in range(0, 175)], [final_day_index] * 175, [i for i in range(0, 175)])"
   ]
  },
  {
   "cell_type": "code",
   "execution_count": 20,
   "id": "3045233f",
   "metadata": {
    "ExecuteTime": {
     "end_time": "2022-04-13T01:08:06.744302Z",
     "start_time": "2022-04-13T01:08:06.734578Z"
    }
   },
   "outputs": [],
   "source": [
    "import numpy as np\n",
    "import sys\n",
    "def cal_dtw_distance(ts_a, ts_b):\n",
    "    \"\"\"Returns the DTW similarity distance between two 2-D\n",
    "    timeseries numpy arrays.\n",
    "\n",
    "    Arguments\n",
    "    ---------\n",
    "    ts_a, ts_b : array of shape [n_samples, n_timepoints]\n",
    "        Two arrays containing n_samples of timeseries data\n",
    "        whose DTW distance between each sample of A and B\n",
    "        will be compared\n",
    "\n",
    "    d : DistanceMetric object (default = abs(x-y))\n",
    "        the distance measure used for A_i - B_j in the\n",
    "        DTW dynamic programming function\n",
    "\n",
    "    Returns\n",
    "    -------\n",
    "    DTW distance between A and B\n",
    "    \"\"\"\n",
    "    d=lambda x, y: abs(x - y)\n",
    "    max_warping_window = 10000\n",
    "\n",
    "    # Create cost matrix via broadcasting with large int\n",
    "    ts_a, ts_b = np.array(ts_a), np.array(ts_b)\n",
    "    M, N = len(ts_a), len(ts_b)\n",
    "    cost = sys.maxsize * np.ones((M, N))\n",
    "\n",
    "    # Initialize the first row and column\n",
    "    cost[0, 0] = d(ts_a[0], ts_b[0])\n",
    "    for i in range(1, M):\n",
    "        cost[i, 0] = cost[i - 1, 0] + d(ts_a[i], ts_b[0])\n",
    "\n",
    "    for j in range(1, N):\n",
    "        cost[0, j] = cost[0, j - 1] + d(ts_a[0], ts_b[j])\n",
    "\n",
    "    # Populate rest of cost matrix within window\n",
    "    for i in range(1, M):\n",
    "        for j in range(max(1, i - max_warping_window),\n",
    "                       min(N, i + max_warping_window)):\n",
    "            choices = cost[i - 1, j - 1], cost[i, j - 1], cost[i - 1, j]\n",
    "            cost[i, j] = min(choices) + d(ts_a[i], ts_b[j])\n",
    "\n",
    "    # Return DTW distance given window\n",
    "    return cost[-1, -1]"
   ]
  },
  {
   "cell_type": "code",
   "execution_count": 21,
   "id": "0b56307b",
   "metadata": {
    "ExecuteTime": {
     "end_time": "2022-04-13T01:08:08.518335Z",
     "start_time": "2022-04-13T01:08:08.512263Z"
    }
   },
   "outputs": [],
   "source": [
    "date_gap = 365\n",
    "step = 100\n",
    "close_price_array_window = [close_price_array[i:i+date_gap] for i in range(7000, first_day_index - date_gap, step)]"
   ]
  },
  {
   "cell_type": "code",
   "execution_count": 22,
   "id": "04418b42",
   "metadata": {
    "ExecuteTime": {
     "end_time": "2022-04-13T01:08:09.829908Z",
     "start_time": "2022-04-13T01:08:09.821695Z"
    }
   },
   "outputs": [],
   "source": [
    "def Z_ScoreNormalization(x,mu,sigma):\n",
    "    x = (x - mu) / sigma;\n",
    "    return x;\n",
    "close_price_array_window_norm = []\n",
    "for i in range(0, len(close_price_array_window)):\n",
    "    mu = np.average(close_price_array_window[i])\n",
    "    sigma = np.std(close_price_array_window[i])\n",
    "    close_price_array_window_norm.append(Z_ScoreNormalization(close_price_array_window[i], mu, sigma))"
   ]
  },
  {
   "cell_type": "code",
   "execution_count": 23,
   "id": "0c37f667",
   "metadata": {
    "ExecuteTime": {
     "end_time": "2022-04-13T01:08:12.037446Z",
     "start_time": "2022-04-13T01:08:12.032938Z"
    }
   },
   "outputs": [],
   "source": [
    "close_price_when_covid = close_price_array[first_day_index: first_day_index + date_gap]\n",
    "close_price_when_covid_norm = Z_ScoreNormalization(close_price_when_covid,\n",
    "                                                  np.average(close_price_when_covid),\n",
    "                                                  np.std(close_price_when_covid))"
   ]
  },
  {
   "cell_type": "code",
   "execution_count": 24,
   "id": "7df10c87",
   "metadata": {
    "ExecuteTime": {
     "end_time": "2022-04-13T01:08:17.593303Z",
     "start_time": "2022-04-13T01:08:13.082536Z"
    }
   },
   "outputs": [],
   "source": [
    "dtws = []\n",
    "for i in range(0, len(close_price_array_window_norm)):\n",
    "    dtw = cal_dtw_distance(close_price_array_window_norm[i], close_price_when_covid_norm)\n",
    "    dtws.append(dtw)"
   ]
  },
  {
   "cell_type": "code",
   "execution_count": 25,
   "id": "e8acb97c",
   "metadata": {
    "ExecuteTime": {
     "end_time": "2022-04-13T01:08:20.071532Z",
     "start_time": "2022-04-13T01:08:20.065020Z"
    }
   },
   "outputs": [],
   "source": [
    "min_index = dtws.index(min(dtws))"
   ]
  },
  {
   "cell_type": "code",
   "execution_count": 26,
   "id": "badf90dc",
   "metadata": {
    "ExecuteTime": {
     "end_time": "2022-04-13T01:08:20.677967Z",
     "start_time": "2022-04-13T01:08:20.672096Z"
    }
   },
   "outputs": [
    {
     "data": {
      "text/plain": [
       "7"
      ]
     },
     "execution_count": 26,
     "metadata": {},
     "output_type": "execute_result"
    }
   ],
   "source": [
    "min_index"
   ]
  },
  {
   "cell_type": "code",
   "execution_count": 27,
   "id": "678f7cdc",
   "metadata": {
    "ExecuteTime": {
     "end_time": "2022-04-13T01:08:23.137656Z",
     "start_time": "2022-04-13T01:08:23.122923Z"
    }
   },
   "outputs": [
    {
     "data": {
      "text/plain": [
       "[11.617856979370117,\n",
       " 11.521785736083984,\n",
       " 11.829643249511719,\n",
       " 11.655357360839844,\n",
       " 11.85857105255127,\n",
       " 11.973570823669434,\n",
       " 11.930000305175781,\n",
       " 11.988213539123535,\n",
       " 12.259285926818848,\n",
       " 12.479642868041992,\n",
       " 12.562856674194336,\n",
       " 12.757143020629883,\n",
       " 12.846785545349121,\n",
       " 12.64285659790039,\n",
       " 12.633929252624512,\n",
       " 12.786429405212402,\n",
       " 12.77750015258789,\n",
       " 13.032856941223145,\n",
       " 13.350000381469727,\n",
       " 13.458929061889648,\n",
       " 13.817856788635254,\n",
       " 13.831786155700684,\n",
       " 14.046428680419922,\n",
       " 14.23214340209961,\n",
       " 14.407500267028809,\n",
       " 14.021071434020996,\n",
       " 13.993571281433105,\n",
       " 13.945713996887207,\n",
       " 14.16964340209961,\n",
       " 13.889642715454102,\n",
       " 14.020357131958008,\n",
       " 13.477499961853027,\n",
       " 13.343570709228516,\n",
       " 12.614643096923828,\n",
       " 13.357500076293945,\n",
       " 12.98892879486084,\n",
       " 13.346428871154785,\n",
       " 13.463929176330566,\n",
       " 13.693214416503906,\n",
       " 13.588570594787598,\n",
       " 13.587142944335938,\n",
       " 13.073213577270508,\n",
       " 12.715356826782227,\n",
       " 12.729999542236328,\n",
       " 13.342857360839844,\n",
       " 13.4350004196167,\n",
       " 13.347143173217773,\n",
       " 13.699286460876465,\n",
       " 13.927499771118164,\n",
       " 13.928214073181152,\n",
       " 13.743928909301758,\n",
       " 13.608214378356934,\n",
       " 13.358928680419922,\n",
       " 13.562143325805664,\n",
       " 13.711786270141602,\n",
       " 13.71928596496582,\n",
       " 13.481429100036621,\n",
       " 13.569286346435547,\n",
       " 13.736429214477539,\n",
       " 13.903571128845215,\n",
       " 14.034285545349121,\n",
       " 14.303570747375488,\n",
       " 14.701070785522461,\n",
       " 14.766071319580078,\n",
       " 14.71928596496582,\n",
       " 14.350713729858398,\n",
       " 14.439286231994629,\n",
       " 14.39892864227295,\n",
       " 14.259285926818848,\n",
       " 14.178929328918457,\n",
       " 13.948928833007812,\n",
       " 13.618571281433105,\n",
       " 13.378570556640625,\n",
       " 13.303570747375488,\n",
       " 13.508929252624512,\n",
       " 13.477499961853027,\n",
       " 13.20714282989502,\n",
       " 13.88607120513916,\n",
       " 14.29607105255127,\n",
       " 14.36392879486084,\n",
       " 14.586786270141602,\n",
       " 15.071429252624512,\n",
       " 14.999643325805664,\n",
       " 15.079999923706055,\n",
       " 14.236429214477539,\n",
       " 14.118213653564453,\n",
       " 14.031070709228516,\n",
       " 14.491786003112793,\n",
       " 14.206070899963379,\n",
       " 14.307143211364746,\n",
       " 14.453213691711426,\n",
       " 14.462499618530273,\n",
       " 14.456428527832031,\n",
       " 14.161070823669434,\n",
       " 14.193214416503906,\n",
       " 14.395357131958008,\n",
       " 14.294285774230957,\n",
       " 14.276070594787598,\n",
       " 14.508213996887207,\n",
       " 14.117142677307129,\n",
       " 13.757857322692871,\n",
       " 13.736429214477539,\n",
       " 13.545000076293945,\n",
       " 13.886786460876465,\n",
       " 13.741786003112793,\n",
       " 13.478928565979004,\n",
       " 13.390713691711426,\n",
       " 13.178929328918457,\n",
       " 13.446785926818848,\n",
       " 13.106785774230957,\n",
       " 12.98464298248291,\n",
       " 13.432856559753418,\n",
       " 13.328571319580078,\n",
       " 13.649999618530273,\n",
       " 13.854642868041992,\n",
       " 13.91785717010498,\n",
       " 14.036070823669434,\n",
       " 13.962499618530273,\n",
       " 13.896071434020996,\n",
       " 13.952142715454102,\n",
       " 14.057856559753418,\n",
       " 13.994285583496094,\n",
       " 13.88607120513916,\n",
       " 13.578213691711426,\n",
       " 13.533571243286133,\n",
       " 13.607856750488281,\n",
       " 13.650357246398926,\n",
       " 14.141071319580078,\n",
       " 14.158928871154785,\n",
       " 14.233928680419922,\n",
       " 14.404643058776855,\n",
       " 14.518928527832031,\n",
       " 14.380000114440918,\n",
       " 14.468570709228516,\n",
       " 14.464285850524902,\n",
       " 14.686785697937012,\n",
       " 14.765713691711426,\n",
       " 14.929642677307129,\n",
       " 15.085714340209961,\n",
       " 15.061785697937012,\n",
       " 15.115714073181152,\n",
       " 15.091071128845215,\n",
       " 15.049642562866211,\n",
       " 14.993213653564453,\n",
       " 15.16785717010498,\n",
       " 15.325357437133789,\n",
       " 15.276785850524902,\n",
       " 15.010713577270508,\n",
       " 15.264642715454102,\n",
       " 15.014642715454102,\n",
       " 15.952142715454102,\n",
       " 15.879643440246582,\n",
       " 15.974286079406738,\n",
       " 16.17892837524414,\n",
       " 16.3028564453125,\n",
       " 16.292499542236328,\n",
       " 16.25428581237793,\n",
       " 16.417142868041992,\n",
       " 16.570356369018555,\n",
       " 16.743928909301758,\n",
       " 17.0242862701416,\n",
       " 17.61321449279785,\n",
       " 17.622142791748047,\n",
       " 17.950000762939453,\n",
       " 18.19499969482422,\n",
       " 17.773929595947266,\n",
       " 17.936071395874023,\n",
       " 17.932857513427734,\n",
       " 18.387500762939453,\n",
       " 18.322856903076172,\n",
       " 18.4424991607666,\n",
       " 18.657499313354492,\n",
       " 18.777143478393555,\n",
       " 19.12178611755371,\n",
       " 19.37285614013672,\n",
       " 19.445356369018555,\n",
       " 19.470714569091797,\n",
       " 19.04142951965332,\n",
       " 18.937856674194336,\n",
       " 18.953214645385742,\n",
       " 19.356786727905273,\n",
       " 19.47035789489746,\n",
       " 19.71428680419922,\n",
       " 20.28928565979004,\n",
       " 21.056428909301758,\n",
       " 20.912857055664062,\n",
       " 20.9132137298584,\n",
       " 21.467857360839844,\n",
       " 21.641429901123047,\n",
       " 21.51785659790039,\n",
       " 21.405000686645508,\n",
       " 21.287500381469727,\n",
       " 21.6778564453125,\n",
       " 21.945714950561523,\n",
       " 22.057857513427734,\n",
       " 21.78071403503418,\n",
       " 21.412500381469727,\n",
       " 22.093929290771484,\n",
       " 22.4757137298584,\n",
       " 22.296785354614258,\n",
       " 22.63142967224121,\n",
       " 22.72249984741211,\n",
       " 22.444286346435547,\n",
       " 22.364286422729492,\n",
       " 22.241785049438477,\n",
       " 21.6153564453125,\n",
       " 20.718929290771484,\n",
       " 21.774999618530273,\n",
       " 21.726428985595703,\n",
       " 20.979999542236328,\n",
       " 20.463571548461914,\n",
       " 20.417856216430664,\n",
       " 20.010000228881836,\n",
       " 21.78571319580078,\n",
       " 21.703571319580078,\n",
       " 21.53571319580078,\n",
       " 20.856428146362305,\n",
       " 20.79035758972168,\n",
       " 20.9278564453125,\n",
       " 20.779285430908203,\n",
       " 20.1875,\n",
       " 20.338571548461914,\n",
       " 20.292142868041992,\n",
       " 20.327856063842773,\n",
       " 20.375713348388672,\n",
       " 20.239643096923828,\n",
       " 19.93642807006836,\n",
       " 19.756071090698242,\n",
       " 19.502857208251953,\n",
       " 18.932857513427734,\n",
       " 18.942142486572266,\n",
       " 20.045713424682617,\n",
       " 19.891786575317383,\n",
       " 20.37714385986328,\n",
       " 20.190000534057617,\n",
       " 20.081785202026367,\n",
       " 20.438213348388672,\n",
       " 20.684642791748047,\n",
       " 20.633214950561523,\n",
       " 20.035356521606445,\n",
       " 20.153213500976562,\n",
       " 20.101070404052734,\n",
       " 20.409286499023438,\n",
       " 20.41857147216797,\n",
       " 20.7257137298584,\n",
       " 20.398929595947266,\n",
       " 20.5771427154541,\n",
       " 20.43428611755371,\n",
       " 20.411785125732422,\n",
       " 20.504642486572266,\n",
       " 20.920713424682617,\n",
       " 20.97892951965332,\n",
       " 20.919286727905273,\n",
       " 20.631071090698242,\n",
       " 20.78928565979004,\n",
       " 20.3846435546875,\n",
       " 20.429643630981445,\n",
       " 20.51785659790039,\n",
       " 20.323213577270508,\n",
       " 20.85714340209961,\n",
       " 21.161428451538086,\n",
       " 21.407499313354492,\n",
       " 21.783571243286133,\n",
       " 21.63857078552246,\n",
       " 21.92464256286621,\n",
       " 21.721786499023438,\n",
       " 21.5867862701416,\n",
       " 21.389286041259766,\n",
       " 21.60607147216797,\n",
       " 21.675357818603516,\n",
       " 21.676429748535156,\n",
       " 21.652143478393555,\n",
       " 21.940000534057617,\n",
       " 21.582143783569336,\n",
       " 21.565357208251953,\n",
       " 21.461429595947266,\n",
       " 20.534643173217773,\n",
       " 20.531429290771484,\n",
       " 20.898571014404297,\n",
       " 21.25107192993164,\n",
       " 21.812856674194336,\n",
       " 21.671785354614258,\n",
       " 21.706785202026367,\n",
       " 21.989286422729492,\n",
       " 22.233928680419922,\n",
       " 22.175357818603516,\n",
       " 22.13785743713379,\n",
       " 22.168928146362305,\n",
       " 22.203571319580078,\n",
       " 22.5,\n",
       " 22.56035614013672,\n",
       " 22.52964210510254,\n",
       " 22.726428985595703,\n",
       " 23.146785736083984,\n",
       " 23.75535774230957,\n",
       " 23.430713653564453,\n",
       " 23.888214111328125,\n",
       " 23.66535758972168,\n",
       " 23.68642807006836,\n",
       " 24.13142967224121,\n",
       " 24.100000381469727,\n",
       " 24.052499771118164,\n",
       " 23.70964241027832,\n",
       " 23.75857162475586,\n",
       " 24.10607147216797,\n",
       " 23.936786651611328,\n",
       " 24.15250015258789,\n",
       " 24.301429748535156,\n",
       " 23.669286727905273,\n",
       " 23.592500686645508,\n",
       " 23.921070098876953,\n",
       " 24.39214324951172,\n",
       " 24.68857192993164,\n",
       " 24.992143630981445,\n",
       " 25.068214416503906,\n",
       " 25.075000762939453,\n",
       " 24.953571319580078,\n",
       " 25.00321388244629,\n",
       " 24.671070098876953,\n",
       " 24.05500030517578,\n",
       " 23.75642967224121,\n",
       " 24.332857131958008,\n",
       " 23.825000762939453,\n",
       " 23.54964256286621,\n",
       " 23.618213653564453,\n",
       " 23.980356216430664,\n",
       " 23.814285278320312,\n",
       " 23.306785583496094,\n",
       " 22.791786193847656,\n",
       " 22.70892906188965,\n",
       " 22.8896427154541,\n",
       " 22.43214225769043,\n",
       " 22.489643096923828,\n",
       " 22.670000076293945,\n",
       " 23.206785202026367,\n",
       " 23.021785736083984,\n",
       " 22.59428596496582,\n",
       " 21.780000686645508,\n",
       " 22.64392852783203,\n",
       " 21.90571403503418,\n",
       " 22.02964210510254,\n",
       " 21.769285202026367,\n",
       " 21.571428298950195,\n",
       " 21.261428833007812,\n",
       " 21.30500030517578,\n",
       " 20.600000381469727,\n",
       " 20.87928581237793,\n",
       " 20.816070556640625,\n",
       " 19.928571701049805,\n",
       " 19.20535659790039,\n",
       " 19.537857055664062,\n",
       " 19.38678550720215,\n",
       " 19.389286041259766,\n",
       " 19.174285888671875,\n",
       " 18.77214241027832,\n",
       " 18.845714569091797,\n",
       " 20.20464324951172,\n",
       " 20.032499313354492,\n",
       " 20.060714721679688,\n",
       " 20.41071319580078,\n",
       " 21.054643630981445,\n",
       " 20.885000228881836,\n",
       " 20.819286346435547,\n",
       " 21.04857063293457,\n",
       " 20.902856826782227]"
      ]
     },
     "execution_count": 27,
     "metadata": {},
     "output_type": "execute_result"
    }
   ],
   "source": [
    "close_price_array_window[min_index]"
   ]
  },
  {
   "cell_type": "code",
   "execution_count": 28,
   "id": "53d863d6",
   "metadata": {
    "ExecuteTime": {
     "end_time": "2022-04-13T01:08:27.207031Z",
     "start_time": "2022-04-13T01:08:27.015351Z"
    }
   },
   "outputs": [
    {
     "data": {
      "text/plain": [
       "[<matplotlib.lines.Line2D at 0x11c6e4d60>,\n",
       " <matplotlib.lines.Line2D at 0x11c6e4d90>,\n",
       " <matplotlib.lines.Line2D at 0x11c6e4eb0>,\n",
       " <matplotlib.lines.Line2D at 0x11c6f2130>,\n",
       " <matplotlib.lines.Line2D at 0x11c6e4fd0>,\n",
       " <matplotlib.lines.Line2D at 0x11c6f2160>,\n",
       " <matplotlib.lines.Line2D at 0x11c6f2370>]"
      ]
     },
     "execution_count": 28,
     "metadata": {},
     "output_type": "execute_result"
    },
    {
     "data": {
      "image/png": "[encoded data removed]",
      "text/plain": [
       "<Figure size 432x288 with 1 Axes>"
      ]
     },
     "metadata": {
      "needs_background": "light"
     },
     "output_type": "display_data"
    }
   ],
   "source": [
    "plt.plot(days, close_price_array, \n",
    "         [first_day_index] * 175, [i for i in range(0, 175)], \n",
    "         [first_day_index + date_gap] * 175, [i for i in range(0, 175)],\n",
    "         [7000 + min_index*step] * 175, [i for i in range(0,175)],\n",
    "         [7000 + min_index*step + date_gap] * 175, [i for i in range(0,175)],\n",
    "         [i for i in range(7000 + min_index*step, 7000 + min_index*step + date_gap)], [0] * date_gap,\n",
    "         [i for i in range(7000 + min_index*step, 7000 + min_index*step + date_gap)], [175] * date_gap\n",
    "         )"
   ]
  },
  {
   "cell_type": "code",
   "execution_count": 29,
   "id": "6b5ca116",
   "metadata": {
    "ExecuteTime": {
     "end_time": "2022-04-13T01:08:30.154414Z",
     "start_time": "2022-04-13T01:08:30.144961Z"
    }
   },
   "outputs": [],
   "source": [
    "def min_max_norm(x):\n",
    "    min_value = min(x)\n",
    "    max_value = max(x)\n",
    "    x = np.array(x)\n",
    "    return (x - min_value)/(max_value - min_value)"
   ]
  },
  {
   "cell_type": "code",
   "execution_count": 30,
   "id": "47733132",
   "metadata": {
    "ExecuteTime": {
     "end_time": "2022-04-13T01:08:31.450749Z",
     "start_time": "2022-04-13T01:08:31.435012Z"
    }
   },
   "outputs": [],
   "source": [
    "low_price_array_norm = min_max_norm(low_price_array)\n",
    "high_price_array_norm = min_max_norm(high_price_array)\n",
    "open_price_array_norm = min_max_norm(open_price_array)\n",
    "transaction_volume_array_norm = min_max_norm(transaction_volume_array)\n",
    "adjusted_close_price_array_norm = min_max_norm(adjusted_close_price_array)"
   ]
  },
  {
   "cell_type": "code",
   "execution_count": 31,
   "id": "d6f846ba",
   "metadata": {
    "ExecuteTime": {
     "end_time": "2022-04-13T01:08:32.759468Z",
     "start_time": "2022-04-13T01:08:32.748383Z"
    }
   },
   "outputs": [
    {
     "name": "stdout",
     "output_type": "stream",
     "text": [
      "[[1.28347993e-01 4.42511865e-04 4.30949973e-04 6.31981003e-02\n",
      "  4.33270546e-04 3.40809064e-04]\n",
      " [1.21652000e-01 4.05118890e-04 3.97331954e-04 2.36989104e-02\n",
      "  3.96658479e-04 3.12009993e-04]\n",
      " [1.12723000e-01 3.55255959e-04 3.48427418e-04 1.42459064e-02\n",
      "  3.47836836e-04 2.73607447e-04]\n",
      " ...\n",
      " [1.60619995e+02 8.79991715e-01 8.68441453e-01 1.01885017e-02\n",
      "  8.80037389e-01 8.83578738e-01]\n",
      " [1.63979996e+02 8.91886387e-01 8.78847797e-01 1.66204756e-02\n",
      "  8.99065161e-01 9.02066690e-01]\n",
      " [1.65580002e+02 9.10063574e-01 8.95278920e-01 4.25988981e-03\n",
      "  9.05134375e-01 9.10870509e-01]]\n"
     ]
    }
   ],
   "source": [
    "datas = np.stack((close_price_array, low_price_array_norm, open_price_array_norm, transaction_volume_array_norm, high_price_array_norm, adjusted_close_price_array_norm), axis = 1)\n",
    "print(datas)"
   ]
  },
  {
   "cell_type": "code",
   "execution_count": 32,
   "id": "64c16ae0",
   "metadata": {
    "ExecuteTime": {
     "end_time": "2022-04-13T01:08:37.247517Z",
     "start_time": "2022-04-13T01:08:36.320243Z"
    }
   },
   "outputs": [],
   "source": [
    "import pandas as pd\n",
    "df = pd.DataFrame(datas, columns=['close_price', 'low_price', 'open_price', 'transaction_volume', 'high_price', 'adjusted_close_price'])"
   ]
  },
  {
   "cell_type": "code",
   "execution_count": 33,
   "id": "2b4c54ee",
   "metadata": {
    "ExecuteTime": {
     "end_time": "2022-04-13T01:08:38.346146Z",
     "start_time": "2022-04-13T01:08:37.714860Z"
    }
   },
   "outputs": [],
   "source": [
    "sparkdf = spark.createDataFrame(df)"
   ]
  },
  {
   "cell_type": "code",
   "execution_count": 34,
   "id": "f03eabfb",
   "metadata": {
    "ExecuteTime": {
     "end_time": "2022-04-13T01:08:39.394629Z",
     "start_time": "2022-04-13T01:08:38.353898Z"
    }
   },
   "outputs": [
    {
     "name": "stdout",
     "output_type": "stream",
     "text": [
      "+-------------------+--------------------+--------------------+--------------------+--------------------+--------------------+\n",
      "|        close_price|           low_price|          open_price|  transaction_volume|          high_price|adjusted_close_price|\n",
      "+-------------------+--------------------+--------------------+--------------------+--------------------+--------------------+\n",
      "| 0.1283479928970337|4.425118649857621E-4|4.309499733540966E-4| 0.06319810034460305|4.332705461604476E-4|3.408090640789043...|\n",
      "|0.12165199965238571|4.051188899742423E-4|3.973319536627579...|0.023698910354163192|3.966584793977416...|3.120099933641212E-4|\n",
      "|0.11272300034761429| 3.55255959161392E-4|3.484274179329132...| 0.01424590637692948|3.478368364379171E-4|  2.7360744713048E-4|\n",
      "|0.11551299691200256|3.708363619489521E-4|3.606521746245647E-4|0.011647235743341283| 3.63091901598848E-4|2.856068822797584...|\n",
      "|0.11886200308799744|3.895384871866822...|3.789948186252808E-4|0.009896679451260966|3.814034142368107...|3.000105992106614...|\n",
      "|0.12611599266529083|4.300475261129628E-4|4.187252166624452...|0.006552513293286843|4.210665103268898E-4|3.312097701335578E-4|\n",
      "| 0.1322540044784546|4.643245204234778E-4|4.523433587751892...|0.005034358439982706|4.546331288637508E-4|3.576087406402278...|\n",
      "|0.13783499598503113|4.954909013202512E-4|4.829106778532866E-4|0.006326148255517836|4.851431777096778...|3.816120384872087E-4|\n",
      "|0.14508900046348572|5.360000234602878E-4|5.226411575047212E-4|0.006468003679186414|5.248063145377243E-4|4.128109224393738E-4|\n",
      "|0.15848200023174286|6.107916320187367E-4|5.959951658107336E-4|0.007488155449398737| 5.98035988426697E-4|4.704126715009893E-4|\n",
      "|0.16071400046348572|6.232559708915359E-4| 6.08219922502385E-4| 0.01255269589441731|6.102400242602548E-4|4.800131133292606E-4|\n",
      "|  0.156808003783226|6.014433986675762E-4|5.898827466577728E-4|0.009280966548529269|5.888829004445776E-4|4.632133957721184E-4|\n",
      "| 0.1523440033197403|5.765147209219777E-4|5.654333148887401E-4|0.004817048003724459|5.644749102533968E-4|4.440139059734129...|\n",
      "|0.15401799976825714|5.858629542731381E-4|5.715456524274308E-4|0.002918599886968391|5.766789460869546E-4|4.512140426144774E-4|\n",
      "|0.15067000687122345|5.671664875708172E-4| 5.56264686159299E-4|0.004814029803220873|5.553218222712774E-4|4.368140563030796...|\n",
      "| 0.1439729928970337|5.297678124170102E-4|5.195849479282408E-4|0.006084692215230...| 5.18704255882978E-4|4.080109679980599...|\n",
      "|0.13783499598503113|4.954909013202512E-4| 4.85966887429767E-4|0.007503246451916671|4.851431777096778...|3.816120384872087E-4|\n",
      "|0.13504500687122345|4.799105401395691...|4.706859211616352E-4|0.005366360495377...|4.698881125487469...|3.696127263253864E-4|\n",
      "|0.14229899644851685|5.204195790658497E-4|5.073601912365894E-4|0.002897472483443284|5.095512493767934E-4|4.008113643026391...|\n",
      "|  0.141183003783226|5.141874512363281E-4|5.073601912365894E-4|0.003193256132794786|5.065002200494203E-4|3.960115738446002...|\n",
      "+-------------------+--------------------+--------------------+--------------------+--------------------+--------------------+\n",
      "only showing top 20 rows\n",
      "\n"
     ]
    }
   ],
   "source": [
    "sparkdf.show()"
   ]
  },
  {
   "cell_type": "code",
   "execution_count": 35,
   "id": "0f8c7579",
   "metadata": {
    "ExecuteTime": {
     "end_time": "2022-04-13T01:08:47.849686Z",
     "start_time": "2022-04-13T01:08:45.158793Z"
    }
   },
   "outputs": [],
   "source": [
    "from pyspark.ml.regression import LinearRegression\n",
    "from pyspark.ml.feature import VectorAssembler, VectorIndexer\n",
    "assembler = VectorAssembler(inputCols=['low_price', 'open_price', 'transaction_volume', 'high_price', 'adjusted_close_price'], outputCol='features')\n",
    "output = assembler.transform(sparkdf)\n",
    "label_features = output.select(\"features\", 'close_price').toDF('features', 'label')\n",
    "train_data = pd.DataFrame(label_features.toPandas()[0:8000], columns=['features', 'label'])\n",
    "train_data = spark.createDataFrame(train_data)\n",
    "test_data = pd.DataFrame(label_features.toPandas()[8000:], columns=['features', 'label'])\n",
    "test_data = spark.createDataFrame(test_data)\n",
    "lr = LinearRegression()\n",
    "lrModel = lr.fit(train_data)"
   ]
  },
  {
   "cell_type": "code",
   "execution_count": 36,
   "id": "32d5c8e6",
   "metadata": {
    "ExecuteTime": {
     "end_time": "2022-04-13T01:08:48.663359Z",
     "start_time": "2022-04-13T01:08:48.506175Z"
    }
   },
   "outputs": [
    {
     "name": "stdout",
     "output_type": "stream",
     "text": [
      "R2: 0.9499963219779591\n"
     ]
    }
   ],
   "source": [
    "test_result = lrModel.evaluate(test_data)\n",
    "print(\"R2: {}\".format(test_result.r2))"
   ]
  },
  {
   "cell_type": "code",
   "execution_count": 37,
   "id": "5c05b180",
   "metadata": {
    "ExecuteTime": {
     "end_time": "2022-04-13T01:08:49.271120Z",
     "start_time": "2022-04-13T01:08:49.266389Z"
    }
   },
   "outputs": [],
   "source": [
    "test_current_data = df.loc[7000+min_index:7000+min_index+date_gap]"
   ]
  },
  {
   "cell_type": "code",
   "execution_count": 38,
   "id": "6f06a3c1",
   "metadata": {
    "ExecuteTime": {
     "end_time": "2022-04-13T01:08:51.572000Z",
     "start_time": "2022-04-13T01:08:51.481008Z"
    }
   },
   "outputs": [],
   "source": [
    "test_current_data = spark.createDataFrame(test_current_data)"
   ]
  },
  {
   "cell_type": "code",
   "execution_count": 39,
   "id": "afa4af7b",
   "metadata": {
    "ExecuteTime": {
     "end_time": "2022-04-13T01:08:53.541259Z",
     "start_time": "2022-04-13T01:08:53.277340Z"
    }
   },
   "outputs": [
    {
     "name": "stdout",
     "output_type": "stream",
     "text": [
      "R2: 0.976945615403449\n"
     ]
    }
   ],
   "source": [
    "test_current_data = assembler.transform(test_current_data)\n",
    "test_current_data = output.select(\"features\", 'close_price').toDF('features', 'label')\n",
    "test_result = lrModel.evaluate(test_current_data)\n",
    "print(\"R2: {}\".format(test_result.r2))"
   ]
  },
  {
   "cell_type": "code",
   "execution_count": 40,
   "id": "f6878f54",
   "metadata": {
    "ExecuteTime": {
     "end_time": "2022-04-13T01:09:08.295340Z",
     "start_time": "2022-04-13T01:09:08.281122Z"
    }
   },
   "outputs": [],
   "source": [
    "def train_and_test(sparkdf, inputCols, target):\n",
    "    assembler = VectorAssembler(inputCols=inputCols, outputCol='features')\n",
    "    output = assembler.transform(sparkdf)\n",
    "    label_features = output.select('features', target).toDF('features', 'label')\n",
    "    train_data = pd.DataFrame(label_features.toPandas()[0:8000], columns=['features', 'label'])\n",
    "    train_data = spark.createDataFrame(train_data)\n",
    "    test_data = pd.DataFrame(label_features.toPandas()[8000:], columns=['features', 'label'])\n",
    "    test_data = spark.createDataFrame(test_data)\n",
    "    lr = LinearRegression()\n",
    "    lrModel = lr.fit(train_data)\n",
    "    test_result = lrModel.evaluate(test_data)\n",
    "    print(\"R2: {}\".format(test_result.r2))\n",
    "    return test_result.r2"
   ]
  },
  {
   "cell_type": "code",
   "execution_count": 41,
   "id": "e5fa920a",
   "metadata": {
    "ExecuteTime": {
     "end_time": "2022-04-13T01:09:18.380532Z",
     "start_time": "2022-04-13T01:09:12.604263Z"
    }
   },
   "outputs": [
    {
     "name": "stdout",
     "output_type": "stream",
     "text": [
      "R2: 0.9996952899562686\n",
      "R2: 0.9994065577779733\n",
      "R2: -1.5269749623536573\n",
      "R2: 0.999698825250157\n",
      "R2: 0.939374536694559\n"
     ]
    }
   ],
   "source": [
    "test_results = []\n",
    "inputCols = ['low_price', 'open_price', 'transaction_volume', 'high_price', 'adjusted_close_price']\n",
    "target = 'close_price'\n",
    "for i in range(0, 5):\n",
    "    test_results.append(train_and_test(sparkdf, inputCols[i:i+1], target))"
   ]
  },
  {
   "cell_type": "code",
   "execution_count": 42,
   "id": "6164896d",
   "metadata": {
    "ExecuteTime": {
     "end_time": "2022-04-13T01:09:20.720045Z",
     "start_time": "2022-04-13T01:09:20.711528Z"
    }
   },
   "outputs": [],
   "source": [
    "best_determinant = inputCols[test_results.index(max(test_results))]"
   ]
  },
  {
   "cell_type": "code",
   "execution_count": 43,
   "id": "e97adcde",
   "metadata": {
    "ExecuteTime": {
     "end_time": "2022-04-13T01:09:21.357529Z",
     "start_time": "2022-04-13T01:09:21.350216Z"
    }
   },
   "outputs": [
    {
     "data": {
      "text/plain": [
       "'high_price'"
      ]
     },
     "execution_count": 43,
     "metadata": {},
     "output_type": "execute_result"
    }
   ],
   "source": [
    "best_determinant"
   ]
  },
  {
   "cell_type": "code",
   "execution_count": 44,
   "id": "5335b45a",
   "metadata": {
    "ExecuteTime": {
     "end_time": "2022-04-13T01:09:27.996251Z",
     "start_time": "2022-04-13T01:09:23.470847Z"
    }
   },
   "outputs": [
    {
     "name": "stdout",
     "output_type": "stream",
     "text": [
      "R2: 0.9997952049605894\n",
      "R2: 0.9998575466030256\n",
      "R2: 0.9998542793210458\n",
      "R2: 0.9499963219778513\n"
     ]
    }
   ],
   "source": [
    "inputCols = ['low_price', 'open_price', 'transaction_volume', 'high_price', 'adjusted_close_price']\n",
    "determinants = []\n",
    "determinants.append(best_determinant)\n",
    "inputCols.remove(best_determinant)\n",
    "result = max(test_results)\n",
    "for i in range(0, 4):\n",
    "    determinants.append(inputCols[i])\n",
    "    temp_result = train_and_test(sparkdf, determinants, target)\n",
    "    if temp_result < result:\n",
    "        determinants.remove(inputCols[i])"
   ]
  },
  {
   "cell_type": "code",
   "execution_count": 45,
   "id": "27a67d12",
   "metadata": {
    "ExecuteTime": {
     "end_time": "2022-04-13T01:09:30.047871Z",
     "start_time": "2022-04-13T01:09:30.040194Z"
    }
   },
   "outputs": [
    {
     "data": {
      "text/plain": [
       "['high_price', 'low_price', 'open_price', 'transaction_volume']"
      ]
     },
     "execution_count": 45,
     "metadata": {},
     "output_type": "execute_result"
    }
   ],
   "source": [
    "determinants"
   ]
  },
  {
   "cell_type": "code",
   "execution_count": 47,
   "id": "48464e4c",
   "metadata": {
    "ExecuteTime": {
     "end_time": "2022-04-13T01:10:52.421688Z",
     "start_time": "2022-04-13T01:10:52.416192Z"
    }
   },
   "outputs": [
    {
     "name": "stdout",
     "output_type": "stream",
     "text": [
      "root\n",
      " |-- Date: string (nullable = true)\n",
      " |-- Low: double (nullable = true)\n",
      " |-- Open: double (nullable = true)\n",
      " |-- Volume: long (nullable = true)\n",
      " |-- High: double (nullable = true)\n",
      " |-- Close: double (nullable = true)\n",
      " |-- Adjusted Close: double (nullable = true)\n",
      "\n"
     ]
    }
   ],
   "source": [
    "stock_1.printSchema()"
   ]
  },
  {
   "cell_type": "code",
   "execution_count": 62,
   "id": "0dcaf824",
   "metadata": {
    "ExecuteTime": {
     "end_time": "2022-04-13T01:20:36.381369Z",
     "start_time": "2022-04-13T01:20:36.363705Z"
    }
   },
   "outputs": [
    {
     "data": {
      "text/html": [
       "<div>\n",
       "<style scoped>\n",
       "    .dataframe tbody tr th:only-of-type {\n",
       "        vertical-align: middle;\n",
       "    }\n",
       "\n",
       "    .dataframe tbody tr th {\n",
       "        vertical-align: top;\n",
       "    }\n",
       "\n",
       "    .dataframe thead th {\n",
       "        text-align: right;\n",
       "    }\n",
       "</style>\n",
       "<table border=\"1\" class=\"dataframe\">\n",
       "  <thead>\n",
       "    <tr style=\"text-align: right;\">\n",
       "      <th></th>\n",
       "      <th>close_price</th>\n",
       "      <th>high_price</th>\n",
       "      <th>low_price</th>\n",
       "      <th>open_price</th>\n",
       "      <th>transaction_volume</th>\n",
       "    </tr>\n",
       "  </thead>\n",
       "  <tbody>\n",
       "    <tr>\n",
       "      <th>7700</th>\n",
       "      <td>11.617857</td>\n",
       "      <td>0.063350</td>\n",
       "      <td>0.062590</td>\n",
       "      <td>0.061673</td>\n",
       "      <td>0.066479</td>\n",
       "    </tr>\n",
       "    <tr>\n",
       "      <th>7701</th>\n",
       "      <td>11.521786</td>\n",
       "      <td>0.063955</td>\n",
       "      <td>0.064022</td>\n",
       "      <td>0.063332</td>\n",
       "      <td>0.052628</td>\n",
       "    </tr>\n",
       "    <tr>\n",
       "      <th>7702</th>\n",
       "      <td>11.829643</td>\n",
       "      <td>0.064500</td>\n",
       "      <td>0.063172</td>\n",
       "      <td>0.062115</td>\n",
       "      <td>0.075423</td>\n",
       "    </tr>\n",
       "    <tr>\n",
       "      <th>7703</th>\n",
       "      <td>11.655357</td>\n",
       "      <td>0.064785</td>\n",
       "      <td>0.064562</td>\n",
       "      <td>0.064547</td>\n",
       "      <td>0.059260</td>\n",
       "    </tr>\n",
       "    <tr>\n",
       "      <th>7704</th>\n",
       "      <td>11.858571</td>\n",
       "      <td>0.064931</td>\n",
       "      <td>0.064993</td>\n",
       "      <td>0.063807</td>\n",
       "      <td>0.045787</td>\n",
       "    </tr>\n",
       "    <tr>\n",
       "      <th>...</th>\n",
       "      <td>...</td>\n",
       "      <td>...</td>\n",
       "      <td>...</td>\n",
       "      <td>...</td>\n",
       "      <td>...</td>\n",
       "    </tr>\n",
       "    <tr>\n",
       "      <th>8061</th>\n",
       "      <td>20.885000</td>\n",
       "      <td>0.115024</td>\n",
       "      <td>0.115422</td>\n",
       "      <td>0.115049</td>\n",
       "      <td>0.071861</td>\n",
       "    </tr>\n",
       "    <tr>\n",
       "      <th>8062</th>\n",
       "      <td>20.819286</td>\n",
       "      <td>0.114122</td>\n",
       "      <td>0.113859</td>\n",
       "      <td>0.112647</td>\n",
       "      <td>0.070182</td>\n",
       "    </tr>\n",
       "    <tr>\n",
       "      <th>8063</th>\n",
       "      <td>21.048571</td>\n",
       "      <td>0.115772</td>\n",
       "      <td>0.116449</td>\n",
       "      <td>0.115180</td>\n",
       "      <td>0.069351</td>\n",
       "    </tr>\n",
       "    <tr>\n",
       "      <th>8064</th>\n",
       "      <td>20.902857</td>\n",
       "      <td>0.114629</td>\n",
       "      <td>0.115937</td>\n",
       "      <td>0.114509</td>\n",
       "      <td>0.052727</td>\n",
       "    </tr>\n",
       "    <tr>\n",
       "      <th>8065</th>\n",
       "      <td>20.935356</td>\n",
       "      <td>0.115838</td>\n",
       "      <td>0.116499</td>\n",
       "      <td>0.115851</td>\n",
       "      <td>0.049083</td>\n",
       "    </tr>\n",
       "  </tbody>\n",
       "</table>\n",
       "<p>366 rows × 5 columns</p>\n",
       "</div>"
      ],
      "text/plain": [
       "      close_price  high_price  low_price  open_price  transaction_volume\n",
       "7700    11.617857    0.063350   0.062590    0.061673            0.066479\n",
       "7701    11.521786    0.063955   0.064022    0.063332            0.052628\n",
       "7702    11.829643    0.064500   0.063172    0.062115            0.075423\n",
       "7703    11.655357    0.064785   0.064562    0.064547            0.059260\n",
       "7704    11.858571    0.064931   0.064993    0.063807            0.045787\n",
       "...           ...         ...        ...         ...                 ...\n",
       "8061    20.885000    0.115024   0.115422    0.115049            0.071861\n",
       "8062    20.819286    0.114122   0.113859    0.112647            0.070182\n",
       "8063    21.048571    0.115772   0.116449    0.115180            0.069351\n",
       "8064    20.902857    0.114629   0.115937    0.114509            0.052727\n",
       "8065    20.935356    0.115838   0.116499    0.115851            0.049083\n",
       "\n",
       "[366 rows x 5 columns]"
      ]
     },
     "execution_count": 62,
     "metadata": {},
     "output_type": "execute_result"
    }
   ],
   "source": [
    "df[['close_price', 'high_price', 'low_price', 'open_price', 'transaction_volume']].loc[7000 + min_index*step:7000 + min_index*step + date_gap].to_excel('')"
   ]
  },
  {
   "cell_type": "code",
   "execution_count": 72,
   "id": "059d2270",
   "metadata": {
    "ExecuteTime": {
     "end_time": "2022-04-13T01:31:19.047995Z",
     "start_time": "2022-04-13T01:31:19.042905Z"
    }
   },
   "outputs": [],
   "source": [
    "final_train_data = df[['high_price', 'low_price', 'open_price', 'transaction_volume']].loc[7000 + min_index*step:7000 + min_index*step + date_gap]"
   ]
  },
  {
   "cell_type": "code",
   "execution_count": 73,
   "id": "8c2b831e",
   "metadata": {
    "ExecuteTime": {
     "end_time": "2022-04-13T01:31:19.501001Z",
     "start_time": "2022-04-13T01:31:19.491780Z"
    }
   },
   "outputs": [],
   "source": [
    "final_predict_data = df[['close_price']].loc[7000 + min_index*step + date_gap:7000 + min_index*step + date_gap +date_gap]"
   ]
  },
  {
   "cell_type": "code",
   "execution_count": 80,
   "id": "8f69545d",
   "metadata": {
    "ExecuteTime": {
     "end_time": "2022-04-13T01:34:17.315347Z",
     "start_time": "2022-04-13T01:34:17.309969Z"
    }
   },
   "outputs": [],
   "source": [
    "newindex = [i for i in range(0, 366)]\n",
    "final_train_data.index = newindex\n",
    "final_predict_data.index = newindex"
   ]
  },
  {
   "cell_type": "code",
   "execution_count": 81,
   "id": "df2e23b2",
   "metadata": {
    "ExecuteTime": {
     "end_time": "2022-04-13T01:34:20.683375Z",
     "start_time": "2022-04-13T01:34:20.676530Z"
    }
   },
   "outputs": [],
   "source": [
    "final_train_data.insert(loc=0, column='close_price', value=final_predict_data['close_price'])"
   ]
  },
  {
   "cell_type": "code",
   "execution_count": 83,
   "id": "9640a897",
   "metadata": {
    "ExecuteTime": {
     "end_time": "2022-04-13T01:35:15.555017Z",
     "start_time": "2022-04-13T01:35:15.539116Z"
    }
   },
   "outputs": [],
   "source": [
    "final_train_data.to_csv('final_train_data.csv', index=False)"
   ]
  },
  {
   "cell_type": "code",
   "execution_count": null,
   "id": "17c6f324",
   "metadata": {},
   "outputs": [],
   "source": []
  }
 ],
 "metadata": {
  "kernelspec": {
   "display_name": "MLLab_venv",
   "language": "python",
   "name": "mllab_venv"
  },
  "language_info": {
   "codemirror_mode": {
    "name": "ipython",
    "version": 3
   },
   "file_extension": ".py",
   "mimetype": "text/x-python",
   "name": "python",
   "nbconvert_exporter": "python",
   "pygments_lexer": "ipython3",
   "version": "3.9.6"
  }
 },
 "nbformat": 4,
 "nbformat_minor": 5
}
