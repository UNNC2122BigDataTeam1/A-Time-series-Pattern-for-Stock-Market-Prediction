{
 "cells": [
  {
   "cell_type": "code",
   "execution_count": 1,
   "id": "f83aaaae",
   "metadata": {
    "ExecuteTime": {
     "end_time": "2022-04-01T12:11:01.309062Z",
     "start_time": "2022-04-01T12:10:56.717103Z"
    }
   },
   "outputs": [],
   "source": [
    "from pyspark import SparkConf, SparkContext\n",
    "from pyspark.sql import SparkSession\n",
    "spark = SparkSession.builder.master(\"local[*]\").appName(\"test\").getOrCreate()\n",
    "sc = spark.sparkContext"
   ]
  },
  {
   "cell_type": "code",
   "execution_count": 2,
   "id": "88384045",
   "metadata": {
    "ExecuteTime": {
     "end_time": "2022-04-01T12:11:06.299628Z",
     "start_time": "2022-04-01T12:11:01.311815Z"
    }
   },
   "outputs": [],
   "source": [
    "stock_1 = spark.read.csv(\"stock_market_data/sp500/csv/AAPL.csv\", inferSchema=True, header=True)"
   ]
  },
  {
   "cell_type": "code",
   "execution_count": 3,
   "id": "0b32b034",
   "metadata": {
    "ExecuteTime": {
     "end_time": "2022-04-01T12:11:06.342115Z",
     "start_time": "2022-04-01T12:11:06.302686Z"
    }
   },
   "outputs": [
    {
     "name": "stdout",
     "output_type": "stream",
     "text": [
      "root\n",
      " |-- Date: string (nullable = true)\n",
      " |-- Low: double (nullable = true)\n",
      " |-- Open: double (nullable = true)\n",
      " |-- Volume: long (nullable = true)\n",
      " |-- High: double (nullable = true)\n",
      " |-- Close: double (nullable = true)\n",
      " |-- Adjusted Close: double (nullable = true)\n",
      "\n"
     ]
    }
   ],
   "source": [
    "stock_1.printSchema()"
   ]
  },
  {
   "cell_type": "code",
   "execution_count": 4,
   "id": "312908a0",
   "metadata": {
    "ExecuteTime": {
     "end_time": "2022-04-01T12:11:06.432014Z",
     "start_time": "2022-04-01T12:11:06.363291Z"
    }
   },
   "outputs": [],
   "source": [
    "from pyspark.sql import functions as F \n",
    "close_data = stock_1.select(F.collect_list('Close').alias('Close Price'))"
   ]
  },
  {
   "cell_type": "code",
   "execution_count": 5,
   "id": "66255f63",
   "metadata": {
    "ExecuteTime": {
     "end_time": "2022-04-01T12:11:07.117273Z",
     "start_time": "2022-04-01T12:11:06.434761Z"
    }
   },
   "outputs": [],
   "source": [
    "close_price_array = close_data.first()['Close Price']"
   ]
  },
  {
   "cell_type": "code",
   "execution_count": 6,
   "id": "8550a5bb",
   "metadata": {
    "ExecuteTime": {
     "end_time": "2022-04-01T12:11:07.516635Z",
     "start_time": "2022-04-01T12:11:07.119378Z"
    }
   },
   "outputs": [],
   "source": [
    "date_array = stock_1.select(F.collect_list('Date').alias('Date')).first()['Date']"
   ]
  },
  {
   "cell_type": "code",
   "execution_count": 7,
   "id": "f5d8fca6",
   "metadata": {
    "ExecuteTime": {
     "end_time": "2022-04-01T12:11:07.529009Z",
     "start_time": "2022-04-01T12:11:07.521368Z"
    }
   },
   "outputs": [],
   "source": [
    "days = [i for i in range(1, len(date_array) + 1)]"
   ]
  },
  {
   "cell_type": "code",
   "execution_count": 8,
   "id": "c25f90df",
   "metadata": {
    "ExecuteTime": {
     "end_time": "2022-04-01T12:11:08.180713Z",
     "start_time": "2022-04-01T12:11:07.534210Z"
    }
   },
   "outputs": [
    {
     "data": {
      "text/plain": [
       "[<matplotlib.lines.Line2D at 0x1101c8d90>]"
      ]
     },
     "execution_count": 8,
     "metadata": {},
     "output_type": "execute_result"
    },
    {
     "data": {
      "image/png": "[encoded data removed]",
      "text/plain": [
       "<Figure size 432x288 with 1 Axes>"
      ]
     },
     "metadata": {
      "needs_background": "light"
     },
     "output_type": "display_data"
    }
   ],
   "source": [
    "import matplotlib.pyplot as plt\n",
    "plt.plot(days, close_price_array)"
   ]
  },
  {
   "cell_type": "code",
   "execution_count": 9,
   "id": "34268b1c",
   "metadata": {
    "ExecuteTime": {
     "end_time": "2022-04-01T12:11:11.567627Z",
     "start_time": "2022-04-01T12:11:10.623185Z"
    }
   },
   "outputs": [],
   "source": [
    "covid_data = spark.read.csv(\"WHO-COVID-19-global-data.csv\", inferSchema=True, header=True)"
   ]
  },
  {
   "cell_type": "code",
   "execution_count": 10,
   "id": "f072b603",
   "metadata": {
    "ExecuteTime": {
     "end_time": "2022-04-01T12:11:12.385403Z",
     "start_time": "2022-04-01T12:11:12.193024Z"
    }
   },
   "outputs": [],
   "source": [
    "USA_covid_data = covid_data.filter(\"Country_code = 'US'\")"
   ]
  },
  {
   "cell_type": "code",
   "execution_count": 11,
   "id": "cec9f91e",
   "metadata": {
    "ExecuteTime": {
     "end_time": "2022-04-01T12:11:12.829795Z",
     "start_time": "2022-04-01T12:11:12.816712Z"
    }
   },
   "outputs": [
    {
     "name": "stdout",
     "output_type": "stream",
     "text": [
      "root\n",
      " |-- Date_reported: string (nullable = true)\n",
      " |-- Country_code: string (nullable = true)\n",
      " |-- Country: string (nullable = true)\n",
      " |-- WHO_region: string (nullable = true)\n",
      " |-- New_cases: integer (nullable = true)\n",
      " |-- Cumulative_cases: integer (nullable = true)\n",
      " |-- New_deaths: integer (nullable = true)\n",
      " |-- Cumulative_deaths: integer (nullable = true)\n",
      "\n"
     ]
    }
   ],
   "source": [
    "USA_covid_data.printSchema()"
   ]
  },
  {
   "cell_type": "code",
   "execution_count": 14,
   "id": "de691fc0",
   "metadata": {
    "ExecuteTime": {
     "end_time": "2022-04-01T12:11:24.122707Z",
     "start_time": "2022-04-01T12:11:23.352083Z"
    }
   },
   "outputs": [],
   "source": [
    "covid_date_array = USA_covid_data.select(F.collect_list('Date_reported').alias('Date')).first()['Date']"
   ]
  },
  {
   "cell_type": "code",
   "execution_count": 15,
   "id": "5c51f699",
   "metadata": {
    "ExecuteTime": {
     "end_time": "2022-04-01T12:11:25.335274Z",
     "start_time": "2022-04-01T12:11:25.331142Z"
    }
   },
   "outputs": [],
   "source": [
    "def changeDateMode(date):\n",
    "    elements = date.split('-')\n",
    "    return elements[2] + '-' + elements[1] + '-' + elements[0]"
   ]
  },
  {
   "cell_type": "code",
   "execution_count": 16,
   "id": "ac2ffcc2",
   "metadata": {
    "ExecuteTime": {
     "end_time": "2022-04-01T12:11:25.854981Z",
     "start_time": "2022-04-01T12:11:25.851033Z"
    }
   },
   "outputs": [],
   "source": [
    "covid_date_array = list(map(changeDateMode, covid_date_array))"
   ]
  },
  {
   "cell_type": "code",
   "execution_count": 17,
   "id": "479349db",
   "metadata": {
    "ExecuteTime": {
     "end_time": "2022-04-01T12:11:32.022177Z",
     "start_time": "2022-04-01T12:11:32.017578Z"
    }
   },
   "outputs": [],
   "source": [
    "first_day_index = 0\n",
    "for i in range(0, 3):\n",
    "    if covid_date_array[i] in date_array:\n",
    "        first_day_index = date_array.index(covid_date_array[i])\n",
    "        break"
   ]
  },
  {
   "cell_type": "code",
   "execution_count": 18,
   "id": "f59bea0c",
   "metadata": {
    "ExecuteTime": {
     "end_time": "2022-04-01T12:11:32.479790Z",
     "start_time": "2022-04-01T12:11:32.474140Z"
    }
   },
   "outputs": [],
   "source": [
    "final_day_index = 0\n",
    "for i in range(1, 4):\n",
    "    if covid_date_array[len(covid_date_array) - i] in date_array:\n",
    "        final_day_index = date_array.index(covid_date_array[len(covid_date_array) - i])\n",
    "        break"
   ]
  },
  {
   "cell_type": "code",
   "execution_count": 19,
   "id": "1db51954",
   "metadata": {
    "ExecuteTime": {
     "end_time": "2022-04-01T12:11:33.030666Z",
     "start_time": "2022-04-01T12:11:33.023471Z"
    }
   },
   "outputs": [
    {
     "data": {
      "text/plain": [
       "9848"
      ]
     },
     "execution_count": 19,
     "metadata": {},
     "output_type": "execute_result"
    }
   ],
   "source": [
    "first_day_index"
   ]
  },
  {
   "cell_type": "code",
   "execution_count": 20,
   "id": "43a92579",
   "metadata": {
    "ExecuteTime": {
     "end_time": "2022-04-01T12:11:33.529683Z",
     "start_time": "2022-04-01T12:11:33.523779Z"
    }
   },
   "outputs": [
    {
     "data": {
      "text/plain": [
       "10398"
      ]
     },
     "execution_count": 20,
     "metadata": {},
     "output_type": "execute_result"
    }
   ],
   "source": [
    "final_day_index"
   ]
  },
  {
   "cell_type": "code",
   "execution_count": 27,
   "id": "74800f04",
   "metadata": {
    "ExecuteTime": {
     "end_time": "2022-04-01T12:16:17.816601Z",
     "start_time": "2022-04-01T12:16:17.665175Z"
    }
   },
   "outputs": [
    {
     "data": {
      "text/plain": [
       "[<matplotlib.lines.Line2D at 0x117405940>,\n",
       " <matplotlib.lines.Line2D at 0x117405ee0>,\n",
       " <matplotlib.lines.Line2D at 0x116f44280>]"
      ]
     },
     "execution_count": 27,
     "metadata": {},
     "output_type": "execute_result"
    },
    {
     "data": {
      "image/png": "[encoded data removed]",
      "text/plain": [
       "<Figure size 432x288 with 1 Axes>"
      ]
     },
     "metadata": {
      "needs_background": "light"
     },
     "output_type": "display_data"
    }
   ],
   "source": [
    "plt.plot(days, close_price_array, [first_day_index] * 175, [i for i in range(0, 175)], [final_day_index] * 175, [i for i in range(0, 175)])"
   ]
  },
  {
   "cell_type": "code",
   "execution_count": null,
   "id": "cd61fbb8",
   "metadata": {},
   "outputs": [],
   "source": [
    "# def dynamic_warping(list1, list2):\n",
    "    "
   ]
  }
 ],
 "metadata": {
  "kernelspec": {
   "display_name": "MLLab_venv",
   "language": "python",
   "name": "mllab_venv"
  },
  "language_info": {
   "codemirror_mode": {
    "name": "ipython",
    "version": 3
   },
   "file_extension": ".py",
   "mimetype": "text/x-python",
   "name": "python",
   "nbconvert_exporter": "python",
   "pygments_lexer": "ipython3",
   "version": "3.9.6"
  }
 },
 "nbformat": 4,
 "nbformat_minor": 5
}
