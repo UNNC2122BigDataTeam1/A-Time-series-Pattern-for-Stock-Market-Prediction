{
 "cells": [
  {
   "cell_type": "markdown",
   "id": "CUm_bv8gmZYD",
   "metadata": {
    "id": "CUm_bv8gmZYD"
   },
   "source": [
    "# Pattern Retrieval"
   ]
  },
  {
   "cell_type": "code",
   "execution_count": 1,
   "id": "1f19096c",
   "metadata": {
    "ExecuteTime": {
     "end_time": "2022-04-30T08:42:38.729208Z",
     "start_time": "2022-04-30T08:42:12.898031Z"
    },
    "id": "1f19096c"
   },
   "outputs": [],
   "source": [
    "from pyspark import SparkConf, SparkContext\n",
    "from pyspark.sql import SparkSession\n",
    "# run spark on local mode\n",
    "# spark = SparkSession.builder.master(\"local[*]\").appName(\"Big Data\").getOrCreate()\n",
    "\n",
    "# run spark on yarn mode\n",
    "spark = SparkSession.builder.master(\"yarn\").appName(\"Big Data\").getOrCreate()\n",
    "sc = spark.sparkContext"
   ]
  },
  {
   "cell_type": "code",
   "execution_count": 2,
   "id": "b3e1cb75",
   "metadata": {
    "ExecuteTime": {
     "end_time": "2022-04-30T08:42:49.337974Z",
     "start_time": "2022-04-30T08:42:38.732965Z"
    },
    "id": "b3e1cb75"
   },
   "outputs": [],
   "source": [
    "# if run on yarn mode, read the file from hdfs\n",
    "stock_1 = spark.read.csv(\"hdfs:///user/apple/sample_data/AAPL.csv\", inferSchema=True, header=True)\n",
    "\n",
    "# if run on local mode, read the file from local file system\n",
    "# stock_1 = spark.read.csv(\"sample_data/AAPL.csv\", inferSchema=True, header=True)"
   ]
  },
  {
   "cell_type": "code",
   "execution_count": 3,
   "id": "6f330f6e",
   "metadata": {
    "ExecuteTime": {
     "end_time": "2022-04-30T08:42:49.405465Z",
     "start_time": "2022-04-30T08:42:49.341060Z"
    },
    "colab": {
     "base_uri": "https://localhost:8080/"
    },
    "id": "6f330f6e",
    "outputId": "f77532ea-a7b3-4a4e-b546-7d5528be8306"
   },
   "outputs": [
    {
     "name": "stdout",
     "output_type": "stream",
     "text": [
      "root\n",
      " |-- Date: string (nullable = true)\n",
      " |-- Low: double (nullable = true)\n",
      " |-- Open: double (nullable = true)\n",
      " |-- Volume: long (nullable = true)\n",
      " |-- High: double (nullable = true)\n",
      " |-- Close: double (nullable = true)\n",
      " |-- Adjusted Close: double (nullable = true)\n",
      "\n"
     ]
    }
   ],
   "source": [
    "stock_1.printSchema()"
   ]
  },
  {
   "cell_type": "code",
   "execution_count": 4,
   "id": "a57f6b4b",
   "metadata": {
    "ExecuteTime": {
     "end_time": "2022-04-30T08:42:49.634008Z",
     "start_time": "2022-04-30T08:42:49.434046Z"
    },
    "id": "a57f6b4b"
   },
   "outputs": [],
   "source": [
    "from pyspark.sql import functions as F \n",
    "close_data = stock_1.select(F.collect_list('Close').alias('Close Price'))\n",
    "low_data = stock_1.select(F.collect_list('Low').alias('Low Price'))\n",
    "open_data = stock_1.select(F.collect_list('Open').alias('Open Price'))\n",
    "volumn_data = stock_1.select(F.collect_list('Volume').alias('Transaction Volume'))\n",
    "high_data = stock_1.select(F.collect_list('High').alias('High Price'))\n",
    "adjusted_close_data = stock_1.select(F.collect_list('Adjusted Close').alias('Adjusted Close Price'))"
   ]
  },
  {
   "cell_type": "code",
   "execution_count": 5,
   "id": "2d57a9db",
   "metadata": {
    "ExecuteTime": {
     "end_time": "2022-04-30T08:42:53.871612Z",
     "start_time": "2022-04-30T08:42:49.636403Z"
    },
    "id": "2d57a9db"
   },
   "outputs": [],
   "source": [
    "# transform dataframe to array so we can draw the figures\n",
    "close_price_array = close_data.first()['Close Price']\n",
    "low_price_array = low_data.first()['Low Price']\n",
    "open_price_array = open_data.first()['Open Price']\n",
    "transaction_volume_array = volumn_data.first()['Transaction Volume']\n",
    "transaction_volume_array = list(map(float, transaction_volume_array))\n",
    "high_price_array = high_data.first()['High Price']\n",
    "adjusted_close_price_array = adjusted_close_data.first()['Adjusted Close Price']"
   ]
  },
  {
   "cell_type": "code",
   "execution_count": 6,
   "id": "5927b402",
   "metadata": {
    "ExecuteTime": {
     "end_time": "2022-04-30T08:42:54.295716Z",
     "start_time": "2022-04-30T08:42:53.873980Z"
    },
    "id": "5927b402"
   },
   "outputs": [],
   "source": [
    "date_array = stock_1.select(F.collect_list('Date').alias('Date')).first()['Date']"
   ]
  },
  {
   "cell_type": "code",
   "execution_count": 7,
   "id": "1f3007f8",
   "metadata": {
    "ExecuteTime": {
     "end_time": "2022-04-30T08:42:54.305788Z",
     "start_time": "2022-04-30T08:42:54.301233Z"
    },
    "id": "1f3007f8"
   },
   "outputs": [],
   "source": [
    "days = [i for i in range(1, len(date_array) + 1)]"
   ]
  },
  {
   "cell_type": "code",
   "execution_count": 8,
   "id": "2a967acb",
   "metadata": {
    "ExecuteTime": {
     "end_time": "2022-04-30T08:42:55.004500Z",
     "start_time": "2022-04-30T08:42:54.310135Z"
    },
    "colab": {
     "base_uri": "https://localhost:8080/",
     "height": 282
    },
    "id": "2a967acb",
    "outputId": "ed919358-9c97-4460-87b5-bce9674ff8ab"
   },
   "outputs": [
    {
     "data": {
      "text/plain": [
       "[<matplotlib.lines.Line2D at 0x10e385190>]"
      ]
     },
     "execution_count": 8,
     "metadata": {},
     "output_type": "execute_result"
    },
    {
     "data": {
      "image/png": "[encoded data removed]",
      "text/plain": [
       "<Figure size 432x288 with 1 Axes>"
      ]
     },
     "metadata": {
      "needs_background": "light"
     },
     "output_type": "display_data"
    }
   ],
   "source": [
    "import matplotlib.pyplot as plt\n",
    "plt.plot(days, close_price_array)"
   ]
  },
  {
   "cell_type": "code",
   "execution_count": 9,
   "id": "482b9116",
   "metadata": {
    "ExecuteTime": {
     "end_time": "2022-04-30T08:42:57.859442Z",
     "start_time": "2022-04-30T08:42:55.007860Z"
    },
    "id": "482b9116"
   },
   "outputs": [],
   "source": [
    "# yarn mode\n",
    "covid_data = spark.read.csv(\"hdfs:///user/apple/sample_data/WHO-COVID-19-global-data.csv\", inferSchema=True, header=True)\n",
    "\n",
    "# local mode\n",
    "# covid_data = spark.read.csv(\"sample_data/WHO-COVID-19-global-data.csv\", inferSchema=True, header=True)"
   ]
  },
  {
   "cell_type": "code",
   "execution_count": 10,
   "id": "ede76531",
   "metadata": {
    "ExecuteTime": {
     "end_time": "2022-04-30T08:42:58.215089Z",
     "start_time": "2022-04-30T08:42:57.861739Z"
    },
    "id": "ede76531"
   },
   "outputs": [],
   "source": [
    "USA_covid_data = covid_data.filter(\"Country_code = 'US'\")"
   ]
  },
  {
   "cell_type": "code",
   "execution_count": 11,
   "id": "9316bf62",
   "metadata": {
    "ExecuteTime": {
     "end_time": "2022-04-30T08:42:58.247480Z",
     "start_time": "2022-04-30T08:42:58.222913Z"
    },
    "colab": {
     "base_uri": "https://localhost:8080/"
    },
    "id": "9316bf62",
    "outputId": "44c6c674-2672-4835-cdd5-034404390ba0"
   },
   "outputs": [
    {
     "name": "stdout",
     "output_type": "stream",
     "text": [
      "root\n",
      " |-- Date_reported: string (nullable = true)\n",
      " |-- Country_code: string (nullable = true)\n",
      " |-- Country: string (nullable = true)\n",
      " |-- WHO_region: string (nullable = true)\n",
      " |-- New_cases: integer (nullable = true)\n",
      " |-- Cumulative_cases: integer (nullable = true)\n",
      " |-- New_deaths: integer (nullable = true)\n",
      " |-- Cumulative_deaths: integer (nullable = true)\n",
      "\n"
     ]
    }
   ],
   "source": [
    "USA_covid_data.printSchema()"
   ]
  },
  {
   "cell_type": "code",
   "execution_count": 12,
   "id": "170f05e1",
   "metadata": {
    "ExecuteTime": {
     "end_time": "2022-04-30T08:42:58.335595Z",
     "start_time": "2022-04-30T08:42:58.252865Z"
    },
    "id": "170f05e1"
   },
   "outputs": [],
   "source": [
    "from pyspark.sql.functions import udf\n",
    "# user defined function to unify the date mode\n",
    "def changeDateMode(date):\n",
    "    elements = date.split('-')\n",
    "    return elements[2] + '-' + elements[1] + '-' + elements[0]\n",
    "changeDateMode_udf = udf(changeDateMode)\n",
    "USA_covid_data = USA_covid_data.withColumn('Date_reported', changeDateMode_udf(USA_covid_data.Date_reported))"
   ]
  },
  {
   "cell_type": "code",
   "execution_count": 13,
   "id": "c0302c92",
   "metadata": {
    "ExecuteTime": {
     "end_time": "2022-04-30T08:42:58.373408Z",
     "start_time": "2022-04-30T08:42:58.339190Z"
    },
    "id": "c0302c92"
   },
   "outputs": [],
   "source": [
    "USA_covid_data = USA_covid_data.select(['Date_reported', 'New_cases', 'New_deaths'])"
   ]
  },
  {
   "cell_type": "code",
   "execution_count": 14,
   "id": "PRE5Am8B1vye",
   "metadata": {
    "ExecuteTime": {
     "end_time": "2022-04-30T08:42:58.427009Z",
     "start_time": "2022-04-30T08:42:58.381350Z"
    },
    "id": "PRE5Am8B1vye"
   },
   "outputs": [],
   "source": [
    "# user defined function to check negative values\n",
    "def checkNegative(value):\n",
    "    if value < 0:\n",
    "        return -value\n",
    "    else:\n",
    "        return value\n",
    "checkNegative_udf = udf(checkNegative)\n",
    "from pyspark.sql.types import *\n",
    "USA_covid_data = USA_covid_data.withColumn('New_cases', checkNegative_udf(USA_covid_data.New_cases).cast(IntegerType()))\n",
    "USA_covid_data = USA_covid_data.withColumn('New_deaths', checkNegative_udf(USA_covid_data.New_deaths).cast(IntegerType()))"
   ]
  },
  {
   "cell_type": "code",
   "execution_count": 15,
   "id": "e0108ade",
   "metadata": {
    "ExecuteTime": {
     "end_time": "2022-04-30T08:42:58.442771Z",
     "start_time": "2022-04-30T08:42:58.437018Z"
    },
    "colab": {
     "base_uri": "https://localhost:8080/"
    },
    "id": "e0108ade",
    "outputId": "6db47069-b07d-42c7-8342-ad9061de2f18"
   },
   "outputs": [
    {
     "name": "stdout",
     "output_type": "stream",
     "text": [
      "root\n",
      " |-- Date_reported: string (nullable = true)\n",
      " |-- New_cases: integer (nullable = true)\n",
      " |-- New_deaths: integer (nullable = true)\n",
      "\n"
     ]
    }
   ],
   "source": [
    "USA_covid_data.printSchema()"
   ]
  },
  {
   "cell_type": "code",
   "execution_count": 16,
   "id": "29815d3b",
   "metadata": {
    "ExecuteTime": {
     "end_time": "2022-04-30T08:43:01.129289Z",
     "start_time": "2022-04-30T08:42:58.447429Z"
    },
    "id": "29815d3b"
   },
   "outputs": [],
   "source": [
    "covid_date_array = USA_covid_data.select(F.collect_list('Date_reported').alias('Date')).first()['Date']"
   ]
  },
  {
   "cell_type": "code",
   "execution_count": 17,
   "id": "302d0671",
   "metadata": {
    "ExecuteTime": {
     "end_time": "2022-04-30T08:43:01.152984Z",
     "start_time": "2022-04-30T08:43:01.139758Z"
    },
    "colab": {
     "base_uri": "https://localhost:8080/"
    },
    "id": "302d0671",
    "outputId": "4481b153-df0c-4dcb-d089-8beda3bcd7a6"
   },
   "outputs": [
    {
     "name": "stdout",
     "output_type": "stream",
     "text": [
      "9848\n"
     ]
    }
   ],
   "source": [
    "# find the first day the covid data was reported\n",
    "first_day_index = 0\n",
    "for i in range(0, 3):\n",
    "    if covid_date_array[i] in date_array:\n",
    "        first_day_index = date_array.index(covid_date_array[i])\n",
    "        break\n",
    "print(first_day_index)"
   ]
  },
  {
   "cell_type": "code",
   "execution_count": 18,
   "id": "49016208",
   "metadata": {
    "ExecuteTime": {
     "end_time": "2022-04-30T08:43:01.164424Z",
     "start_time": "2022-04-30T08:43:01.157749Z"
    },
    "colab": {
     "base_uri": "https://localhost:8080/"
    },
    "id": "49016208",
    "outputId": "68cfb88c-672b-4e26-d984-9336199f2afa"
   },
   "outputs": [
    {
     "name": "stdout",
     "output_type": "stream",
     "text": [
      "10410\n"
     ]
    }
   ],
   "source": [
    "# find the final day the covid data was reported\n",
    "final_day_index = 0\n",
    "for i in range(1, 4):\n",
    "    if covid_date_array[len(covid_date_array) - i] in date_array:\n",
    "        final_day_index = date_array.index(covid_date_array[len(covid_date_array) - i])\n",
    "        break\n",
    "print(final_day_index)"
   ]
  },
  {
   "cell_type": "code",
   "execution_count": 19,
   "id": "ab7717f9",
   "metadata": {
    "ExecuteTime": {
     "end_time": "2022-04-30T08:43:01.404153Z",
     "start_time": "2022-04-30T08:43:01.167157Z"
    },
    "colab": {
     "base_uri": "https://localhost:8080/",
     "height": 265
    },
    "id": "ab7717f9",
    "outputId": "5c4090b1-bfc3-47c2-84c5-363227a34016"
   },
   "outputs": [
    {
     "data": {
      "image/png": "[encoded data removed]",
      "text/plain": [
       "<Figure size 432x288 with 1 Axes>"
      ]
     },
     "metadata": {
      "needs_background": "light"
     },
     "output_type": "display_data"
    }
   ],
   "source": [
    "plt.plot(days, close_price_array, [first_day_index] * 175, [i for i in range(0, 175)], 'green', [final_day_index] * 175, [i for i in range(0, 175)], 'green')\n",
    "plt.savefig('AAPL_price.png')"
   ]
  },
  {
   "cell_type": "code",
   "execution_count": 20,
   "id": "08dd9fd4",
   "metadata": {
    "ExecuteTime": {
     "end_time": "2022-04-30T08:43:01.416638Z",
     "start_time": "2022-04-30T08:43:01.407993Z"
    },
    "id": "08dd9fd4"
   },
   "outputs": [],
   "source": [
    "import numpy as np\n",
    "# calculate dtw-based distance between two time-series\n",
    "def cal_dtw_distance(ts_a, ts_b):\n",
    "    d=lambda x, y: abs(x - y)\n",
    "\n",
    "    ts_a, ts_b = np.array(ts_a), np.array(ts_b)\n",
    "    M, N = len(ts_a), len(ts_b)\n",
    "    cost = np.inf * np.ones((M, N))\n",
    "\n",
    "    cost[0, 0] = d(ts_a[0], ts_b[0])\n",
    "    for i in range(1, M):\n",
    "        cost[i, 0] = cost[i - 1, 0] + d(ts_a[i], ts_b[0])\n",
    "\n",
    "    for j in range(1, N):\n",
    "        cost[0, j] = cost[0, j - 1] + d(ts_a[0], ts_b[j])\n",
    "\n",
    "    # dynamic programming\n",
    "    for i in range(1, M):\n",
    "        for j in range(1, N):\n",
    "            choices = cost[i - 1, j - 1], cost[i, j - 1], cost[i - 1, j]\n",
    "            cost[i, j] = min(choices) + d(ts_a[i], ts_b[j])\n",
    "\n",
    "    return cost[-1, -1]"
   ]
  },
  {
   "cell_type": "code",
   "execution_count": 21,
   "id": "dd991e48",
   "metadata": {
    "ExecuteTime": {
     "end_time": "2022-04-30T08:43:01.424647Z",
     "start_time": "2022-04-30T08:43:01.419699Z"
    },
    "id": "dd991e48"
   },
   "outputs": [],
   "source": [
    "#define the length of the pattern and define the step in sliding windows\n",
    "date_gap = 365\n",
    "step = 180\n",
    "close_price_array_window = [close_price_array[i:i+date_gap] for i in range(int(first_day_index*0.5), first_day_index - date_gap, step)]"
   ]
  },
  {
   "cell_type": "code",
   "execution_count": 22,
   "id": "291f61e4",
   "metadata": {
    "ExecuteTime": {
     "end_time": "2022-04-30T08:43:01.511388Z",
     "start_time": "2022-04-30T08:43:01.476638Z"
    },
    "id": "291f61e4"
   },
   "outputs": [],
   "source": [
    "# z_score normalization\n",
    "def Z_ScoreNormalization(x,mu,sigma):\n",
    "    x = (x - mu) / sigma;\n",
    "    return x;\n",
    "close_price_array_window_norm = []\n",
    "for i in range(0, len(close_price_array_window)):\n",
    "    mu = np.average(close_price_array_window[i])\n",
    "    sigma = np.std(close_price_array_window[i])\n",
    "    close_price_array_window_norm.append(Z_ScoreNormalization(close_price_array_window[i], mu, sigma))"
   ]
  },
  {
   "cell_type": "code",
   "execution_count": 23,
   "id": "68f2b573",
   "metadata": {
    "ExecuteTime": {
     "end_time": "2022-04-30T08:43:01.535796Z",
     "start_time": "2022-04-30T08:43:01.526995Z"
    },
    "id": "68f2b573"
   },
   "outputs": [],
   "source": [
    "close_price_when_covid = close_price_array[first_day_index: first_day_index + date_gap]\n",
    "close_price_when_covid_norm = Z_ScoreNormalization(close_price_when_covid,\n",
    "                                                  np.average(close_price_when_covid),\n",
    "                                                  np.std(close_price_when_covid))"
   ]
  },
  {
   "cell_type": "code",
   "execution_count": 24,
   "id": "31d6fa4d",
   "metadata": {
    "ExecuteTime": {
     "end_time": "2022-04-30T08:43:08.046690Z",
     "start_time": "2022-04-30T08:43:01.540731Z"
    },
    "id": "31d6fa4d"
   },
   "outputs": [],
   "source": [
    "# using dtw and sliding windows to calculate all dtw-based distance\n",
    "dtws = []\n",
    "for i in range(0, len(close_price_array_window_norm)):\n",
    "    dtw = cal_dtw_distance(close_price_array_window_norm[i], close_price_when_covid_norm)\n",
    "    dtws.append(dtw)"
   ]
  },
  {
   "cell_type": "code",
   "execution_count": 25,
   "id": "f3a5e066",
   "metadata": {
    "ExecuteTime": {
     "end_time": "2022-04-30T08:43:08.054478Z",
     "start_time": "2022-04-30T08:43:08.049267Z"
    },
    "id": "f3a5e066"
   },
   "outputs": [],
   "source": [
    "# sort the dtw distances\n",
    "sort_index = np.argsort(dtws)\n",
    "min_index = sort_index[0]"
   ]
  },
  {
   "cell_type": "code",
   "execution_count": 26,
   "id": "2ed98a60",
   "metadata": {
    "ExecuteTime": {
     "end_time": "2022-04-30T08:43:08.063559Z",
     "start_time": "2022-04-30T08:43:08.057239Z"
    },
    "colab": {
     "base_uri": "https://localhost:8080/"
    },
    "id": "2ed98a60",
    "outputId": "5fe4a96c-3f97-47be-a089-5032d97ec706"
   },
   "outputs": [
    {
     "name": "stdout",
     "output_type": "stream",
     "text": [
      "53.397846477395774\n"
     ]
    }
   ],
   "source": [
    "print(dtws[min_index])"
   ]
  },
  {
   "cell_type": "code",
   "execution_count": 27,
   "id": "83ebe78b",
   "metadata": {
    "ExecuteTime": {
     "end_time": "2022-04-30T08:43:08.291409Z",
     "start_time": "2022-04-30T08:43:08.066960Z"
    },
    "colab": {
     "base_uri": "https://localhost:8080/",
     "height": 265
    },
    "id": "83ebe78b",
    "outputId": "b628510e-4944-47d1-b01b-020209b777a3"
   },
   "outputs": [
    {
     "data": {
      "image/png": "[encoded data removed]",
      "text/plain": [
       "<Figure size 432x288 with 1 Axes>"
      ]
     },
     "metadata": {
      "needs_background": "light"
     },
     "output_type": "display_data"
    }
   ],
   "source": [
    "# visualize the current pattern and two most similar patterns\n",
    "plt.plot(days, close_price_array)\n",
    "plt.plot([first_day_index] * 175, [i for i in range(0, 175)], color='coral')\n",
    "plt.plot([first_day_index + date_gap] * 175, [i for i in range(0, 175)], color='coral')\n",
    "plt.plot([int(first_day_index*0.5) + min_index*step] * 175, [i for i in range(0,175)], color='green')\n",
    "plt.plot([int(first_day_index*0.5) + min_index*step + date_gap] * 175, [i for i in range(0,175)], color='green')\n",
    "plt.plot([int(first_day_index*0.5) + sort_index[1]*step] * 175, [i for i in range(0,175)], color='red')\n",
    "plt.plot([int(first_day_index*0.5) + sort_index[1]*step + date_gap] * 175, [i for i in range(0,175)], color='red')\n",
    "plt.savefig('similar_pattern.png')"
   ]
  },
  {
   "cell_type": "markdown",
   "id": "zi7b-9TTlqCQ",
   "metadata": {
    "id": "zi7b-9TTlqCQ"
   },
   "source": [
    "# Feature Extraction\n"
   ]
  },
  {
   "cell_type": "code",
   "execution_count": 28,
   "id": "c33cb02b",
   "metadata": {
    "ExecuteTime": {
     "end_time": "2022-04-30T08:43:08.298869Z",
     "start_time": "2022-04-30T08:43:08.294659Z"
    },
    "id": "c33cb02b"
   },
   "outputs": [],
   "source": [
    "# min_max normalization\n",
    "def min_max_norm(x):\n",
    "    min_value = min(x)\n",
    "    max_value = max(x)\n",
    "    x = np.array(x)\n",
    "    return (x - min_value)/(max_value - min_value)"
   ]
  },
  {
   "cell_type": "code",
   "execution_count": 29,
   "id": "31cf557c",
   "metadata": {
    "ExecuteTime": {
     "end_time": "2022-04-30T08:43:08.319842Z",
     "start_time": "2022-04-30T08:43:08.301787Z"
    },
    "id": "31cf557c"
   },
   "outputs": [],
   "source": [
    "# get all normalized features for the two similar patterns\n",
    "most_low_price_array_norm = min_max_norm(low_price_array[int(first_day_index*0.5) + (step * sort_index[0]): int(first_day_index*0.5) + (step * sort_index[0]) + date_gap])\n",
    "second_low_price_array_norm = min_max_norm(low_price_array[int(first_day_index*0.5) + (step * sort_index[1]): int(first_day_index*0.5) + (step * sort_index[1]) + date_gap])\n",
    "\n",
    "most_high_price_array_norm = min_max_norm(high_price_array[int(first_day_index*0.5) + (step * sort_index[0]): int(first_day_index*0.5) + (step * sort_index[0]) + date_gap])\n",
    "second_high_price_array_norm = min_max_norm(high_price_array[int(first_day_index*0.5) + (step * sort_index[1]): int(first_day_index*0.5) + (step * sort_index[1]) + date_gap])\n",
    "\n",
    "most_open_price_array_norm = min_max_norm(open_price_array[int(first_day_index*0.5) + (step * sort_index[0]): int(first_day_index*0.5) + (step * sort_index[0]) + date_gap])\n",
    "second_open_price_array_norm = min_max_norm(open_price_array[int(first_day_index*0.5) + (step * sort_index[1]): int(first_day_index*0.5) + (step * sort_index[1]) + date_gap])\n",
    "\n",
    "most_transaction_volume_array_norm = min_max_norm(transaction_volume_array[int(first_day_index*0.5) + (step * sort_index[0]): int(first_day_index*0.5) + (step * sort_index[0]) + date_gap])\n",
    "second_transaction_volume_array_norm = min_max_norm(transaction_volume_array[int(first_day_index*0.5) + (step * sort_index[1]): int(first_day_index*0.5) + (step * sort_index[1]) + date_gap])\n",
    "\n",
    "most_adjusted_close_price_array_norm = min_max_norm(adjusted_close_price_array[int(first_day_index*0.5) + (step * sort_index[0]): int(first_day_index*0.5) + (step * sort_index[0]) + date_gap])\n",
    "second_adjusted_close_price_array_norm = min_max_norm(adjusted_close_price_array[int(first_day_index*0.5) + (step * sort_index[1]): int(first_day_index*0.5) + (step * sort_index[1]) + date_gap])\n",
    "\n",
    "most_close_price_array = close_price_array[int(first_day_index*0.5) + (step * sort_index[0]): int(first_day_index*0.5) + (step * sort_index[0]) + date_gap]\n",
    "second_close_price_array = close_price_array[int(first_day_index*0.5) + (step * sort_index[1]): int(first_day_index*0.5) + (step * sort_index[1]) + date_gap]\n",
    "\n",
    "low_price_array_norm = min_max_norm(low_price_array)\n",
    "high_price_array_norm = min_max_norm(high_price_array)\n",
    "open_price_array_norm = min_max_norm(open_price_array)\n",
    "transaction_volume_array_norm = min_max_norm(transaction_volume_array)\n",
    "adjusted_close_price_array_norm = min_max_norm(adjusted_close_price_array)"
   ]
  },
  {
   "cell_type": "code",
   "execution_count": 30,
   "id": "565af611",
   "metadata": {
    "ExecuteTime": {
     "end_time": "2022-04-30T08:43:08.329706Z",
     "start_time": "2022-04-30T08:43:08.322476Z"
    },
    "id": "565af611"
   },
   "outputs": [],
   "source": [
    "most_datas = np.stack((most_close_price_array, most_low_price_array_norm, most_open_price_array_norm, most_transaction_volume_array_norm, most_high_price_array_norm, most_adjusted_close_price_array_norm), axis = 1)\n",
    "second_datas = np.stack((second_close_price_array, second_low_price_array_norm, second_open_price_array_norm, second_transaction_volume_array_norm, second_high_price_array_norm, second_adjusted_close_price_array_norm), axis = 1)\n",
    "datas = np.stack((close_price_array, low_price_array_norm, open_price_array_norm, transaction_volume_array_norm, high_price_array_norm, adjusted_close_price_array_norm), axis = 1)"
   ]
  },
  {
   "cell_type": "code",
   "execution_count": 31,
   "id": "79d37b80",
   "metadata": {
    "ExecuteTime": {
     "end_time": "2022-04-30T08:43:09.515649Z",
     "start_time": "2022-04-30T08:43:08.335527Z"
    },
    "id": "79d37b80"
   },
   "outputs": [],
   "source": [
    "import pandas as pd\n",
    "most_df = pd.DataFrame(most_datas, columns=['close_price', 'low_price', 'open_price', 'transaction_volume', 'high_price', 'adjusted_close_price'])\n",
    "second_df = pd.DataFrame(second_datas, columns=['close_price', 'low_price', 'open_price', 'transaction_volume', 'high_price', 'adjusted_close_price'])\n",
    "df = pd.DataFrame(datas, columns=['close_price', 'low_price', 'open_price', 'transaction_volume', 'high_price', 'adjusted_close_price'])"
   ]
  },
  {
   "cell_type": "code",
   "execution_count": 32,
   "id": "00230822",
   "metadata": {
    "ExecuteTime": {
     "end_time": "2022-04-30T08:43:09.670654Z",
     "start_time": "2022-04-30T08:43:09.518672Z"
    },
    "id": "00230822"
   },
   "outputs": [],
   "source": [
    "most_sparkdf = spark.createDataFrame(most_df)\n",
    "second_sparkdf = spark.createDataFrame(second_df)"
   ]
  },
  {
   "cell_type": "code",
   "execution_count": 33,
   "id": "a4cd864a",
   "metadata": {
    "ExecuteTime": {
     "end_time": "2022-04-30T08:43:09.900343Z",
     "start_time": "2022-04-30T08:43:09.682898Z"
    },
    "id": "a4cd864a"
   },
   "outputs": [],
   "source": [
    "from pyspark.ml.regression import LinearRegression\n",
    "from pyspark.ml.feature import VectorAssembler, VectorIndexer"
   ]
  },
  {
   "cell_type": "code",
   "execution_count": 34,
   "id": "3153bf30",
   "metadata": {
    "ExecuteTime": {
     "end_time": "2022-04-30T08:43:09.969802Z",
     "start_time": "2022-04-30T08:43:09.903204Z"
    },
    "id": "3153bf30"
   },
   "outputs": [],
   "source": [
    "# the linear regression needed for stepwise regression algorithm\n",
    "def train_and_test(sparkdf, inputCols, target):\n",
    "    assembler = VectorAssembler(inputCols=inputCols, outputCol='features')\n",
    "    output = assembler.transform(sparkdf)\n",
    "    label_features = output.select('features', target).toDF('features', 'label')\n",
    "    train_data = pd.DataFrame(label_features.toPandas()[0:int(date_gap*0.8)], columns=['features', 'label'])\n",
    "    train_data = spark.createDataFrame(train_data)\n",
    "    test_data = pd.DataFrame(label_features.toPandas()[int(date_gap*0.8):], columns=['features', 'label'])\n",
    "    test_data = spark.createDataFrame(test_data)\n",
    "    lr = LinearRegression()\n",
    "    lrModel = lr.fit(train_data)\n",
    "    test_result = lrModel.evaluate(test_data)\n",
    "    print(\"R2: {}\".format(test_result.r2))\n",
    "    return test_result.r2"
   ]
  },
  {
   "cell_type": "code",
   "execution_count": 35,
   "id": "b554affa",
   "metadata": {
    "ExecuteTime": {
     "end_time": "2022-04-30T08:43:15.853439Z",
     "start_time": "2022-04-30T08:43:09.976039Z"
    },
    "colab": {
     "base_uri": "https://localhost:8080/"
    },
    "id": "b554affa",
    "outputId": "73ea37d1-16d6-4ee8-ebf2-aef213429c3b",
    "scrolled": true
   },
   "outputs": [
    {
     "name": "stdout",
     "output_type": "stream",
     "text": [
      "R2: 0.8992395567266209\n",
      "R2: 0.8364136421814379\n",
      "R2: -25.815298066489166\n",
      "R2: 0.9433493201132435\n"
     ]
    }
   ],
   "source": [
    "# get R2 for all determinants of the first similar pattern\n",
    "most_test_results = []\n",
    "inputCols = ['low_price', 'open_price', 'transaction_volume', 'high_price']\n",
    "target = 'close_price'\n",
    "for i in range(len(inputCols)):\n",
    "    most_test_results.append(train_and_test(most_sparkdf, inputCols[i:i+1], target))"
   ]
  },
  {
   "cell_type": "code",
   "execution_count": 36,
   "id": "9f5617f0",
   "metadata": {
    "ExecuteTime": {
     "end_time": "2022-04-30T08:43:19.163411Z",
     "start_time": "2022-04-30T08:43:15.867428Z"
    },
    "colab": {
     "base_uri": "https://localhost:8080/"
    },
    "id": "9f5617f0",
    "outputId": "7cc25713-9a2d-4001-e6bc-899c4eaf57a8"
   },
   "outputs": [
    {
     "name": "stdout",
     "output_type": "stream",
     "text": [
      "R2: 0.8484108393529695\n",
      "R2: 0.5910763203633635\n",
      "R2: -161.26422915477633\n",
      "R2: 0.8224563292983695\n"
     ]
    }
   ],
   "source": [
    "# get R2 for all determinants of the second similar pattern\n",
    "second_test_results = []\n",
    "inputCols = ['low_price', 'open_price', 'transaction_volume', 'high_price']\n",
    "target = 'close_price'\n",
    "for i in range(len(inputCols)):\n",
    "    second_test_results.append(train_and_test(second_sparkdf, inputCols[i:i+1], target))"
   ]
  },
  {
   "cell_type": "code",
   "execution_count": 37,
   "id": "3eb4572c",
   "metadata": {
    "ExecuteTime": {
     "end_time": "2022-04-30T08:43:19.182326Z",
     "start_time": "2022-04-30T08:43:19.173752Z"
    },
    "id": "3eb4572c"
   },
   "outputs": [],
   "source": [
    "# get the best determinant for the first similar pattern\n",
    "most_best_determinant = inputCols[most_test_results.index(max(most_test_results))]"
   ]
  },
  {
   "cell_type": "code",
   "execution_count": 38,
   "id": "5086e643",
   "metadata": {
    "ExecuteTime": {
     "end_time": "2022-04-30T08:43:19.202538Z",
     "start_time": "2022-04-30T08:43:19.191847Z"
    },
    "colab": {
     "base_uri": "https://localhost:8080/",
     "height": 35
    },
    "id": "5086e643",
    "outputId": "aca897a3-1bb7-4070-83d4-95a28e0e8a68"
   },
   "outputs": [
    {
     "data": {
      "text/plain": [
       "'high_price'"
      ]
     },
     "execution_count": 38,
     "metadata": {},
     "output_type": "execute_result"
    }
   ],
   "source": [
    "most_best_determinant"
   ]
  },
  {
   "cell_type": "code",
   "execution_count": 39,
   "id": "a199a92d",
   "metadata": {
    "ExecuteTime": {
     "end_time": "2022-04-30T08:43:19.227572Z",
     "start_time": "2022-04-30T08:43:19.210203Z"
    },
    "id": "a199a92d"
   },
   "outputs": [],
   "source": [
    "# get the best determinant for the second similar pattern\n",
    "second_best_determinant = inputCols[second_test_results.index(max(second_test_results))]"
   ]
  },
  {
   "cell_type": "code",
   "execution_count": 40,
   "id": "6025be2d",
   "metadata": {
    "ExecuteTime": {
     "end_time": "2022-04-30T08:43:19.242507Z",
     "start_time": "2022-04-30T08:43:19.233064Z"
    },
    "colab": {
     "base_uri": "https://localhost:8080/",
     "height": 35
    },
    "id": "6025be2d",
    "outputId": "1d8b985f-1fde-4579-c40d-455274191c6a"
   },
   "outputs": [
    {
     "data": {
      "text/plain": [
       "'low_price'"
      ]
     },
     "execution_count": 40,
     "metadata": {},
     "output_type": "execute_result"
    }
   ],
   "source": [
    "second_best_determinant"
   ]
  },
  {
   "cell_type": "code",
   "execution_count": 41,
   "id": "39f91854",
   "metadata": {
    "ExecuteTime": {
     "end_time": "2022-04-30T08:43:22.173382Z",
     "start_time": "2022-04-30T08:43:19.246426Z"
    },
    "colab": {
     "base_uri": "https://localhost:8080/"
    },
    "id": "39f91854",
    "outputId": "662a6938-b441-47c6-c3d1-f4327ac4a8ed"
   },
   "outputs": [
    {
     "name": "stdout",
     "output_type": "stream",
     "text": [
      "R2: 0.9487211890509566\n",
      "R2: 0.970547254982927\n",
      "R2: 0.9718201134946675\n",
      "R2: 0.9999999999881609\n"
     ]
    }
   ],
   "source": [
    "# stepwise regression for the first similar pattern\n",
    "inputCols = ['low_price', 'open_price', 'transaction_volume', 'high_price', 'adjusted_close_price']\n",
    "most_determinants = []\n",
    "most_determinants.append(most_best_determinant)\n",
    "inputCols.remove(most_best_determinant)\n",
    "most_result = max(most_test_results)\n",
    "for i in range(len(inputCols)):\n",
    "    most_determinants.append(inputCols[i])\n",
    "    temp_result = train_and_test(most_sparkdf, most_determinants, target)\n",
    "    if temp_result < most_result:\n",
    "        most_determinants.remove(inputCols[i])\n",
    "    else:\n",
    "        most_result = temp_result"
   ]
  },
  {
   "cell_type": "code",
   "execution_count": 42,
   "id": "74757df0",
   "metadata": {
    "ExecuteTime": {
     "end_time": "2022-04-30T08:43:22.191479Z",
     "start_time": "2022-04-30T08:43:22.183572Z"
    },
    "colab": {
     "base_uri": "https://localhost:8080/"
    },
    "id": "74757df0",
    "outputId": "1e4f5e3b-c088-4734-a3a9-8201664935ff"
   },
   "outputs": [
    {
     "data": {
      "text/plain": [
       "['high_price',\n",
       " 'low_price',\n",
       " 'open_price',\n",
       " 'transaction_volume',\n",
       " 'adjusted_close_price']"
      ]
     },
     "execution_count": 42,
     "metadata": {},
     "output_type": "execute_result"
    }
   ],
   "source": [
    "most_determinants"
   ]
  },
  {
   "cell_type": "code",
   "execution_count": 43,
   "id": "4e589f68",
   "metadata": {
    "ExecuteTime": {
     "end_time": "2022-04-30T08:43:25.507536Z",
     "start_time": "2022-04-30T08:43:22.200417Z"
    },
    "colab": {
     "base_uri": "https://localhost:8080/"
    },
    "id": "4e589f68",
    "outputId": "d9c2411b-4017-4d2c-94f2-a64fd7233f06"
   },
   "outputs": [
    {
     "name": "stdout",
     "output_type": "stream",
     "text": [
      "R2: 0.8496018646385696\n",
      "R2: 0.8568141113279688\n",
      "R2: 0.9500492854613464\n",
      "R2: 0.9693887981127494\n"
     ]
    }
   ],
   "source": [
    "# stepwise regression for the second similar pattern\n",
    "inputCols = ['low_price', 'open_price', 'transaction_volume', 'high_price', 'adjusted_close_price']\n",
    "second_determinants = []\n",
    "second_determinants.append(second_best_determinant)\n",
    "inputCols.remove(second_best_determinant)\n",
    "second_result = max(second_test_results)\n",
    "for i in range(len(inputCols)):\n",
    "    second_determinants.append(inputCols[i])\n",
    "    temp_result = train_and_test(second_sparkdf, second_determinants, target)\n",
    "    if temp_result < second_result:\n",
    "        second_determinants.remove(inputCols[i])\n",
    "    else:\n",
    "        second_result = temp_result"
   ]
  },
  {
   "cell_type": "code",
   "execution_count": 44,
   "id": "f3a73fd3",
   "metadata": {
    "ExecuteTime": {
     "end_time": "2022-04-30T08:43:25.528969Z",
     "start_time": "2022-04-30T08:43:25.519111Z"
    },
    "colab": {
     "base_uri": "https://localhost:8080/"
    },
    "id": "f3a73fd3",
    "outputId": "9aaa322e-6ef5-43c1-ef55-d838017d5226"
   },
   "outputs": [
    {
     "data": {
      "text/plain": [
       "['low_price',\n",
       " 'open_price',\n",
       " 'transaction_volume',\n",
       " 'high_price',\n",
       " 'adjusted_close_price']"
      ]
     },
     "execution_count": 44,
     "metadata": {},
     "output_type": "execute_result"
    }
   ],
   "source": [
    "second_determinants"
   ]
  },
  {
   "cell_type": "code",
   "execution_count": 45,
   "id": "d3436c9c",
   "metadata": {
    "ExecuteTime": {
     "end_time": "2022-04-30T08:43:25.542860Z",
     "start_time": "2022-04-30T08:43:25.534841Z"
    },
    "colab": {
     "base_uri": "https://localhost:8080/"
    },
    "id": "d3436c9c",
    "outputId": "c3b7733b-689a-46c6-f25e-d389e4387f72"
   },
   "outputs": [
    {
     "data": {
      "text/plain": [
       "['high_price',\n",
       " 'low_price',\n",
       " 'open_price',\n",
       " 'adjusted_close_price',\n",
       " 'transaction_volume']"
      ]
     },
     "execution_count": 45,
     "metadata": {},
     "output_type": "execute_result"
    }
   ],
   "source": [
    "# final determinants by getting intersection\n",
    "determinants = list(set(most_determinants).intersection(set(second_determinants)))\n",
    "determinants"
   ]
  },
  {
   "cell_type": "code",
   "execution_count": 46,
   "id": "2718d273",
   "metadata": {
    "ExecuteTime": {
     "end_time": "2022-04-30T08:43:25.570772Z",
     "start_time": "2022-04-30T08:43:25.547969Z"
    },
    "id": "2718d273"
   },
   "outputs": [],
   "source": [
    "determinants_final = []\n",
    "if 'high_price' in determinants:\n",
    "    determinants_final.append('High')\n",
    "if 'low_price' in determinants:\n",
    "    determinants_final.append('Low')\n",
    "if 'open_price' in determinants:\n",
    "    determinants_final.append('Open')\n",
    "if 'transaction_volume' in determinants:\n",
    "    determinants_final.append('Volume')\n",
    "if 'adjusted_close_price' in determinants:\n",
    "    determinants_final.append('Adjusted Close')\n",
    "determinants_final.append('New_cases')\n",
    "determinants_final.append('New_deaths')\n",
    "determinants_final.append('Close')"
   ]
  },
  {
   "cell_type": "code",
   "execution_count": 47,
   "id": "7751101b",
   "metadata": {
    "ExecuteTime": {
     "end_time": "2022-04-30T08:43:25.689619Z",
     "start_time": "2022-04-30T08:43:25.581103Z"
    },
    "id": "7751101b"
   },
   "outputs": [],
   "source": [
    "# join USA_covid data and stock data by the same date\n",
    "final_data = stock_1.join(USA_covid_data, stock_1.Date==USA_covid_data.Date_reported).select(determinants_final)\n",
    "determinants_final.remove('Close')\n",
    "determinants_final.remove('New_cases')\n",
    "determinants_final.remove('New_deaths')"
   ]
  },
  {
   "cell_type": "markdown",
   "id": "RJuVtZUkl0VW",
   "metadata": {
    "id": "RJuVtZUkl0VW"
   },
   "source": [
    "# Data Preprocess for Prediction (without offset)\n"
   ]
  },
  {
   "cell_type": "code",
   "execution_count": 48,
   "id": "UnQXNY_AoEsQ",
   "metadata": {
    "ExecuteTime": {
     "end_time": "2022-04-30T08:43:28.031474Z",
     "start_time": "2022-04-30T08:43:25.698375Z"
    },
    "id": "UnQXNY_AoEsQ"
   },
   "outputs": [],
   "source": [
    "# seperate the data into three parts\n",
    "final_data_df = final_data.toPandas()\n",
    "interval = (int)(final_data.count()/3)"
   ]
  },
  {
   "cell_type": "code",
   "execution_count": 49,
   "id": "Iq7fqID3nSl7",
   "metadata": {
    "ExecuteTime": {
     "end_time": "2022-04-30T08:43:28.075936Z",
     "start_time": "2022-04-30T08:43:28.033745Z"
    },
    "id": "Iq7fqID3nSl7"
   },
   "outputs": [],
   "source": [
    "# !! only run this code or code above at a time\n",
    "# train data with consideration of COVID\n",
    "final_train_data_feature = final_data_df[determinants_final].loc[0: 0 + interval]\n",
    "final_train_data_target = final_data_df[['Close']].loc[0: 0 + interval]\n",
    "\n",
    "newindex = [i for i in range(0, len(final_train_data_feature))]\n",
    "final_train_data_feature.index = newindex\n",
    "final_train_data_target.index = newindex\n",
    "\n",
    "final_train_data = final_train_data_feature\n",
    "final_train_data.insert(loc=0, column='close_price', value=final_train_data_target['Close'])\n",
    "final_train_data.insert(loc=0, column='index', value=newindex)\n",
    "\n",
    "final_train_data.to_csv('final_train_data.csv', index=False)"
   ]
  },
  {
   "cell_type": "code",
   "execution_count": 50,
   "id": "DU5fzeHQoH37",
   "metadata": {
    "ExecuteTime": {
     "end_time": "2022-04-30T08:43:28.099742Z",
     "start_time": "2022-04-30T08:43:28.078506Z"
    },
    "id": "DU5fzeHQoH37"
   },
   "outputs": [],
   "source": [
    "final_test_data_feature = final_data_df[determinants_final].loc[0 + interval: 0 + 2*interval]\n",
    "final_test_data_target = final_data_df[['Close']].loc[0 + interval: 0 + 2*interval]\n",
    "covid_test_data_New_cases_df = final_data_df[['New_cases']].loc[0 + interval: 0 + 2*interval]\n",
    "covid_test_data_New_deaths_df = final_data_df[['New_deaths']].loc[0 + interval: 0 + 2*interval]\n",
    "covid_test_data_New_cases_array = covid_test_data_New_cases_df.values\n",
    "covid_test_data_New_deaths_array = covid_test_data_New_deaths_df.values\n",
    "\n",
    "final_test_data_feature.index = newindex\n",
    "final_test_data_target.index = newindex\n",
    "\n",
    "final_test_data = final_test_data_feature\n",
    "final_test_data.insert(loc=0, column='close_price', value=final_test_data_target['Close'])\n",
    "final_test_data.insert(loc=0, column='index', value=newindex)\n",
    "final_test_data.to_csv('final_test_data.csv', index=False)"
   ]
  },
  {
   "cell_type": "code",
   "execution_count": 51,
   "id": "1P0xucGwo2hg",
   "metadata": {
    "ExecuteTime": {
     "end_time": "2022-04-30T08:43:28.118449Z",
     "start_time": "2022-04-30T08:43:28.104088Z"
    },
    "id": "1P0xucGwo2hg"
   },
   "outputs": [],
   "source": [
    "final_predict_data_feature = final_data_df[determinants_final].loc[0 + 2*interval:]\n",
    "final_predict_data_target = final_data_df[['Close']].loc[0 + 2*interval:]\n",
    "\n",
    "newindex1 = [i for i in range(0, len(final_predict_data_feature))]\n",
    "final_predict_data_feature.index = newindex1\n",
    "final_predict_data_target.index = newindex1\n",
    "\n",
    "final_predict_data = final_predict_data_feature\n",
    "final_predict_data.insert(loc=0, column='close_price', value=final_predict_data_target['Close'])\n",
    "final_predict_data.insert(loc=0, column='index', value=newindex1)\n",
    "final_predict_data.to_csv('final_predict_data.csv', index=False)"
   ]
  },
  {
   "cell_type": "code",
   "execution_count": 52,
   "id": "hRk5ko1r4kqJ",
   "metadata": {
    "ExecuteTime": {
     "end_time": "2022-04-30T08:43:28.365131Z",
     "start_time": "2022-04-30T08:43:28.120472Z"
    },
    "colab": {
     "base_uri": "https://localhost:8080/",
     "height": 282
    },
    "id": "hRk5ko1r4kqJ",
    "outputId": "c4b7bcd0-a2ba-4135-f75a-a2a9c8854505"
   },
   "outputs": [
    {
     "data": {
      "text/plain": [
       "[<matplotlib.lines.Line2D at 0x10e487160>]"
      ]
     },
     "execution_count": 52,
     "metadata": {},
     "output_type": "execute_result"
    },
    {
     "data": {
      "image/png": "[encoded data removed]",
      "text/plain": [
       "<Figure size 432x288 with 1 Axes>"
      ]
     },
     "metadata": {
      "needs_background": "light"
     },
     "output_type": "display_data"
    }
   ],
   "source": [
    "covid_test_data_New_cases_array = min_max_norm(covid_test_data_New_cases_array)\n",
    "plt.plot(covid_test_data_New_cases_array)"
   ]
  },
  {
   "cell_type": "code",
   "execution_count": 53,
   "id": "j5R9Bp6t4nIb",
   "metadata": {
    "ExecuteTime": {
     "end_time": "2022-04-30T08:43:28.602288Z",
     "start_time": "2022-04-30T08:43:28.370552Z"
    },
    "colab": {
     "base_uri": "https://localhost:8080/",
     "height": 282
    },
    "id": "j5R9Bp6t4nIb",
    "outputId": "c39d2f91-bd1f-433b-adb1-ef81f669a4e4"
   },
   "outputs": [
    {
     "data": {
      "text/plain": [
       "[<matplotlib.lines.Line2D at 0x110bd4220>]"
      ]
     },
     "execution_count": 53,
     "metadata": {},
     "output_type": "execute_result"
    },
    {
     "data": {
      "image/png": "[encoded data removed]",
      "text/plain": [
       "<Figure size 432x288 with 1 Axes>"
      ]
     },
     "metadata": {
      "needs_background": "light"
     },
     "output_type": "display_data"
    }
   ],
   "source": [
    "covid_test_data_New_deaths_array = min_max_norm(covid_test_data_New_deaths_array)\n",
    "plt.plot(covid_test_data_New_deaths_array)"
   ]
  },
  {
   "cell_type": "markdown",
   "id": "0e9c5130",
   "metadata": {
    "id": "0e9c5130"
   },
   "source": [
    "# Prediction with LSTM"
   ]
  },
  {
   "cell_type": "code",
   "execution_count": 54,
   "id": "08a89647",
   "metadata": {
    "ExecuteTime": {
     "end_time": "2022-04-30T08:43:41.110810Z",
     "start_time": "2022-04-30T08:43:28.606497Z"
    },
    "id": "08a89647"
   },
   "outputs": [],
   "source": [
    "import numpy as np\n",
    "from tensorflow.keras.models import Sequential\n",
    "from tensorflow.keras.layers import LSTM\n",
    "from tensorflow.keras.layers import Dense, Dropout\n",
    "import pandas as pd\n",
    "from matplotlib import pyplot as plt\n",
    "from sklearn.preprocessing import MinMaxScaler\n",
    "df=pd.read_csv(\"final_train_data.csv\",index_col=[0])\n",
    "df_test = pd.read_csv(\"final_test_data.csv\", index_col=[0])"
   ]
  },
  {
   "cell_type": "code",
   "execution_count": 55,
   "id": "bdf795ce",
   "metadata": {
    "ExecuteTime": {
     "end_time": "2022-04-30T08:43:41.117796Z",
     "start_time": "2022-04-30T08:43:41.113729Z"
    },
    "id": "bdf795ce"
   },
   "outputs": [],
   "source": [
    "df_for_training = df\n",
    "df_for_testing = df_test"
   ]
  },
  {
   "cell_type": "code",
   "execution_count": 56,
   "id": "ea79bd50",
   "metadata": {
    "ExecuteTime": {
     "end_time": "2022-04-30T08:43:41.140835Z",
     "start_time": "2022-04-30T08:43:41.131981Z"
    },
    "id": "ea79bd50"
   },
   "outputs": [],
   "source": [
    "df_for_training_feature = df_for_training[determinants_final]\n",
    "df_for_training_label = df_for_training[['close_price']]"
   ]
  },
  {
   "cell_type": "code",
   "execution_count": 57,
   "id": "a02efeef",
   "metadata": {
    "ExecuteTime": {
     "end_time": "2022-04-30T08:43:41.168272Z",
     "start_time": "2022-04-30T08:43:41.153514Z"
    },
    "id": "a02efeef"
   },
   "outputs": [],
   "source": [
    "df_for_testing_feature = df_for_testing[determinants_final]\n",
    "df_for_testing_label = df_for_testing[['close_price']]"
   ]
  },
  {
   "cell_type": "code",
   "execution_count": 58,
   "id": "a1977be0",
   "metadata": {
    "ExecuteTime": {
     "end_time": "2022-04-30T08:43:41.187571Z",
     "start_time": "2022-04-30T08:43:41.170508Z"
    },
    "id": "a1977be0"
   },
   "outputs": [],
   "source": [
    "scaler_feature = MinMaxScaler(feature_range=(0,1))\n",
    "scaler_label = MinMaxScaler(feature_range=(0,1))\n",
    "df_for_training_feature_scaled = scaler_feature.fit_transform(df_for_training_feature)\n",
    "df_for_testing_feature_scaled=scaler_feature.transform(df_for_testing_feature)\n",
    "\n",
    "df_for_training_label_scaled = scaler_label.fit_transform(df_for_training_label)\n",
    "df_for_testing_label_scaled = scaler_label.transform(df_for_testing_label)"
   ]
  },
  {
   "cell_type": "code",
   "execution_count": 59,
   "id": "bd035ba9",
   "metadata": {
    "ExecuteTime": {
     "end_time": "2022-04-30T08:43:41.196264Z",
     "start_time": "2022-04-30T08:43:41.192440Z"
    },
    "id": "bd035ba9"
   },
   "outputs": [],
   "source": [
    "df_for_training_scaled = np.column_stack((df_for_training_label_scaled, df_for_training_feature_scaled))\n",
    "df_for_testing_scaled = np.column_stack((df_for_testing_label_scaled, df_for_testing_feature_scaled))"
   ]
  },
  {
   "cell_type": "code",
   "execution_count": 60,
   "id": "b7ca68d4",
   "metadata": {
    "ExecuteTime": {
     "end_time": "2022-04-30T08:43:41.217763Z",
     "start_time": "2022-04-30T08:43:41.199297Z"
    },
    "id": "b7ca68d4"
   },
   "outputs": [],
   "source": [
    "# reads data for prediction\n",
    "df_predict = pd.read_csv('final_predict_data.csv', index_col=[0])\n",
    "df_predict_feature = df_predict[determinants_final]\n",
    "df_predict_label = df_predict[['close_price']]"
   ]
  },
  {
   "cell_type": "code",
   "execution_count": 61,
   "id": "ce6209d8",
   "metadata": {
    "ExecuteTime": {
     "end_time": "2022-04-30T08:43:41.241723Z",
     "start_time": "2022-04-30T08:43:41.226538Z"
    },
    "id": "ce6209d8"
   },
   "outputs": [],
   "source": [
    "# scaling for prediction data\n",
    "df_for_predict_feature_scaled = scaler_feature.transform(df_predict_feature)\n",
    "df_for_predict_label_scaled = scaler_label.transform(df_predict_label)\n",
    "df_for_predict_scaled = np.column_stack((df_for_predict_label_scaled, df_for_predict_feature_scaled))"
   ]
  },
  {
   "cell_type": "code",
   "execution_count": 62,
   "id": "b34594b3",
   "metadata": {
    "ExecuteTime": {
     "end_time": "2022-04-30T08:43:41.263980Z",
     "start_time": "2022-04-30T08:43:41.248691Z"
    },
    "id": "b34594b3"
   },
   "outputs": [],
   "source": [
    "look_back=10 # Timestep of LSTM for each iteration (How many days to look back on)\n",
    "def createXY(dataset,n_past): \n",
    "    dataX = []\n",
    "    dataY = []\n",
    "    for i in range(n_past, len(dataset)):\n",
    "            dataX.append(dataset[i - n_past:i, 1:dataset.shape[1]]) # X items at a given time (t) and Y items at the next time (t + 1)\n",
    "            dataY.append(dataset[i,0]) \n",
    "    return np.array(dataX),np.array(dataY) \n",
    "\n",
    "trainX,trainY=createXY(df_for_training_scaled,look_back) \n",
    "testX,testY=createXY(df_for_testing_scaled,look_back)"
   ]
  },
  {
   "cell_type": "code",
   "execution_count": 63,
   "id": "f5IdrL0Pj-ZP",
   "metadata": {
    "ExecuteTime": {
     "end_time": "2022-04-30T08:43:41.299568Z",
     "start_time": "2022-04-30T08:43:41.267574Z"
    },
    "colab": {
     "base_uri": "https://localhost:8080/"
    },
    "id": "f5IdrL0Pj-ZP",
    "outputId": "046dbde2-f067-487f-b824-3a241f5b6836"
   },
   "outputs": [
    {
     "data": {
      "text/plain": [
       "array([[ 79.68250275],\n",
       "       [ 79.14250183],\n",
       "       [ 79.42500305],\n",
       "       [ 79.80750275],\n",
       "       [ 79.57749939],\n",
       "       [ 77.23750305],\n",
       "       [ 79.42250061],\n",
       "       [ 81.08499908],\n",
       "       [ 80.96749878],\n",
       "       [ 77.37750244],\n",
       "       [ 77.16500092],\n",
       "       [ 79.71250153],\n",
       "       [ 80.36250305],\n",
       "       [ 81.30249786],\n",
       "       [ 80.00749969],\n",
       "       [ 80.38749695],\n",
       "       [ 79.90249634],\n",
       "       [ 81.80000305],\n",
       "       [ 81.21749878],\n",
       "       [ 81.23750305],\n",
       "       [ 79.75      ],\n",
       "       [ 80.90499878],\n",
       "       [ 80.07499695],\n",
       "       [ 78.26249695],\n",
       "       [ 74.54499817],\n",
       "       [ 72.01999664],\n",
       "       [ 73.16249847],\n",
       "       [ 68.37999725],\n",
       "       [ 68.33999634],\n",
       "       [ 74.70249939],\n",
       "       [ 72.33000183],\n",
       "       [ 75.68499756],\n",
       "       [ 73.23000336],\n",
       "       [ 72.25749969],\n",
       "       [ 66.54250336],\n",
       "       [ 71.33499908],\n",
       "       [ 68.85749817],\n",
       "       [ 62.05749893],\n",
       "       [ 69.49250031],\n",
       "       [ 60.55250168],\n",
       "       [ 63.21500015],\n",
       "       [ 61.66749954],\n",
       "       [ 61.19499969],\n",
       "       [ 57.31000137],\n",
       "       [ 56.09249878],\n",
       "       [ 61.72000122],\n",
       "       [ 61.38000107],\n",
       "       [ 64.61000061],\n",
       "       [ 61.93500137],\n",
       "       [ 63.70249939],\n",
       "       [ 63.57249832],\n",
       "       [ 60.22750092],\n",
       "       [ 61.23249817],\n",
       "       [ 60.35250092],\n",
       "       [ 65.61750031],\n",
       "       [ 64.85749817],\n",
       "       [ 66.51750183],\n",
       "       [ 66.99749756],\n",
       "       [ 68.3125    ],\n",
       "       [ 71.76249695],\n",
       "       [ 71.10749817],\n",
       "       [ 71.67250061],\n",
       "       [ 70.69999695],\n",
       "       [ 69.23249817],\n",
       "       [ 67.09249878],\n",
       "       [ 69.02500153],\n",
       "       [ 68.75749969],\n",
       "       [ 70.74250031],\n",
       "       [ 70.79250336],\n",
       "       [ 69.64499664],\n",
       "       [ 71.93250275],\n",
       "       [ 73.44999695],\n",
       "       [ 72.26750183],\n",
       "       [ 73.29000092],\n",
       "       [ 74.38999939],\n",
       "       [ 75.15750122],\n",
       "       [ 75.93499756],\n",
       "       [ 77.53250122],\n",
       "       [ 78.75250244],\n",
       "       [ 77.85250092],\n",
       "       [ 76.91249847],\n",
       "       [ 77.38500214],\n",
       "       [ 76.92749786],\n",
       "       [ 78.73999786],\n",
       "       [ 78.28500366],\n",
       "       [ 79.80750275],\n",
       "       [ 79.21250153],\n",
       "       [ 79.72250366],\n",
       "       [ 79.18250275],\n",
       "       [ 79.52749634],\n",
       "       [ 79.5625    ],\n",
       "       [ 79.48500061],\n",
       "       [ 80.46250153],\n",
       "       [ 80.83499908],\n",
       "       [ 81.27999878],\n",
       "       [ 80.58000183],\n",
       "       [ 82.875     ],\n",
       "       [ 83.36499786],\n",
       "       [ 85.99749756],\n",
       "       [ 88.20999908],\n",
       "       [ 83.97499847],\n",
       "       [ 84.69999695],\n",
       "       [ 85.74749756],\n",
       "       [ 88.01999664],\n",
       "       [ 87.89749908],\n",
       "       [ 87.93250275],\n",
       "       [ 87.43000031],\n",
       "       [ 89.71749878],\n",
       "       [ 91.63249969],\n",
       "       [ 90.01499939],\n",
       "       [ 91.20999908],\n",
       "       [ 88.40750122],\n",
       "       [ 90.44499969],\n",
       "       [ 91.19999695],\n",
       "       [ 91.02749634],\n",
       "       [ 91.02749634],\n",
       "       [ 93.46250153],\n",
       "       [ 93.17250061],\n",
       "       [ 95.34249878],\n",
       "       [ 95.75250244],\n",
       "       [ 95.91999817],\n",
       "       [ 95.47750092],\n",
       "       [ 97.05750275],\n",
       "       [ 97.72499847],\n",
       "       [ 96.52249908],\n",
       "       [ 96.32749939],\n",
       "       [ 98.35749817],\n",
       "       [ 97.        ],\n",
       "       [ 97.27249908],\n",
       "       [ 92.84500122],\n",
       "       [ 92.61499786],\n",
       "       [ 94.80999756],\n",
       "       [ 93.25250244],\n",
       "       [ 95.04000092],\n",
       "       [ 96.19000244],\n",
       "       [106.26000214],\n",
       "       [108.9375    ],\n",
       "       [109.66500092],\n",
       "       [110.0625    ],\n",
       "       [113.90249634],\n",
       "       [111.11250305],\n",
       "       [112.72750092],\n",
       "       [109.375     ],\n",
       "       [113.01000214],\n",
       "       [115.01000214],\n",
       "       [114.90750122],\n",
       "       [114.60749817],\n",
       "       [115.5625    ],\n",
       "       [115.70749664],\n",
       "       [118.27500153],\n",
       "       [124.37000275],\n",
       "       [125.85749817],\n",
       "       [124.82499695],\n",
       "       [126.52249908],\n",
       "       [125.01000214],\n",
       "       [124.80750275],\n",
       "       [129.03999329],\n",
       "       [134.17999268],\n",
       "       [131.3999939 ],\n",
       "       [120.87999725],\n",
       "       [120.95999908],\n",
       "       [112.81999969],\n",
       "       [117.31999969],\n",
       "       [113.48999786],\n",
       "       [112.        ],\n",
       "       [115.36000061],\n",
       "       [115.54000092],\n",
       "       [112.12999725],\n",
       "       [110.33999634],\n",
       "       [106.83999634],\n",
       "       [110.08000183],\n",
       "       [111.80999756],\n",
       "       [107.12000275],\n",
       "       [108.22000122],\n",
       "       [112.27999878],\n",
       "       [114.95999908],\n",
       "       [114.08999634],\n",
       "       [115.80999756]])"
      ]
     },
     "execution_count": 63,
     "metadata": {},
     "output_type": "execute_result"
    }
   ],
   "source": [
    "scaler_label.inverse_transform(trainY.reshape(len(trainY), 1))"
   ]
  },
  {
   "cell_type": "code",
   "execution_count": 64,
   "id": "ed7d5158",
   "metadata": {
    "ExecuteTime": {
     "end_time": "2022-04-30T08:43:41.373555Z",
     "start_time": "2022-04-30T08:43:41.312381Z"
    },
    "colab": {
     "base_uri": "https://localhost:8080/"
    },
    "id": "ed7d5158",
    "outputId": "4d7f52a2-6512-4131-9865-306348b9de90"
   },
   "outputs": [],
   "source": [
    "from tensorflow.keras.wrappers.scikit_learn import KerasRegressor\n",
    "from sklearn.model_selection import GridSearchCV\n",
    "def build_model(optimizer):\n",
    "    grid_model = Sequential()\n",
    "    grid_model.add(LSTM(50,return_sequences=True,input_shape=(10,len(determinants_final))))\n",
    "    grid_model.add(LSTM(50))\n",
    "    grid_model.add(Dropout(0.2))\n",
    "    grid_model.add(Dense(1))\n",
    "\n",
    "    grid_model.compile(loss = 'mse',optimizer = optimizer)\n",
    "    return grid_model\n",
    "\n",
    "grid_model = KerasRegressor(build_fn=build_model,verbose=1,validation_data=(testX,testY))\n",
    "parameters = {'batch_size' : [20, 50],\n",
    "              'epochs' : [100],\n",
    "              'optimizer' : ['adam','Adadelta'] }\n",
    "\n",
    "grid_search  = GridSearchCV(estimator = grid_model,\n",
    "                            param_grid = parameters,\n",
    "                            cv=2,\n",
    "                            n_jobs=-1)"
   ]
  },
  {
   "cell_type": "code",
   "execution_count": 65,
   "id": "5dc7b0f5",
   "metadata": {
    "ExecuteTime": {
     "end_time": "2022-04-30T08:44:50.621031Z",
     "start_time": "2022-04-30T08:43:41.375899Z"
    },
    "colab": {
     "base_uri": "https://localhost:8080/"
    },
    "id": "5dc7b0f5",
    "outputId": "e32243e2-3d9b-42b9-e373-70a8d58026d6"
   },
   "outputs": [
    {
     "name": "stdout",
     "output_type": "stream",
     "text": [
      "Epoch 1/100\n",
      "9/9 [==============================] - 3s 75ms/step - loss: 0.0844 - val_loss: 0.0092\n",
      "Epoch 2/100\n",
      "9/9 [==============================] - 0s 14ms/step - loss: 0.0210 - val_loss: 0.0227\n",
      "Epoch 3/100\n",
      "9/9 [==============================] - 0s 13ms/step - loss: 0.0103 - val_loss: 0.0326\n",
      "Epoch 4/100\n",
      "9/9 [==============================] - 0s 13ms/step - loss: 0.0072 - val_loss: 0.0043\n",
      "Epoch 5/100\n",
      "9/9 [==============================] - 0s 13ms/step - loss: 0.0085 - val_loss: 0.0083\n",
      "Epoch 6/100\n",
      "9/9 [==============================] - 0s 14ms/step - loss: 0.0059 - val_loss: 0.0033\n",
      "Epoch 7/100\n",
      "9/9 [==============================] - 0s 14ms/step - loss: 0.0054 - val_loss: 0.0029\n",
      "Epoch 8/100\n",
      "9/9 [==============================] - 0s 13ms/step - loss: 0.0060 - val_loss: 0.0027\n",
      "Epoch 9/100\n",
      "9/9 [==============================] - 0s 14ms/step - loss: 0.0058 - val_loss: 0.0027\n",
      "Epoch 10/100\n",
      "9/9 [==============================] - 0s 13ms/step - loss: 0.0060 - val_loss: 0.0051\n",
      "Epoch 11/100\n",
      "9/9 [==============================] - 0s 13ms/step - loss: 0.0054 - val_loss: 0.0027\n",
      "Epoch 12/100\n",
      "9/9 [==============================] - 0s 13ms/step - loss: 0.0052 - val_loss: 0.0051\n",
      "Epoch 13/100\n",
      "9/9 [==============================] - 0s 13ms/step - loss: 0.0052 - val_loss: 0.0028\n",
      "Epoch 14/100\n",
      "9/9 [==============================] - 0s 14ms/step - loss: 0.0051 - val_loss: 0.0035\n",
      "Epoch 15/100\n",
      "9/9 [==============================] - 0s 13ms/step - loss: 0.0058 - val_loss: 0.0045\n",
      "Epoch 16/100\n",
      "9/9 [==============================] - 0s 13ms/step - loss: 0.0046 - val_loss: 0.0032\n",
      "Epoch 17/100\n",
      "9/9 [==============================] - 0s 14ms/step - loss: 0.0048 - val_loss: 0.0035\n",
      "Epoch 18/100\n",
      "9/9 [==============================] - 0s 13ms/step - loss: 0.0048 - val_loss: 0.0025\n",
      "Epoch 19/100\n",
      "9/9 [==============================] - 0s 13ms/step - loss: 0.0054 - val_loss: 0.0025\n",
      "Epoch 20/100\n",
      "9/9 [==============================] - 0s 14ms/step - loss: 0.0046 - val_loss: 0.0064\n",
      "Epoch 21/100\n",
      "9/9 [==============================] - 0s 14ms/step - loss: 0.0054 - val_loss: 0.0028\n",
      "Epoch 22/100\n",
      "9/9 [==============================] - 0s 14ms/step - loss: 0.0046 - val_loss: 0.0032\n",
      "Epoch 23/100\n",
      "9/9 [==============================] - 0s 14ms/step - loss: 0.0040 - val_loss: 0.0024\n",
      "Epoch 24/100\n",
      "9/9 [==============================] - 0s 13ms/step - loss: 0.0042 - val_loss: 0.0028\n",
      "Epoch 25/100\n",
      "9/9 [==============================] - 0s 14ms/step - loss: 0.0055 - val_loss: 0.0063\n",
      "Epoch 26/100\n",
      "9/9 [==============================] - 0s 15ms/step - loss: 0.0059 - val_loss: 0.0036\n",
      "Epoch 27/100\n",
      "9/9 [==============================] - 0s 14ms/step - loss: 0.0042 - val_loss: 0.0081\n",
      "Epoch 28/100\n",
      "9/9 [==============================] - 0s 15ms/step - loss: 0.0055 - val_loss: 0.0031\n",
      "Epoch 29/100\n",
      "9/9 [==============================] - 0s 14ms/step - loss: 0.0045 - val_loss: 0.0046\n",
      "Epoch 30/100\n",
      "9/9 [==============================] - 0s 14ms/step - loss: 0.0048 - val_loss: 0.0023\n",
      "Epoch 31/100\n",
      "9/9 [==============================] - 0s 15ms/step - loss: 0.0043 - val_loss: 0.0043\n",
      "Epoch 32/100\n",
      "9/9 [==============================] - 0s 15ms/step - loss: 0.0044 - val_loss: 0.0024\n",
      "Epoch 33/100\n",
      "9/9 [==============================] - 0s 19ms/step - loss: 0.0050 - val_loss: 0.0033\n",
      "Epoch 34/100\n",
      "9/9 [==============================] - 0s 14ms/step - loss: 0.0043 - val_loss: 0.0022\n",
      "Epoch 35/100\n",
      "9/9 [==============================] - 0s 16ms/step - loss: 0.0048 - val_loss: 0.0021\n",
      "Epoch 36/100\n",
      "9/9 [==============================] - 0s 14ms/step - loss: 0.0045 - val_loss: 0.0028\n",
      "Epoch 37/100\n",
      "9/9 [==============================] - 0s 14ms/step - loss: 0.0039 - val_loss: 0.0028\n",
      "Epoch 38/100\n",
      "9/9 [==============================] - 0s 15ms/step - loss: 0.0035 - val_loss: 0.0021\n",
      "Epoch 39/100\n",
      "9/9 [==============================] - 0s 14ms/step - loss: 0.0041 - val_loss: 0.0026\n",
      "Epoch 40/100\n",
      "9/9 [==============================] - 0s 14ms/step - loss: 0.0034 - val_loss: 0.0029\n",
      "Epoch 41/100\n",
      "9/9 [==============================] - 0s 15ms/step - loss: 0.0047 - val_loss: 0.0031\n",
      "Epoch 42/100\n",
      "9/9 [==============================] - 0s 17ms/step - loss: 0.0045 - val_loss: 0.0026\n",
      "Epoch 43/100\n",
      "9/9 [==============================] - 0s 14ms/step - loss: 0.0041 - val_loss: 0.0022\n",
      "Epoch 44/100\n",
      "9/9 [==============================] - 0s 15ms/step - loss: 0.0041 - val_loss: 0.0019\n",
      "Epoch 45/100\n",
      "9/9 [==============================] - 0s 14ms/step - loss: 0.0041 - val_loss: 0.0019\n",
      "Epoch 46/100\n",
      "9/9 [==============================] - 0s 14ms/step - loss: 0.0040 - val_loss: 0.0116\n",
      "Epoch 47/100\n",
      "9/9 [==============================] - 0s 14ms/step - loss: 0.0055 - val_loss: 0.0027\n",
      "Epoch 48/100\n",
      "9/9 [==============================] - 0s 14ms/step - loss: 0.0040 - val_loss: 0.0019\n",
      "Epoch 49/100\n",
      "9/9 [==============================] - 0s 15ms/step - loss: 0.0040 - val_loss: 0.0113\n",
      "Epoch 50/100\n",
      "9/9 [==============================] - 0s 16ms/step - loss: 0.0044 - val_loss: 0.0019\n",
      "Epoch 51/100\n",
      "9/9 [==============================] - 0s 21ms/step - loss: 0.0039 - val_loss: 0.0031\n",
      "Epoch 52/100\n",
      "9/9 [==============================] - 0s 13ms/step - loss: 0.0043 - val_loss: 0.0031\n",
      "Epoch 53/100\n",
      "9/9 [==============================] - 0s 18ms/step - loss: 0.0031 - val_loss: 0.0019\n",
      "Epoch 54/100\n",
      "9/9 [==============================] - 0s 25ms/step - loss: 0.0031 - val_loss: 0.0019\n",
      "Epoch 55/100\n",
      "9/9 [==============================] - 0s 15ms/step - loss: 0.0037 - val_loss: 0.0030\n",
      "Epoch 56/100\n",
      "9/9 [==============================] - 0s 16ms/step - loss: 0.0034 - val_loss: 0.0028\n",
      "Epoch 57/100\n",
      "9/9 [==============================] - 0s 13ms/step - loss: 0.0054 - val_loss: 0.0025\n",
      "Epoch 58/100\n",
      "9/9 [==============================] - 0s 24ms/step - loss: 0.0036 - val_loss: 0.0068\n",
      "Epoch 59/100\n",
      "9/9 [==============================] - 0s 13ms/step - loss: 0.0040 - val_loss: 0.0023\n",
      "Epoch 60/100\n",
      "9/9 [==============================] - 0s 12ms/step - loss: 0.0039 - val_loss: 0.0018\n",
      "Epoch 61/100\n",
      "9/9 [==============================] - 0s 19ms/step - loss: 0.0034 - val_loss: 0.0016\n",
      "Epoch 62/100\n",
      "9/9 [==============================] - 0s 20ms/step - loss: 0.0034 - val_loss: 0.0016\n",
      "Epoch 63/100\n",
      "9/9 [==============================] - 0s 14ms/step - loss: 0.0041 - val_loss: 0.0023\n",
      "Epoch 64/100\n",
      "9/9 [==============================] - 0s 16ms/step - loss: 0.0035 - val_loss: 0.0033\n",
      "Epoch 65/100\n",
      "9/9 [==============================] - 0s 14ms/step - loss: 0.0034 - val_loss: 0.0027\n",
      "Epoch 66/100\n",
      "9/9 [==============================] - 0s 12ms/step - loss: 0.0039 - val_loss: 0.0021\n",
      "Epoch 67/100\n",
      "9/9 [==============================] - 0s 14ms/step - loss: 0.0034 - val_loss: 0.0016\n",
      "Epoch 68/100\n",
      "9/9 [==============================] - 0s 12ms/step - loss: 0.0032 - val_loss: 0.0055\n",
      "Epoch 69/100\n",
      "9/9 [==============================] - 0s 11ms/step - loss: 0.0050 - val_loss: 0.0038\n",
      "Epoch 70/100\n",
      "9/9 [==============================] - 0s 11ms/step - loss: 0.0035 - val_loss: 0.0025\n",
      "Epoch 71/100\n",
      "9/9 [==============================] - 0s 15ms/step - loss: 0.0036 - val_loss: 0.0044\n",
      "Epoch 72/100\n",
      "9/9 [==============================] - 0s 14ms/step - loss: 0.0034 - val_loss: 0.0016\n",
      "Epoch 73/100\n",
      "9/9 [==============================] - 0s 13ms/step - loss: 0.0027 - val_loss: 0.0021\n",
      "Epoch 74/100\n",
      "9/9 [==============================] - 0s 11ms/step - loss: 0.0037 - val_loss: 0.0057\n",
      "Epoch 75/100\n",
      "9/9 [==============================] - 0s 13ms/step - loss: 0.0038 - val_loss: 0.0024\n",
      "Epoch 76/100\n",
      "9/9 [==============================] - 0s 15ms/step - loss: 0.0035 - val_loss: 0.0019\n",
      "Epoch 77/100\n",
      "9/9 [==============================] - 0s 14ms/step - loss: 0.0032 - val_loss: 0.0038\n",
      "Epoch 78/100\n",
      "9/9 [==============================] - 0s 13ms/step - loss: 0.0030 - val_loss: 0.0020\n",
      "Epoch 79/100\n",
      "9/9 [==============================] - 0s 14ms/step - loss: 0.0029 - val_loss: 0.0016\n",
      "Epoch 80/100\n",
      "9/9 [==============================] - 0s 12ms/step - loss: 0.0038 - val_loss: 0.0019\n",
      "Epoch 81/100\n",
      "9/9 [==============================] - 0s 11ms/step - loss: 0.0029 - val_loss: 0.0017\n",
      "Epoch 82/100\n",
      "9/9 [==============================] - 0s 11ms/step - loss: 0.0032 - val_loss: 0.0014\n",
      "Epoch 83/100\n",
      "9/9 [==============================] - 0s 15ms/step - loss: 0.0029 - val_loss: 0.0028\n"
     ]
    },
    {
     "name": "stdout",
     "output_type": "stream",
     "text": [
      "Epoch 84/100\n",
      "9/9 [==============================] - 0s 12ms/step - loss: 0.0031 - val_loss: 0.0022\n",
      "Epoch 85/100\n",
      "9/9 [==============================] - 0s 12ms/step - loss: 0.0039 - val_loss: 0.0043\n",
      "Epoch 86/100\n",
      "9/9 [==============================] - 0s 12ms/step - loss: 0.0038 - val_loss: 0.0047\n",
      "Epoch 87/100\n",
      "9/9 [==============================] - 0s 12ms/step - loss: 0.0028 - val_loss: 0.0016\n",
      "Epoch 88/100\n",
      "9/9 [==============================] - 0s 12ms/step - loss: 0.0031 - val_loss: 0.0018\n",
      "Epoch 89/100\n",
      "9/9 [==============================] - 0s 12ms/step - loss: 0.0026 - val_loss: 0.0014\n",
      "Epoch 90/100\n",
      "9/9 [==============================] - 0s 13ms/step - loss: 0.0029 - val_loss: 0.0036\n",
      "Epoch 91/100\n",
      "9/9 [==============================] - 0s 13ms/step - loss: 0.0031 - val_loss: 0.0014\n",
      "Epoch 92/100\n",
      "9/9 [==============================] - 0s 12ms/step - loss: 0.0034 - val_loss: 0.0029\n",
      "Epoch 93/100\n",
      "9/9 [==============================] - 0s 13ms/step - loss: 0.0029 - val_loss: 0.0028\n",
      "Epoch 94/100\n",
      "9/9 [==============================] - 0s 13ms/step - loss: 0.0031 - val_loss: 0.0018\n",
      "Epoch 95/100\n",
      "9/9 [==============================] - 0s 12ms/step - loss: 0.0025 - val_loss: 0.0018\n",
      "Epoch 96/100\n",
      "9/9 [==============================] - 0s 12ms/step - loss: 0.0026 - val_loss: 0.0016\n",
      "Epoch 97/100\n",
      "9/9 [==============================] - 0s 13ms/step - loss: 0.0031 - val_loss: 0.0016\n",
      "Epoch 98/100\n",
      "9/9 [==============================] - 0s 12ms/step - loss: 0.0026 - val_loss: 0.0013\n",
      "Epoch 99/100\n",
      "9/9 [==============================] - 0s 12ms/step - loss: 0.0029 - val_loss: 0.0014\n",
      "Epoch 100/100\n",
      "9/9 [==============================] - 0s 14ms/step - loss: 0.0036 - val_loss: 0.0046\n"
     ]
    }
   ],
   "source": [
    "grid_search = grid_search.fit(trainX,trainY)"
   ]
  },
  {
   "cell_type": "code",
   "execution_count": 66,
   "id": "d924b227",
   "metadata": {
    "ExecuteTime": {
     "end_time": "2022-04-30T08:44:50.629471Z",
     "start_time": "2022-04-30T08:44:50.623590Z"
    },
    "colab": {
     "base_uri": "https://localhost:8080/"
    },
    "id": "d924b227",
    "outputId": "fcef2221-6c96-4990-cbd0-875ad7243da0"
   },
   "outputs": [
    {
     "data": {
      "text/plain": [
       "{'batch_size': 20, 'epochs': 100, 'optimizer': 'adam'}"
      ]
     },
     "execution_count": 66,
     "metadata": {},
     "output_type": "execute_result"
    }
   ],
   "source": [
    "grid_search.best_params_"
   ]
  },
  {
   "cell_type": "code",
   "execution_count": 67,
   "id": "ed056c55",
   "metadata": {
    "ExecuteTime": {
     "end_time": "2022-04-30T08:44:51.258881Z",
     "start_time": "2022-04-30T08:44:50.643041Z"
    },
    "colab": {
     "base_uri": "https://localhost:8080/"
    },
    "id": "ed056c55",
    "outputId": "f1a4bb0b-b454-49ed-f37a-fb7cf8b602c6"
   },
   "outputs": [
    {
     "name": "stdout",
     "output_type": "stream",
     "text": [
      "prediction\n",
      " [[0.7855294 ]\n",
      " [0.8006533 ]\n",
      " [0.8044927 ]\n",
      " [0.8020438 ]\n",
      " [0.7832035 ]\n",
      " [0.7655634 ]\n",
      " [0.749864  ]\n",
      " [0.7348295 ]\n",
      " [0.7226344 ]\n",
      " [0.7211605 ]\n",
      " [0.73107743]\n",
      " [0.72315323]\n",
      " [0.7200123 ]\n",
      " [0.70221364]\n",
      " [0.6858878 ]\n",
      " [0.6804622 ]\n",
      " [0.69260836]\n",
      " [0.72298115]\n",
      " [0.7471361 ]\n",
      " [0.7630108 ]\n",
      " [0.7609545 ]\n",
      " [0.76719344]\n",
      " [0.7770269 ]\n",
      " [0.78362316]\n",
      " [0.7848474 ]\n",
      " [0.7837946 ]\n",
      " [0.7805359 ]\n",
      " [0.7755038 ]\n",
      " [0.77033293]\n",
      " [0.7583507 ]\n",
      " [0.74396276]\n",
      " [0.7416295 ]\n",
      " [0.7477774 ]\n",
      " [0.75859886]\n",
      " [0.7819703 ]\n",
      " [0.804618  ]\n",
      " [0.8229844 ]\n",
      " [0.8293044 ]\n",
      " [0.83290684]\n",
      " [0.838223  ]\n",
      " [0.83327705]\n",
      " [0.8225122 ]\n",
      " [0.81193733]\n",
      " [0.8126113 ]\n",
      " [0.8287443 ]\n",
      " [0.8484986 ]\n",
      " [0.8692986 ]\n",
      " [0.87428415]\n",
      " [0.8690343 ]\n",
      " [0.8842749 ]\n",
      " [0.8988202 ]\n",
      " [0.9067066 ]\n",
      " [0.9213284 ]\n",
      " [0.930183  ]\n",
      " [0.931906  ]\n",
      " [0.92067325]\n",
      " [0.8949484 ]\n",
      " [0.88070345]\n",
      " [0.85793895]\n",
      " [0.8575521 ]\n",
      " [0.8662857 ]\n",
      " [0.8633815 ]\n",
      " [0.86152595]\n",
      " [0.8670684 ]\n",
      " [0.8693093 ]\n",
      " [0.86361605]\n",
      " [0.8598283 ]\n",
      " [0.8666378 ]\n",
      " [0.9000075 ]\n",
      " [0.93311334]\n",
      " [0.9710105 ]\n",
      " [1.0017728 ]\n",
      " [1.0130218 ]\n",
      " [0.9942463 ]\n",
      " [0.94676524]\n",
      " [0.9109786 ]\n",
      " [0.89658844]\n",
      " [0.8888762 ]\n",
      " [0.8953967 ]\n",
      " [0.90520984]\n",
      " [0.91563267]\n",
      " [0.9220628 ]\n",
      " [0.92566985]\n",
      " [0.9253085 ]\n",
      " [0.92497873]\n",
      " [0.9185142 ]\n",
      " [0.9002814 ]\n",
      " [0.8797529 ]\n",
      " [0.87090456]\n",
      " [0.85690624]\n",
      " [0.8304215 ]\n",
      " [0.8178834 ]\n",
      " [0.8061586 ]\n",
      " [0.79760927]\n",
      " [0.8082751 ]\n",
      " [0.8259104 ]\n",
      " [0.8256249 ]\n",
      " [0.8080163 ]\n",
      " [0.79038346]\n",
      " [0.7698653 ]\n",
      " [0.7673694 ]\n",
      " [0.7702834 ]\n",
      " [0.78286403]\n",
      " [0.7877042 ]\n",
      " [0.7958343 ]\n",
      " [0.81539303]\n",
      " [0.82447124]\n",
      " [0.82050806]\n",
      " [0.8073132 ]\n",
      " [0.8054258 ]\n",
      " [0.81066436]\n",
      " [0.8077463 ]\n",
      " [0.79919744]\n",
      " [0.79064125]\n",
      " [0.7902115 ]\n",
      " [0.7874548 ]\n",
      " [0.7933331 ]\n",
      " [0.8054208 ]\n",
      " [0.8256363 ]\n",
      " [0.84449935]\n",
      " [0.85925263]\n",
      " [0.8786807 ]\n",
      " [0.8990915 ]\n",
      " [0.91271174]\n",
      " [0.9260477 ]\n",
      " [0.93000555]\n",
      " [0.9364076 ]\n",
      " [0.93537587]\n",
      " [0.9333362 ]\n",
      " [0.92588997]\n",
      " [0.9152698 ]\n",
      " [0.90693295]\n",
      " [0.90697837]\n",
      " [0.9125875 ]\n",
      " [0.9190736 ]\n",
      " [0.91980004]\n",
      " [0.92012984]\n",
      " [0.9103603 ]\n",
      " [0.90732986]\n",
      " [0.8885719 ]\n",
      " [0.8710719 ]\n",
      " [0.86123276]\n",
      " [0.86328113]\n",
      " [0.8568731 ]\n",
      " [0.83788925]\n",
      " [0.82002634]\n",
      " [0.82073   ]\n",
      " [0.83168066]\n",
      " [0.8393815 ]\n",
      " [0.84508383]\n",
      " [0.83834606]\n",
      " [0.8412454 ]\n",
      " [0.84625787]\n",
      " [0.85251534]\n",
      " [0.8598062 ]\n",
      " [0.86317   ]\n",
      " [0.86104995]\n",
      " [0.8540611 ]\n",
      " [0.846257  ]\n",
      " [0.84072524]\n",
      " [0.83501214]\n",
      " [0.83594507]\n",
      " [0.8420442 ]\n",
      " [0.8519635 ]\n",
      " [0.86178577]\n",
      " [0.8653313 ]\n",
      " [0.8688614 ]\n",
      " [0.87738794]\n",
      " [0.8874962 ]\n",
      " [0.89371383]\n",
      " [0.9017791 ]\n",
      " [0.90556324]\n",
      " [0.9079664 ]\n",
      " [0.9169438 ]\n",
      " [0.9249084 ]\n",
      " [0.928706  ]\n",
      " [0.92521864]\n",
      " [0.9273199 ]]\n",
      "\n",
      "Prediction Shape- (178, 1)\n"
     ]
    }
   ],
   "source": [
    "# get trained model\n",
    "my_model=grid_search.best_estimator_.model\n",
    "\n",
    "# validation predit with test data\n",
    "prediction=my_model.predict(testX)\n",
    "print(\"prediction\\n\", prediction)\n",
    "print(\"\\nPrediction Shape-\",prediction.shape)"
   ]
  },
  {
   "cell_type": "code",
   "execution_count": 68,
   "id": "2a14a210",
   "metadata": {
    "ExecuteTime": {
     "end_time": "2022-04-30T08:44:51.267709Z",
     "start_time": "2022-04-30T08:44:51.262771Z"
    },
    "id": "2a14a210"
   },
   "outputs": [],
   "source": [
    "# retrive result\n",
    "pred = scaler_label.inverse_transform(prediction)\n",
    "original = scaler_label.inverse_transform(testY.reshape(len(testY), 1))"
   ]
  },
  {
   "cell_type": "code",
   "execution_count": 69,
   "id": "1d6b816b",
   "metadata": {
    "ExecuteTime": {
     "end_time": "2022-04-30T08:44:51.281929Z",
     "start_time": "2022-04-30T08:44:51.270565Z"
    },
    "colab": {
     "base_uri": "https://localhost:8080/"
    },
    "id": "1d6b816b",
    "outputId": "fff60a7f-16e6-4070-9187-7c8621596675"
   },
   "outputs": [
    {
     "name": "stdout",
     "output_type": "stream",
     "text": [
      "Pred Values--  [[117.43252 ]\n",
      " [118.61351 ]\n",
      " [118.913315]\n",
      " [118.72209 ]\n",
      " [117.25089 ]\n",
      " [115.873436]\n",
      " [114.6475  ]\n",
      " [113.473495]\n",
      " [112.52121 ]\n",
      " [112.40612 ]\n",
      " [113.180504]\n",
      " [112.56172 ]\n",
      " [112.31645 ]\n",
      " [110.926605]\n",
      " [109.65176 ]\n",
      " [109.22809 ]\n",
      " [110.17655 ]\n",
      " [112.54829 ]\n",
      " [114.43449 ]\n",
      " [115.6741  ]\n",
      " [115.51353 ]\n",
      " [116.00071 ]\n",
      " [116.76858 ]\n",
      " [117.28367 ]\n",
      " [117.379265]\n",
      " [117.29706 ]\n",
      " [117.042595]\n",
      " [116.64965 ]\n",
      " [116.245865]\n",
      " [115.3102  ]\n",
      " [114.18668 ]\n",
      " [114.004486]\n",
      " [114.484566]\n",
      " [115.32959 ]\n",
      " [117.1546  ]\n",
      " [118.9231  ]\n",
      " [120.35729 ]\n",
      " [120.85081 ]\n",
      " [121.1321  ]\n",
      " [121.54723 ]\n",
      " [121.16102 ]\n",
      " [120.32042 ]\n",
      " [119.49465 ]\n",
      " [119.54728 ]\n",
      " [120.80706 ]\n",
      " [122.349625]\n",
      " [123.97385 ]\n",
      " [124.36316 ]\n",
      " [123.95321 ]\n",
      " [125.14331 ]\n",
      " [126.27912 ]\n",
      " [126.89494 ]\n",
      " [128.03673 ]\n",
      " [128.72816 ]\n",
      " [128.8627  ]\n",
      " [127.985565]\n",
      " [125.97678 ]\n",
      " [124.864426]\n",
      " [123.08681 ]\n",
      " [123.056595]\n",
      " [123.73858 ]\n",
      " [123.511795]\n",
      " [123.366905]\n",
      " [123.7997  ]\n",
      " [123.974686]\n",
      " [123.53011 ]\n",
      " [123.23434 ]\n",
      " [123.766075]\n",
      " [126.371826]\n",
      " [128.95699 ]\n",
      " [131.91628 ]\n",
      " [134.31842 ]\n",
      " [135.19684 ]\n",
      " [133.7307  ]\n",
      " [130.02303 ]\n",
      " [127.22854 ]\n",
      " [126.10484 ]\n",
      " [125.50262 ]\n",
      " [126.01178 ]\n",
      " [126.77807 ]\n",
      " [127.591965]\n",
      " [128.09407 ]\n",
      " [128.37575 ]\n",
      " [128.34753 ]\n",
      " [128.32176 ]\n",
      " [127.81697 ]\n",
      " [126.39322 ]\n",
      " [124.7902  ]\n",
      " [124.09925 ]\n",
      " [123.006165]\n",
      " [120.938034]\n",
      " [119.95896 ]\n",
      " [119.04341 ]\n",
      " [118.37581 ]\n",
      " [119.20868 ]\n",
      " [120.58578 ]\n",
      " [120.563484]\n",
      " [119.18847 ]\n",
      " [117.81156 ]\n",
      " [116.20935 ]\n",
      " [116.01445 ]\n",
      " [116.242004]\n",
      " [117.224396]\n",
      " [117.60235 ]\n",
      " [118.237206]\n",
      " [119.7645  ]\n",
      " [120.47339 ]\n",
      " [120.163925]\n",
      " [119.13356 ]\n",
      " [118.98619 ]\n",
      " [119.39525 ]\n",
      " [119.16738 ]\n",
      " [118.499825]\n",
      " [117.831696]\n",
      " [117.79814 ]\n",
      " [117.58287 ]\n",
      " [118.0419  ]\n",
      " [118.985794]\n",
      " [120.56438 ]\n",
      " [122.03734 ]\n",
      " [123.189384]\n",
      " [124.706474]\n",
      " [126.3003  ]\n",
      " [127.36387 ]\n",
      " [128.40524 ]\n",
      " [128.7143  ]\n",
      " [129.21423 ]\n",
      " [129.13367 ]\n",
      " [128.97438 ]\n",
      " [128.39293 ]\n",
      " [127.56363 ]\n",
      " [126.91262 ]\n",
      " [126.91617 ]\n",
      " [127.35417 ]\n",
      " [127.86065 ]\n",
      " [127.91738 ]\n",
      " [127.94314 ]\n",
      " [127.18025 ]\n",
      " [126.94362 ]\n",
      " [125.47886 ]\n",
      " [124.11232 ]\n",
      " [123.34401 ]\n",
      " [123.50396 ]\n",
      " [123.00358 ]\n",
      " [121.52117 ]\n",
      " [120.126305]\n",
      " [120.181244]\n",
      " [121.036354]\n",
      " [121.6377  ]\n",
      " [122.08298 ]\n",
      " [121.55685 ]\n",
      " [121.78324 ]\n",
      " [122.17466 ]\n",
      " [122.663284]\n",
      " [123.232605]\n",
      " [123.495285]\n",
      " [123.329735]\n",
      " [122.78399 ]\n",
      " [122.17458 ]\n",
      " [121.74263 ]\n",
      " [121.29651 ]\n",
      " [121.36936 ]\n",
      " [121.84562 ]\n",
      " [122.62019 ]\n",
      " [123.38719 ]\n",
      " [123.66405 ]\n",
      " [123.93971 ]\n",
      " [124.60553 ]\n",
      " [125.39485 ]\n",
      " [125.88037 ]\n",
      " [126.51018 ]\n",
      " [126.805664]\n",
      " [126.99332 ]\n",
      " [127.69434 ]\n",
      " [128.31628 ]\n",
      " [128.61282 ]\n",
      " [128.34052 ]\n",
      " [128.50458 ]]\n",
      "\n",
      "Original Values--  [[121.19000244]\n",
      " [120.70999908]\n",
      " [119.01999664]\n",
      " [115.98000336]\n",
      " [117.51000214]\n",
      " [116.87000275]\n",
      " [115.75      ]\n",
      " [115.04000092]\n",
      " [115.05000305]\n",
      " [116.59999847]\n",
      " [111.19999695]\n",
      " [115.31999969]\n",
      " [108.86000061]\n",
      " [108.76999664]\n",
      " [110.44000244]\n",
      " [114.94999695]\n",
      " [119.02999878]\n",
      " [118.69000244]\n",
      " [116.31999969]\n",
      " [115.97000122]\n",
      " [119.48999786]\n",
      " [119.20999908]\n",
      " [119.26000214]\n",
      " [120.30000305]\n",
      " [119.38999939]\n",
      " [118.02999878]\n",
      " [118.63999939]\n",
      " [117.33999634]\n",
      " [113.84999847]\n",
      " [115.16999817]\n",
      " [116.02999878]\n",
      " [116.58999634]\n",
      " [119.05000305]\n",
      " [122.72000122]\n",
      " [123.08000183]\n",
      " [122.94000244]\n",
      " [122.25      ]\n",
      " [123.75      ]\n",
      " [124.37999725]\n",
      " [121.77999878]\n",
      " [123.23999786]\n",
      " [122.41000366]\n",
      " [121.77999878]\n",
      " [127.87999725]\n",
      " [127.80999756]\n",
      " [128.69999695]\n",
      " [126.66000366]\n",
      " [128.22999573]\n",
      " [131.88000488]\n",
      " [130.96000671]\n",
      " [131.97000122]\n",
      " [136.69000244]\n",
      " [134.86999512]\n",
      " [133.72000122]\n",
      " [132.69000244]\n",
      " [129.41000366]\n",
      " [131.00999451]\n",
      " [126.59999847]\n",
      " [130.91999817]\n",
      " [132.05000305]\n",
      " [128.97999573]\n",
      " [128.80000305]\n",
      " [130.88999939]\n",
      " [128.91000366]\n",
      " [127.13999939]\n",
      " [127.83000183]\n",
      " [132.02999878]\n",
      " [136.86999512]\n",
      " [139.07000732]\n",
      " [142.91999817]\n",
      " [143.16000366]\n",
      " [142.05999756]\n",
      " [137.08999634]\n",
      " [131.96000671]\n",
      " [134.13999939]\n",
      " [134.99000549]\n",
      " [133.94000244]\n",
      " [137.38999939]\n",
      " [136.75999451]\n",
      " [136.91000366]\n",
      " [136.00999451]\n",
      " [135.38999939]\n",
      " [135.13000488]\n",
      " [135.36999512]\n",
      " [133.19000244]\n",
      " [130.83999634]\n",
      " [129.71000671]\n",
      " [129.86999512]\n",
      " [126.        ]\n",
      " [125.86000061]\n",
      " [125.34999847]\n",
      " [120.98999786]\n",
      " [121.26000214]\n",
      " [127.79000092]\n",
      " [125.12000275]\n",
      " [122.05999756]\n",
      " [120.12999725]\n",
      " [121.41999817]\n",
      " [116.36000061]\n",
      " [121.08999634]\n",
      " [119.98000336]\n",
      " [121.95999908]\n",
      " [121.02999878]\n",
      " [123.98999786]\n",
      " [125.56999969]\n",
      " [124.76000214]\n",
      " [120.52999878]\n",
      " [119.98999786]\n",
      " [123.38999939]\n",
      " [122.54000092]\n",
      " [120.08999634]\n",
      " [120.58999634]\n",
      " [121.20999908]\n",
      " [121.38999939]\n",
      " [119.90000153]\n",
      " [122.15000153]\n",
      " [123.        ]\n",
      " [125.90000153]\n",
      " [126.20999908]\n",
      " [127.90000153]\n",
      " [130.36000061]\n",
      " [133.        ]\n",
      " [131.24000549]\n",
      " [134.42999268]\n",
      " [132.02999878]\n",
      " [134.5       ]\n",
      " [134.16000366]\n",
      " [134.83999634]\n",
      " [133.11000061]\n",
      " [133.5       ]\n",
      " [131.94000244]\n",
      " [134.32000732]\n",
      " [134.72000122]\n",
      " [134.38999939]\n",
      " [133.58000183]\n",
      " [133.47999573]\n",
      " [131.46000671]\n",
      " [132.53999329]\n",
      " [127.84999847]\n",
      " [128.1000061 ]\n",
      " [129.74000549]\n",
      " [130.21000671]\n",
      " [126.84999847]\n",
      " [125.91000366]\n",
      " [122.76999664]\n",
      " [124.97000122]\n",
      " [127.44999695]\n",
      " [126.26999664]\n",
      " [124.84999847]\n",
      " [124.69000244]\n",
      " [127.30999756]\n",
      " [125.43000031]\n",
      " [127.09999847]\n",
      " [126.90000153]\n",
      " [126.84999847]\n",
      " [125.27999878]\n",
      " [124.61000061]\n",
      " [124.27999878]\n",
      " [125.05999756]\n",
      " [123.54000092]\n",
      " [125.88999939]\n",
      " [125.90000153]\n",
      " [126.73999786]\n",
      " [127.12999725]\n",
      " [126.11000061]\n",
      " [127.34999847]\n",
      " [130.47999573]\n",
      " [129.63999939]\n",
      " [130.1499939 ]\n",
      " [131.78999329]\n",
      " [130.46000671]\n",
      " [132.30000305]\n",
      " [133.97999573]\n",
      " [133.69999695]\n",
      " [133.41000366]\n",
      " [133.11000061]\n",
      " [134.77999878]\n",
      " [136.33000183]]\n"
     ]
    }
   ],
   "source": [
    "print(\"Pred Values-- \" ,pred)\n",
    "print(\"\\nOriginal Values-- \",original)"
   ]
  },
  {
   "cell_type": "code",
   "execution_count": 70,
   "id": "67f8e473",
   "metadata": {
    "ExecuteTime": {
     "end_time": "2022-04-30T08:44:51.501416Z",
     "start_time": "2022-04-30T08:44:51.284988Z"
    },
    "colab": {
     "base_uri": "https://localhost:8080/",
     "height": 295
    },
    "id": "67f8e473",
    "outputId": "a4a96047-1cb3-49cc-807f-3febd6c4fc56"
   },
   "outputs": [
    {
     "data": {
      "image/png": "[encoded data removed]",
      "text/plain": [
       "<Figure size 432x288 with 1 Axes>"
      ]
     },
     "metadata": {
      "needs_background": "light"
     },
     "output_type": "display_data"
    }
   ],
   "source": [
    "import matplotlib.pyplot as plt\n",
    "plt.plot(original, color = 'red', label = 'Real  Stock Price')\n",
    "plt.plot(pred, color = 'blue', label = 'Predicted  Stock Price')\n",
    "plt.title('Stock Price Prediction')\n",
    "plt.xlabel('Time')\n",
    "plt.ylabel('Stock Price')\n",
    "plt.legend()\n",
    "plt.show()"
   ]
  },
  {
   "cell_type": "code",
   "execution_count": 71,
   "id": "6aea18f7",
   "metadata": {
    "ExecuteTime": {
     "end_time": "2022-04-30T08:44:51.702722Z",
     "start_time": "2022-04-30T08:44:51.504507Z"
    },
    "colab": {
     "base_uri": "https://localhost:8080/",
     "height": 295
    },
    "id": "6aea18f7",
    "outputId": "b1edf3b2-299f-4088-fdbe-0c4cedcbd06f",
    "scrolled": true
   },
   "outputs": [
    {
     "data": {
      "image/png": "[encoded data removed]",
      "text/plain": [
       "<Figure size 432x288 with 1 Axes>"
      ]
     },
     "metadata": {
      "needs_background": "light"
     },
     "output_type": "display_data"
    }
   ],
   "source": [
    "original_norm = min_max_norm(original)\n",
    "pred_norm = min_max_norm(pred)\n",
    "plt.plot(original_norm, color = 'red', label = 'Real Stock Price')\n",
    "plt.plot(pred_norm, color = 'blue', label = 'Predicted Stock Price')\n",
    "plt.plot(covid_test_data_New_deaths_array[10:], color = 'green', label = 'New Deaths')\n",
    "plt.plot(covid_test_data_New_cases_array[10:], color = 'black', label = 'New Cases')\n",
    "plt.title('Comparision')\n",
    "plt.xlabel('Time')\n",
    "plt.ylabel('Norm Value')\n",
    "plt.legend()\n",
    "plt.show()"
   ]
  },
  {
   "cell_type": "code",
   "execution_count": 72,
   "id": "82e237ee",
   "metadata": {
    "ExecuteTime": {
     "end_time": "2022-04-30T08:44:51.964922Z",
     "start_time": "2022-04-30T08:44:51.706329Z"
    },
    "colab": {
     "base_uri": "https://localhost:8080/",
     "height": 265
    },
    "id": "82e237ee",
    "outputId": "92f0ea37-966f-4c1f-fbd4-b77e45000c42"
   },
   "outputs": [
    {
     "data": {
      "image/png": "[encoded data removed]",
      "text/plain": [
       "<Figure size 432x288 with 1 Axes>"
      ]
     },
     "metadata": {
      "needs_background": "light"
     },
     "output_type": "display_data"
    }
   ],
   "source": [
    "plt.plot(pred_norm, label=\"Predicted Stock Price\")\n",
    "plt.plot(covid_test_data_New_deaths_array[10:], label=\"New Deaths\")\n",
    "plt.legend()\n",
    "plt.savefig('death_pred.png')"
   ]
  },
  {
   "cell_type": "code",
   "execution_count": 73,
   "id": "35484ce7",
   "metadata": {
    "ExecuteTime": {
     "end_time": "2022-04-30T08:44:52.369593Z",
     "start_time": "2022-04-30T08:44:51.977105Z"
    },
    "colab": {
     "base_uri": "https://localhost:8080/",
     "height": 265
    },
    "id": "35484ce7",
    "outputId": "3e9d210c-c250-4bab-c261-19515878d33c"
   },
   "outputs": [
    {
     "data": {
      "image/png": "[encoded data removed]",
      "text/plain": [
       "<Figure size 432x288 with 1 Axes>"
      ]
     },
     "metadata": {
      "needs_background": "light"
     },
     "output_type": "display_data"
    }
   ],
   "source": [
    "plt.plot(pred_norm, label=\"Predicted Stock Price\")\n",
    "plt.plot(covid_test_data_New_cases_array[10:], label=\"New C\")\n",
    "plt.savefig('case_pred.png')"
   ]
  },
  {
   "cell_type": "code",
   "execution_count": 74,
   "id": "d45f8303",
   "metadata": {
    "ExecuteTime": {
     "end_time": "2022-04-30T08:44:52.392746Z",
     "start_time": "2022-04-30T08:44:52.374620Z"
    },
    "colab": {
     "base_uri": "https://localhost:8080/"
    },
    "id": "d45f8303",
    "outputId": "beb4e57f-0139-4d88-a277-d21a56895a82"
   },
   "outputs": [
    {
     "name": "stdout",
     "output_type": "stream",
     "text": [
      "R-Squared: [0.83836481]\n"
     ]
    }
   ],
   "source": [
    "import math\n",
    "def computeCorrelation(X, Y):\n",
    "    xBar = np.mean(X)\n",
    "    yBar = np.mean(Y)\n",
    "    SSR = 0\n",
    "    varX = 0\n",
    "    varY = 0\n",
    "    for i in range(0 , len(X)):\n",
    "        diffXXBar = X[i] - xBar\n",
    "        diffYYBar = Y[i] - yBar\n",
    "        SSR += (diffXXBar * diffYYBar)\n",
    "        varX +=  diffXXBar**2\n",
    "        varY += diffYYBar**2\n",
    "    \n",
    "    SST = math.sqrt(varX * varY)\n",
    "    \n",
    "    print (\"R-Squared:\", (SSR / SST)**2)\n",
    "\n",
    "computeCorrelation(pred, original)"
   ]
  },
  {
   "cell_type": "markdown",
   "id": "g0qPRap8rCsK",
   "metadata": {
    "id": "g0qPRap8rCsK"
   },
   "source": [
    "### Prediction"
   ]
  },
  {
   "cell_type": "code",
   "execution_count": 75,
   "id": "HQvATW312pUP",
   "metadata": {
    "ExecuteTime": {
     "end_time": "2022-04-30T08:44:52.412471Z",
     "start_time": "2022-04-30T08:44:52.397436Z"
    },
    "id": "HQvATW312pUP"
   },
   "outputs": [],
   "source": [
    "predX,predY=createXY(df_for_predict_scaled,10)"
   ]
  },
  {
   "cell_type": "code",
   "execution_count": 76,
   "id": "f3b327ef",
   "metadata": {
    "ExecuteTime": {
     "end_time": "2022-04-30T08:44:52.569888Z",
     "start_time": "2022-04-30T08:44:52.415058Z"
    },
    "id": "f3b327ef"
   },
   "outputs": [],
   "source": [
    "# run prediciton\n",
    "predictionResult=my_model.predict(predX)\n",
    "\n",
    "predInversed = scaler_label.inverse_transform(predictionResult)\n",
    "originalInversed = scaler_label.inverse_transform(predY.reshape(len(predY), 1))"
   ]
  },
  {
   "cell_type": "code",
   "execution_count": 77,
   "id": "J2gkzdW-54lR",
   "metadata": {
    "ExecuteTime": {
     "end_time": "2022-04-30T08:44:52.788522Z",
     "start_time": "2022-04-30T08:44:52.577871Z"
    },
    "id": "J2gkzdW-54lR"
   },
   "outputs": [
    {
     "data": {
      "image/png": "[encoded data removed]",
      "text/plain": [
       "<Figure size 432x288 with 1 Axes>"
      ]
     },
     "metadata": {
      "needs_background": "light"
     },
     "output_type": "display_data"
    }
   ],
   "source": [
    "plt.plot(predInversed, color = 'blue', label = 'Predicted  Stock Price')\n",
    "plt.title('Stock Price Prediction')\n",
    "plt.xlabel('Time')\n",
    "plt.ylabel('Stock Price')\n",
    "plt.legend()\n",
    "plt.show()"
   ]
  }
 ],
 "metadata": {
  "colab": {
   "collapsed_sections": [],
   "name": "test-trytry(1).ipynb",
   "provenance": [],
   "toc_visible": true
  },
  "kernelspec": {
   "display_name": "Python 3",
   "language": "python",
   "name": "python3"
  },
  "language_info": {
   "codemirror_mode": {
    "name": "ipython",
    "version": 3
   },
   "file_extension": ".py",
   "mimetype": "text/x-python",
   "name": "python",
   "nbconvert_exporter": "python",
   "pygments_lexer": "ipython3",
   "version": "3.9.6"
  }
 },
 "nbformat": 4,
 "nbformat_minor": 5
}
