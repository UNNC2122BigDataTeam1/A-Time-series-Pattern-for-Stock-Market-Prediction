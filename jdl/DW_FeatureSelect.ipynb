{
 "cells": [
  {
   "cell_type": "code",
   "execution_count": 1,
   "metadata": {
    "ExecuteTime": {
     "end_time": "2022-04-02T13:45:05.345526Z",
     "start_time": "2022-04-02T13:44:56.933514Z"
    }
   },
   "outputs": [],
   "source": [
    "from pyspark import SparkConf, SparkContext\n",
    "from pyspark.sql import SparkSession\n",
    "spark = SparkSession.builder.master(\"local[*]\").appName(\"test\").getOrCreate()\n",
    "sc = spark.sparkContext"
   ]
  },
  {
   "cell_type": "code",
   "execution_count": 2,
   "metadata": {
    "ExecuteTime": {
     "end_time": "2022-04-02T13:45:11.686590Z",
     "start_time": "2022-04-02T13:45:06.073589Z"
    }
   },
   "outputs": [],
   "source": [
    "stock_1 = spark.read.csv(\"../../stock_market_data/sp500/csv/AAPL.csv\", inferSchema=True, header=True)"
   ]
  },
  {
   "cell_type": "code",
   "execution_count": 3,
   "metadata": {
    "ExecuteTime": {
     "end_time": "2022-04-02T13:45:12.667610Z",
     "start_time": "2022-04-02T13:45:12.639386Z"
    }
   },
   "outputs": [
    {
     "name": "stdout",
     "output_type": "stream",
     "text": [
      "root\n",
      " |-- Date: string (nullable = true)\n",
      " |-- Low: double (nullable = true)\n",
      " |-- Open: double (nullable = true)\n",
      " |-- Volume: long (nullable = true)\n",
      " |-- High: double (nullable = true)\n",
      " |-- Close: double (nullable = true)\n",
      " |-- Adjusted Close: double (nullable = true)\n",
      "\n"
     ]
    }
   ],
   "source": [
    "stock_1.printSchema()"
   ]
  },
  {
   "cell_type": "code",
   "execution_count": 4,
   "metadata": {
    "ExecuteTime": {
     "end_time": "2022-04-02T13:45:14.367036Z",
     "start_time": "2022-04-02T13:45:14.300930Z"
    }
   },
   "outputs": [],
   "source": [
    "from pyspark.sql import functions as F \n",
    "close_data = stock_1.select(F.collect_list('Close').alias('Close Price'))\n",
    "low_data = stock_1.select(F.collect_list('Low').alias('Low Price'))\n",
    "open_data = stock_1.select(F.collect_list('Open').alias('Open Price'))\n",
    "volumn_data = stock_1.select(F.collect_list('Volume').alias('Transaction Volume'))\n",
    "high_data = stock_1.select(F.collect_list('High').alias('High Price'))\n",
    "adjusted_close_data = stock_1.select(F.collect_list('Adjusted Close').alias('Adjusted Close Price'))"
   ]
  },
  {
   "cell_type": "code",
   "execution_count": 5,
   "metadata": {
    "ExecuteTime": {
     "end_time": "2022-04-02T13:45:17.433419Z",
     "start_time": "2022-04-02T13:45:16.711674Z"
    }
   },
   "outputs": [],
   "source": [
    "close_price_array = close_data.first()['Close Price']\n",
    "low_price_array = low_data.first()['Low Price']\n",
    "open_price_array = open_data.first()['Open Price']\n",
    "transaction_volume_array = volumn_data.first()['Transaction Volume']\n",
    "transaction_volume_array = list(map(float, transaction_volume_array))\n",
    "high_price_array = high_data.first()['High Price']\n",
    "adjusted_close_price_array = adjusted_close_data.first()['Adjusted Close Price']"
   ]
  },
  {
   "cell_type": "code",
   "execution_count": 6,
   "metadata": {
    "ExecuteTime": {
     "end_time": "2022-04-02T13:45:18.399213Z",
     "start_time": "2022-04-02T13:45:18.111658Z"
    }
   },
   "outputs": [],
   "source": [
    "date_array = stock_1.select(F.collect_list('Date').alias('Date')).first()['Date']"
   ]
  },
  {
   "cell_type": "code",
   "execution_count": 7,
   "metadata": {
    "ExecuteTime": {
     "end_time": "2022-04-02T13:45:20.387499Z",
     "start_time": "2022-04-02T13:45:20.372707Z"
    }
   },
   "outputs": [],
   "source": [
    "days = [i for i in range(1, len(date_array) + 1)]"
   ]
  },
  {
   "cell_type": "code",
   "execution_count": 8,
   "metadata": {
    "ExecuteTime": {
     "end_time": "2022-04-02T13:45:22.140690Z",
     "start_time": "2022-04-02T13:45:21.219761Z"
    }
   },
   "outputs": [
    {
     "data": {
      "text/plain": [
       "[<matplotlib.lines.Line2D at 0x7f895f5e0c50>]"
      ]
     },
     "execution_count": 8,
     "metadata": {},
     "output_type": "execute_result"
    },
    {
     "data": {
      "image/png": "[encoded data removed]",
      "text/plain": [
       "<Figure size 432x288 with 1 Axes>"
      ]
     },
     "metadata": {
      "needs_background": "light"
     },
     "output_type": "display_data"
    }
   ],
   "source": [
    "import matplotlib.pyplot as plt\n",
    "plt.plot(days, close_price_array)"
   ]
  },
  {
   "cell_type": "code",
   "execution_count": 9,
   "metadata": {
    "ExecuteTime": {
     "end_time": "2022-04-02T13:45:26.547441Z",
     "start_time": "2022-04-02T13:45:25.750393Z"
    }
   },
   "outputs": [],
   "source": [
    "covid_data = spark.read.csv(\"../../WHO-COVID-19-global-data.csv\", inferSchema=True, header=True)"
   ]
  },
  {
   "cell_type": "code",
   "execution_count": 10,
   "metadata": {
    "ExecuteTime": {
     "end_time": "2022-04-02T13:45:27.264791Z",
     "start_time": "2022-04-02T13:45:27.039068Z"
    }
   },
   "outputs": [],
   "source": [
    "USA_covid_data = covid_data.filter(\"Country_code = 'US'\")"
   ]
  },
  {
   "cell_type": "code",
   "execution_count": 11,
   "metadata": {
    "ExecuteTime": {
     "end_time": "2022-04-02T13:45:29.056408Z",
     "start_time": "2022-04-02T13:45:29.034079Z"
    }
   },
   "outputs": [
    {
     "name": "stdout",
     "output_type": "stream",
     "text": [
      "root\n",
      " |-- Date_reported: string (nullable = true)\n",
      " |-- Country_code: string (nullable = true)\n",
      " |-- Country: string (nullable = true)\n",
      " |-- WHO_region: string (nullable = true)\n",
      " |-- New_cases: integer (nullable = true)\n",
      " |-- Cumulative_cases: integer (nullable = true)\n",
      " |-- New_deaths: integer (nullable = true)\n",
      " |-- Cumulative_deaths: integer (nullable = true)\n",
      "\n"
     ]
    }
   ],
   "source": [
    "USA_covid_data.printSchema()"
   ]
  },
  {
   "cell_type": "code",
   "execution_count": 12,
   "metadata": {
    "ExecuteTime": {
     "end_time": "2022-04-02T13:45:31.814164Z",
     "start_time": "2022-04-02T13:45:31.159408Z"
    }
   },
   "outputs": [],
   "source": [
    "covid_date_array = USA_covid_data.select(F.collect_list('Date_reported').alias('Date')).first()['Date']"
   ]
  },
  {
   "cell_type": "code",
   "execution_count": 13,
   "metadata": {
    "ExecuteTime": {
     "end_time": "2022-04-02T13:45:33.629107Z",
     "start_time": "2022-04-02T13:45:33.624853Z"
    }
   },
   "outputs": [],
   "source": [
    "def changeDateMode(date):\n",
    "    elements = date.split('-')\n",
    "    return elements[2] + '-' + elements[1] + '-' + elements[0]"
   ]
  },
  {
   "cell_type": "code",
   "execution_count": 14,
   "metadata": {
    "ExecuteTime": {
     "end_time": "2022-04-02T13:45:34.253269Z",
     "start_time": "2022-04-02T13:45:34.248520Z"
    }
   },
   "outputs": [],
   "source": [
    "covid_date_array = list(map(changeDateMode, covid_date_array))"
   ]
  },
  {
   "cell_type": "code",
   "execution_count": 15,
   "metadata": {
    "ExecuteTime": {
     "end_time": "2022-04-02T13:45:36.036865Z",
     "start_time": "2022-04-02T13:45:36.029027Z"
    }
   },
   "outputs": [],
   "source": [
    "first_day_index = 0\n",
    "for i in range(0, 3):\n",
    "    if covid_date_array[i] in date_array:\n",
    "        first_day_index = date_array.index(covid_date_array[i])\n",
    "        break"
   ]
  },
  {
   "cell_type": "code",
   "execution_count": 16,
   "metadata": {
    "ExecuteTime": {
     "end_time": "2022-04-02T13:45:36.454419Z",
     "start_time": "2022-04-02T13:45:36.447228Z"
    }
   },
   "outputs": [],
   "source": [
    "final_day_index = 0\n",
    "for i in range(1, 4):\n",
    "    if covid_date_array[len(covid_date_array) - i] in date_array:\n",
    "        final_day_index = date_array.index(covid_date_array[len(covid_date_array) - i])\n",
    "        break"
   ]
  },
  {
   "cell_type": "code",
   "execution_count": 17,
   "metadata": {
    "ExecuteTime": {
     "end_time": "2022-04-02T13:45:36.854713Z",
     "start_time": "2022-04-02T13:45:36.847008Z"
    }
   },
   "outputs": [
    {
     "data": {
      "text/plain": [
       "9848"
      ]
     },
     "execution_count": 17,
     "metadata": {},
     "output_type": "execute_result"
    }
   ],
   "source": [
    "first_day_index"
   ]
  },
  {
   "cell_type": "code",
   "execution_count": 18,
   "metadata": {
    "ExecuteTime": {
     "end_time": "2022-04-02T13:45:37.460211Z",
     "start_time": "2022-04-02T13:45:37.451499Z"
    }
   },
   "outputs": [
    {
     "data": {
      "text/plain": [
       "10410"
      ]
     },
     "execution_count": 18,
     "metadata": {},
     "output_type": "execute_result"
    }
   ],
   "source": [
    "final_day_index"
   ]
  },
  {
   "cell_type": "code",
   "execution_count": 19,
   "metadata": {
    "ExecuteTime": {
     "end_time": "2022-04-02T13:45:38.207738Z",
     "start_time": "2022-04-02T13:45:38.067641Z"
    }
   },
   "outputs": [
    {
     "data": {
      "text/plain": [
       "[<matplotlib.lines.Line2D at 0x7f895f66b7d0>,\n",
       " <matplotlib.lines.Line2D at 0x7f895f66b650>,\n",
       " <matplotlib.lines.Line2D at 0x7f895f66b8d0>]"
      ]
     },
     "execution_count": 19,
     "metadata": {},
     "output_type": "execute_result"
    },
    {
     "data": {
      "image/png": "[encoded data removed]",
      "text/plain": [
       "<Figure size 432x288 with 1 Axes>"
      ]
     },
     "metadata": {
      "needs_background": "light"
     },
     "output_type": "display_data"
    }
   ],
   "source": [
    "plt.plot(days, close_price_array, [first_day_index] * 175, [i for i in range(0, 175)], [final_day_index] * 175, [i for i in range(0, 175)])"
   ]
  },
  {
   "cell_type": "code",
   "execution_count": 20,
   "metadata": {},
   "outputs": [],
   "source": [
    "close_price_array_no191 = close_price_array[191:]\n",
    "pattern_interval = 365\n",
    "close_price_array_in_pattern = [close_price_array_no191[i : i + pattern_interval] for i in range (0, len(close_price_array_no191), pattern_interval)]"
   ]
  },
  {
   "cell_type": "code",
   "execution_count": 21,
   "metadata": {},
   "outputs": [],
   "source": [
    "import numpy as np\n",
    "def sigmoidConvert(X, useStatus):\n",
    "    if useStatus:\n",
    "        return 1.0 / (1 + np.exp(-(X * 0.1)));\n",
    "    else:\n",
    "        return X;\n",
    "    \n",
    "def Z_ScoreNormalization(x, mean, sd):\n",
    "    x = (x - mean) / sd;\n",
    "    return x;"
   ]
  },
  {
   "cell_type": "code",
   "execution_count": 22,
   "metadata": {},
   "outputs": [],
   "source": [
    "close_price_array_in_pattern = np.array(close_price_array_in_pattern)\n",
    "norm_close_price_array_in_pattern = []\n",
    "for i in range(0, len(close_price_array_in_pattern)):\n",
    "    norm_close_price_array_in_pattern.append(Z_ScoreNormalization(close_price_array_in_pattern[i], close_price_array_in_pattern[i].mean(), close_price_array_in_pattern[i].std()))"
   ]
  },
  {
   "cell_type": "code",
   "execution_count": 23,
   "metadata": {
    "ExecuteTime": {
     "end_time": "2022-04-02T14:10:20.276970Z",
     "start_time": "2022-04-02T14:10:20.267011Z"
    }
   },
   "outputs": [],
   "source": [
    "import numpy as np\n",
    "import sys\n",
    "def cal_dtw_distance(ts_a, ts_b):\n",
    "    \"\"\"Returns the DTW similarity distance between two 2-D\n",
    "    timeseries numpy arrays.\n",
    "\n",
    "    Arguments\n",
    "    ---------\n",
    "    ts_a, ts_b : array of shape [n_samples, n_timepoints]\n",
    "        Two arrays containing n_samples of timeseries data\n",
    "        whose DTW distance between each sample of A and B\n",
    "        will be compared\n",
    "\n",
    "    d : DistanceMetric object (default = abs(x-y))\n",
    "        the distance measure used for A_i - B_j in the\n",
    "        DTW dynamic programming function\n",
    "\n",
    "    Returns\n",
    "    -------\n",
    "    DTW distance between A and B\n",
    "    \"\"\"\n",
    "    d = lambda x, y: abs(x - y)\n",
    "    max_warping_window = 10000\n",
    "\n",
    "    # Create cost matrix via broadcasting with large int\n",
    "    ts_a, ts_b = np.array(ts_a), np.array(ts_b)\n",
    "    M, N = len(ts_a), len(ts_b)\n",
    "    cost = sys.maxsize * np.ones((M, N))\n",
    "\n",
    "    # Initialize the first row and column\n",
    "    cost[0, 0] = d(ts_a[0], ts_b[0])\n",
    "    for i in range(1, M):\n",
    "        cost[i, 0] = cost[i - 1, 0] + d(ts_a[i], ts_b[0])\n",
    "\n",
    "    for j in range(1, N):\n",
    "        cost[0, j] = cost[0, j - 1] + d(ts_a[0], ts_b[j])\n",
    "\n",
    "    # Populate rest of cost matrix within window\n",
    "    for i in range(1, M):\n",
    "        for j in range(max(1, i - max_warping_window),\n",
    "                       min(N, i + max_warping_window)):\n",
    "            choices = cost[i - 1, j - 1], cost[i, j - 1], cost[i - 1, j]\n",
    "            cost[i, j] = min(choices) + d(ts_a[i], ts_b[j])\n",
    "\n",
    "    # Return DTW distance given window\n",
    "    return cost[-1, -1]"
   ]
  },
  {
   "cell_type": "code",
   "execution_count": 24,
   "metadata": {
    "ExecuteTime": {
     "end_time": "2022-04-02T14:28:03.029954Z",
     "start_time": "2022-04-02T14:28:02.840309Z"
    }
   },
   "outputs": [
    {
     "name": "stdout",
     "output_type": "stream",
     "text": [
      "[93.90617469226879, 416.95298777963416, 362.701443684545, 71.68336739584036, 304.4463827370311, 243.6929996231688, 122.14806583494686, 210.4744912787884, 350.7730297121588, 247.31798861315502, 452.2488441885869, 66.15303764188295, 64.21889650296923, 424.8434353623959, 384.2007815803106, 80.14805135552737, 42.93838927254291, 69.78094597652611, 426.3487581647899, 66.93282716697198, 83.28078547557719, 301.81277728204054, 58.28813716028127, 329.0376753182734, 66.30047275634975, 170.888709388319, 74.30035639068153, 0.0]\n"
     ]
    }
   ],
   "source": [
    "close_price_when_covid = norm_close_price_array_in_pattern[27]\n",
    "dtw = []\n",
    "for i in range(0, len(norm_close_price_array_in_pattern)):\n",
    "    dtw.append(cal_dtw_distance(close_price_when_covid, norm_close_price_array_in_pattern[i]))\n",
    "print(dtw)"
   ]
  },
  {
   "cell_type": "code",
   "execution_count": 25,
   "metadata": {},
   "outputs": [
    {
     "name": "stdout",
     "output_type": "stream",
     "text": [
      "[27, 16]\n"
     ]
    }
   ],
   "source": [
    "import heapq\n",
    "min_num_index_list = map(dtw.index, heapq.nsmallest(2, dtw))\n",
    "print(list(min_num_index_list))"
   ]
  },
  {
   "cell_type": "code",
   "execution_count": 26,
   "metadata": {},
   "outputs": [
    {
     "data": {
      "text/plain": [
       "array([4.35483657e-04, 3.98684577e-04, 3.49613595e-04, ...,\n",
       "       9.56364319e-01, 9.59936482e-01, 9.59001638e-01])"
      ]
     },
     "execution_count": 26,
     "metadata": {},
     "output_type": "execute_result"
    }
   ],
   "source": [
    "min_close = min(close_price_array)\n",
    "max_close = max(close_price_array)\n",
    "close_price_array = np.array(close_price_array)\n",
    "for i in range(len(close_price_array)):\n",
    "    close_price_array[i] = (close_price_array[i] - min_close) / (max_close - min_close)\n",
    "close_price_array"
   ]
  },
  {
   "cell_type": "code",
   "execution_count": 27,
   "metadata": {},
   "outputs": [
    {
     "data": {
      "text/plain": [
       "array([4.42511865e-04, 4.05118890e-04, 3.55255959e-04, ...,\n",
       "       9.50243233e-01, 9.64427523e-01, 9.60239237e-01])"
      ]
     },
     "execution_count": 27,
     "metadata": {},
     "output_type": "execute_result"
    }
   ],
   "source": [
    "min_low = min(low_price_array)\n",
    "max_low = max(low_price_array)\n",
    "low_price_array = np.array(low_price_array)\n",
    "for i in range(len(low_price_array)):\n",
    "    low_price_array[i] = (low_price_array[i] - min_low) / (max_low - min_low)\n",
    "low_price_array"
   ]
  },
  {
   "cell_type": "code",
   "execution_count": 28,
   "metadata": {},
   "outputs": [
    {
     "data": {
      "text/plain": [
       "array([4.30949973e-04, 3.97331954e-04, 3.48427418e-04, ...,\n",
       "       9.36630596e-01, 9.52075892e-01, 9.42710115e-01])"
      ]
     },
     "execution_count": 28,
     "metadata": {},
     "output_type": "execute_result"
    }
   ],
   "source": [
    "min_open = min(open_price_array)\n",
    "max_open = max(open_price_array)\n",
    "open_price_array = np.array(open_price_array)\n",
    "for i in range(len(open_price_array)):\n",
    "    open_price_array[i] = (open_price_array[i] - min_open) / (max_open - min_open)\n",
    "open_price_array"
   ]
  },
  {
   "cell_type": "code",
   "execution_count": 29,
   "metadata": {},
   "outputs": [
    {
     "data": {
      "text/plain": [
       "array([0.0631981 , 0.02369891, 0.01424591, ..., 0.0121444 , 0.01084271,\n",
       "       0.00701736])"
      ]
     },
     "execution_count": 29,
     "metadata": {},
     "output_type": "execute_result"
    }
   ],
   "source": [
    "min_transaction = min(transaction_volume_array)\n",
    "max_transaction = max(transaction_volume_array)\n",
    "transaction_volume_array = np.array(transaction_volume_array)\n",
    "for i in range(len(transaction_volume_array)):\n",
    "    transaction_volume_array[i] = (transaction_volume_array[i] - min_transaction) / (max_transaction - min_transaction)\n",
    "transaction_volume_array"
   ]
  },
  {
   "cell_type": "code",
   "execution_count": 30,
   "metadata": {},
   "outputs": [
    {
     "data": {
      "text/plain": [
       "array([4.33270546e-04, 3.96658479e-04, 3.47836836e-04, ...,\n",
       "       9.51883718e-01, 9.58116958e-01, 9.56613358e-01])"
      ]
     },
     "execution_count": 30,
     "metadata": {},
     "output_type": "execute_result"
    }
   ],
   "source": [
    "min_high = min(high_price_array)\n",
    "max_high = max(high_price_array)\n",
    "high_price_array = np.array(high_price_array)\n",
    "for i in range(len(high_price_array)):\n",
    "    high_price_array[i] = (high_price_array[i] - min_high) / (max_high - min_high)\n",
    "high_price_array"
   ]
  },
  {
   "cell_type": "code",
   "execution_count": 31,
   "metadata": {},
   "outputs": [
    {
     "data": {
      "text/plain": [
       "array([3.40809167e-04, 3.12010178e-04, 2.73607263e-04, ...,\n",
       "       9.57585624e-01, 9.61162128e-01, 9.60226148e-01])"
      ]
     },
     "execution_count": 31,
     "metadata": {},
     "output_type": "execute_result"
    }
   ],
   "source": [
    "min_adjusted_close = min(adjusted_close_price_array)\n",
    "max_adjusted_close = max(adjusted_close_price_array)\n",
    "adjusted_close_price_array = np.array(adjusted_close_price_array)\n",
    "for i in range(len(adjusted_close_price_array)):\n",
    "    adjusted_close_price_array[i] = (adjusted_close_price_array[i] - min_adjusted_close) / (max_adjusted_close - min_adjusted_close)\n",
    "adjusted_close_price_array"
   ]
  },
  {
   "cell_type": "code",
   "execution_count": 32,
   "metadata": {},
   "outputs": [
    {
     "name": "stdout",
     "output_type": "stream",
     "text": [
      "[[4.35483657e-04 4.42511865e-04 4.30949973e-04 6.31981003e-02\n",
      "  4.33270546e-04 3.40809167e-04]\n",
      " [3.98684577e-04 4.05118890e-04 3.97331954e-04 2.36989104e-02\n",
      "  3.96658479e-04 3.12010178e-04]\n",
      " [3.49613595e-04 3.55255959e-04 3.48427418e-04 1.42459064e-02\n",
      "  3.47836836e-04 2.73607263e-04]\n",
      " ...\n",
      " [9.56364319e-01 9.50243233e-01 9.36630596e-01 1.21444034e-02\n",
      "  9.51883718e-01 9.57585624e-01]\n",
      " [9.59936482e-01 9.64427523e-01 9.52075892e-01 1.08427101e-02\n",
      "  9.58116958e-01 9.61162128e-01]\n",
      " [9.59001638e-01 9.60239237e-01 9.42710115e-01 7.01735794e-03\n",
      "  9.56613358e-01 9.60226148e-01]]\n"
     ]
    }
   ],
   "source": [
    "datas = np.stack((close_price_array, low_price_array, open_price_array, transaction_volume_array, high_price_array, adjusted_close_price_array), axis = 1)\n",
    "print(datas)"
   ]
  },
  {
   "cell_type": "code",
   "execution_count": 33,
   "metadata": {},
   "outputs": [],
   "source": [
    "import pandas as pd\n",
    "df = pd.DataFrame(datas, columns = [\"close_price\", \"low_price\", \"open_price\", \"transaction_volume\", \"high_price\", \"adjusted_close\"])\n",
    "sparkdf = sqlContext.createDataFrame(df)"
   ]
  },
  {
   "cell_type": "code",
   "execution_count": 34,
   "metadata": {},
   "outputs": [
    {
     "name": "stdout",
     "output_type": "stream",
     "text": [
      "root\n",
      " |-- close_price: double (nullable = true)\n",
      " |-- low_price: double (nullable = true)\n",
      " |-- open_price: double (nullable = true)\n",
      " |-- transaction_volume: double (nullable = true)\n",
      " |-- high_price: double (nullable = true)\n",
      " |-- adjusted_close: double (nullable = true)\n",
      "\n"
     ]
    }
   ],
   "source": [
    "sparkdf.printSchema()"
   ]
  },
  {
   "cell_type": "code",
   "execution_count": 35,
   "metadata": {},
   "outputs": [],
   "source": [
    "from pyspark.ml.regression import LinearRegression\n",
    "from pyspark.ml.feature import (VectorAssembler, VectorIndexer)\n",
    "assembler = VectorAssembler(inputCols = [\"low_price\", \"open_price\", \"transaction_volume\", \"high_price\", \"adjusted_close\"], outputCol = 'features')"
   ]
  },
  {
   "cell_type": "code",
   "execution_count": 36,
   "metadata": {},
   "outputs": [],
   "source": [
    "output = assembler.transform(sparkdf)\n",
    "label_features = output.select(\"features\", 'close_price').toDF('features', 'label')"
   ]
  },
  {
   "cell_type": "code",
   "execution_count": 37,
   "metadata": {},
   "outputs": [],
   "source": [
    "train_data, test_data = label_features.randomSplit([0.8, 0.2])"
   ]
  },
  {
   "cell_type": "code",
   "execution_count": 38,
   "metadata": {},
   "outputs": [
    {
     "name": "stdout",
     "output_type": "stream",
     "text": [
      "+--------------------------------------------------------------------------------------------------------------+---------------------+\n",
      "|features                                                                                                      |label                |\n",
      "+--------------------------------------------------------------------------------------------------------------+---------------------+\n",
      "|[4.425118649857621E-4,4.309499733540966E-4,0.06319810034460305,4.332705461604476E-4,3.4080916660338064E-4]    |4.3548365668646683E-4|\n",
      "|[4.051188899742423E-4,3.9733195366275793E-4,0.023698910354163192,3.9665847939774165E-4,3.120101778772833E-4]  |3.986845767500989E-4 |\n",
      "|[3.55255959161392E-4,3.4842741793291327E-4,0.01424590637692948,3.478368364379171E-4,2.7360726267733755E-4]    |3.496135954687653E-4 |\n",
      "|[3.708363619489521E-4,3.606521746245647E-4,0.011647235743341283,3.63091901598848E-4,2.8560694380275827E-4]    |3.6494654203008065E-4|\n",
      "|[3.8953848718668226E-4,3.789948186252808E-4,0.009896679451260966,3.8140341423681075E-4,3.000106607351375E-4]  |3.8335163018878357E-4|\n",
      "|[4.300475261129628E-4,4.1872521666244525E-4,0.006552513293286843,4.210665103268898E-4,3.31209421703044E-4]    |4.2321728305899235E-4|\n",
      "|[4.643245204234778E-4,4.5234335877518926E-4,0.005034358439982706,4.546331288637508E-4,3.5760843320823847E-4]  |4.569498719536304E-4 |\n",
      "|[4.954909013202512E-4,4.829106778532866E-4,0.006326148255517836,4.8514317770967787E-4,3.8161185404513557E-4]  |4.876212518476968E-4 |\n",
      "|[5.360000234602878E-4,5.226411575047212E-4,0.006468003679186414,5.248063145377243E-4,4.128105740172233E-4]    |5.274869866100165E-4 |\n",
      "|[6.107916320187367E-4,5.959951658107336E-4,0.007488155449398737,5.98035988426697E-4,4.704129380220235E-4]     |6.010907151462991E-4 |\n",
      "|[6.232559708915359E-4,6.08219922502385E-4,0.01255269589441731,6.102400242602548E-4,4.8001235495581017E-4]     |6.133570887737736E-4 |\n",
      "|[6.014433986675762E-4,5.898827466577728E-4,0.009280966548529269,5.888829004445776E-4,4.6321312934677106E-4]   |5.91890955398721E-4  |\n",
      "|[5.765147209219777E-4,5.654333148887401E-4,0.004817048003724459,5.644749102533968E-4,4.4401413149592283E-4]   |5.673582081437721E-4 |\n",
      "|[5.858629542731381E-4,5.715456524274308E-4,0.002918599886968391,5.766789460869546E-4,4.51213817183719E-4]     |5.765579678913502E-4 |\n",
      "|[5.671664875708172E-4,5.56264686159299E-4,0.004814029803220873,5.553218222712774E-4,4.3681428182485165E-4]    |5.58158448396194E-4  |\n",
      "|[5.297678124170102E-4,5.195849479282408E-4,0.0060846922152308965,5.18704255882978E-4,4.0801086555032997E-4]   |5.213537588502239E-4 |\n",
      "|[4.954909013202512E-4,4.85966887429767E-4,0.007503246451916671,4.8514317770967787E-4,3.8161185404513557E-4]   |4.876212518476968E-4 |\n",
      "|[4.7991054013956914E-4,4.706859211616352E-4,0.0053663604953772485,4.6988811254874697E-4,3.6961258287790226E-4]|4.7228834623243694E-4|\n",
      "|[5.204195790658497E-4,5.073601912365894E-4,0.002897472483443284,5.095512493767934E-4,4.0081130284999E-4]      |5.121539991026458E-4 |\n",
      "|[5.141874512363281E-4,5.073601912365894E-4,0.003193256132794786,5.065002200494203E-4,3.960115123914592E-4]    |5.06020853234964E-4  |\n",
      "+--------------------------------------------------------------------------------------------------------------+---------------------+\n",
      "only showing top 20 rows\n",
      "\n"
     ]
    }
   ],
   "source": [
    "label_features.show(truncate=False)"
   ]
  },
  {
   "cell_type": "code",
   "execution_count": 39,
   "metadata": {},
   "outputs": [],
   "source": [
    "lr = LinearRegression()\n",
    "lrModel = lr.fit(train_data)"
   ]
  },
  {
   "cell_type": "code",
   "execution_count": 40,
   "metadata": {},
   "outputs": [
    {
     "name": "stdout",
     "output_type": "stream",
     "text": [
      "R2: 0.9999388033883341\n"
     ]
    }
   ],
   "source": [
    "test_results = lrModel.evaluate(test_data)\n",
    "print(\"R2: {}\".format(test_results.r2))"
   ]
  },
  {
   "cell_type": "code",
   "execution_count": 41,
   "metadata": {},
   "outputs": [
    {
     "name": "stdout",
     "output_type": "stream",
     "text": [
      "R2 with low price: 0.9998065515267671\n"
     ]
    }
   ],
   "source": [
    "assembler_low_price = VectorAssembler(inputCols = [\"low_price\"], outputCol = 'features')\n",
    "output_low_price = assembler_low_price.transform(sparkdf)\n",
    "label_features_low_price = output_low_price.select(\"features\", 'close_price').toDF('features', 'label')\n",
    "train_data_low_price, test_data_low_price = label_features_low_price.randomSplit([0.8, 0.2])\n",
    "lrModel_low_price = lr.fit(train_data_low_price)\n",
    "test_results_low_price = lrModel_low_price.evaluate(test_data_low_price)\n",
    "print(\"R2 with low price: {}\".format(test_results_low_price.r2))"
   ]
  },
  {
   "cell_type": "code",
   "execution_count": 42,
   "metadata": {},
   "outputs": [
    {
     "name": "stdout",
     "output_type": "stream",
     "text": [
      "R2 with open price: 0.9997705891260886\n"
     ]
    }
   ],
   "source": [
    "assembler_open_price = VectorAssembler(inputCols = [\"open_price\"], outputCol = 'features')\n",
    "output_open_price = assembler_open_price.transform(sparkdf)\n",
    "label_features_open_price = output_open_price.select(\"features\", 'close_price').toDF('features', 'label')\n",
    "train_data_open_price, test_data_open_price = label_features_open_price.randomSplit([0.8, 0.2])\n",
    "lrModel_open_price = lr.fit(train_data_open_price)\n",
    "test_results_open_price = lrModel_open_price.evaluate(test_data_open_price)\n",
    "print(\"R2 with open price: {}\".format(test_results_open_price.r2))"
   ]
  },
  {
   "cell_type": "code",
   "execution_count": 43,
   "metadata": {},
   "outputs": [
    {
     "name": "stdout",
     "output_type": "stream",
     "text": [
      "R2 with transaction volume: 0.039584886904920236\n"
     ]
    }
   ],
   "source": [
    "assembler_transaction_volume = VectorAssembler(inputCols = [\"transaction_volume\"], outputCol = 'features')\n",
    "output_transaction_volume = assembler_transaction_volume.transform(sparkdf)\n",
    "label_features_transaction_volume = output_transaction_volume.select(\"features\", 'close_price').toDF('features', 'label')\n",
    "train_data_transaction_volume, test_data_transaction_volume = label_features_transaction_volume.randomSplit([0.8, 0.2])\n",
    "lrModel_transaction_volume = lr.fit(train_data_transaction_volume)\n",
    "test_results_transaction_volume = lrModel_transaction_volume.evaluate(test_data_transaction_volume)\n",
    "print(\"R2 with transaction volume: {}\".format(test_results_transaction_volume.r2))"
   ]
  },
  {
   "cell_type": "code",
   "execution_count": 44,
   "metadata": {},
   "outputs": [
    {
     "name": "stdout",
     "output_type": "stream",
     "text": [
      "R2 with high price: 0.9998692960237529\n"
     ]
    }
   ],
   "source": [
    "assembler_high_price = VectorAssembler(inputCols = [\"high_price\"], outputCol = 'features')\n",
    "output_high_price = assembler_high_price.transform(sparkdf)\n",
    "label_features_high_price = output_high_price.select(\"features\", 'close_price').toDF('features', 'label')\n",
    "train_data_high_price, test_data_high_price = label_features_high_price.randomSplit([0.8, 0.2])\n",
    "lrModel_high_price = lr.fit(train_data_high_price)\n",
    "test_results_high_price = lrModel_high_price.evaluate(test_data_high_price)\n",
    "print(\"R2 with high price: {}\".format(test_results_high_price.r2))"
   ]
  },
  {
   "cell_type": "code",
   "execution_count": 45,
   "metadata": {},
   "outputs": [
    {
     "name": "stdout",
     "output_type": "stream",
     "text": [
      "R2 with adjusted close: 0.9993247469783844\n"
     ]
    }
   ],
   "source": [
    "assembler_adjusted_close = VectorAssembler(inputCols = [\"adjusted_close\"], outputCol = 'features')\n",
    "output_adjusted_close = assembler_adjusted_close.transform(sparkdf)\n",
    "label_features_adjusted_close = output_adjusted_close.select(\"features\", 'close_price').toDF('features', 'label')\n",
    "train_data_adjusted_close, test_data_adjusted_close = label_features_adjusted_close.randomSplit([0.8, 0.2])\n",
    "lrModel_adjusted_close = lr.fit(train_data_adjusted_close)\n",
    "test_results_adjusted_close = lrModel_adjusted_close.evaluate(test_data_adjusted_close)\n",
    "print(\"R2 with adjusted close: {}\".format(test_results_adjusted_close.r2))"
   ]
  },
  {
   "cell_type": "markdown",
   "metadata": {},
   "source": [
    "Feature Selection: low price > high price > open price > adjusted close > transaction volume"
   ]
  }
 ],
 "metadata": {
  "kernelspec": {
   "display_name": "Python 3",
   "language": "python",
   "name": "python3"
  },
  "language_info": {
   "codemirror_mode": {
    "name": "ipython",
    "version": 3
   },
   "file_extension": ".py",
   "mimetype": "text/x-python",
   "name": "python",
   "nbconvert_exporter": "python",
   "pygments_lexer": "ipython3",
   "version": "3.7.4"
  }
 },
 "nbformat": 4,
 "nbformat_minor": 5
}
