{
 "cells": [
  {
   "cell_type": "code",
   "execution_count": 1,
   "metadata": {
    "ExecuteTime": {
     "end_time": "2022-04-17T07:16:22.055665Z",
     "start_time": "2022-04-17T07:16:13.818334Z"
    }
   },
   "outputs": [],
   "source": [
    "from pyspark import SparkConf, SparkContext\n",
    "from pyspark.sql import SparkSession\n",
    "spark = SparkSession.builder.master(\"local[*]\").appName(\"test\").getOrCreate()\n",
    "sc = spark.sparkContext"
   ]
  },
  {
   "cell_type": "code",
   "execution_count": 2,
   "metadata": {
    "ExecuteTime": {
     "end_time": "2022-04-17T07:16:27.732823Z",
     "start_time": "2022-04-17T07:16:22.058514Z"
    }
   },
   "outputs": [],
   "source": [
    "stock_1 = spark.read.csv(\"../../stock_market_data/sp500/csv/AAPL.csv\", inferSchema=True, header=True)"
   ]
  },
  {
   "cell_type": "code",
   "execution_count": 3,
   "metadata": {
    "ExecuteTime": {
     "end_time": "2022-04-17T07:16:27.777697Z",
     "start_time": "2022-04-17T07:16:27.736130Z"
    }
   },
   "outputs": [
    {
     "name": "stdout",
     "output_type": "stream",
     "text": [
      "root\n",
      " |-- Date: string (nullable = true)\n",
      " |-- Low: double (nullable = true)\n",
      " |-- Open: double (nullable = true)\n",
      " |-- Volume: long (nullable = true)\n",
      " |-- High: double (nullable = true)\n",
      " |-- Close: double (nullable = true)\n",
      " |-- Adjusted Close: double (nullable = true)\n",
      "\n"
     ]
    }
   ],
   "source": [
    "stock_1.printSchema()"
   ]
  },
  {
   "cell_type": "code",
   "execution_count": 4,
   "metadata": {
    "ExecuteTime": {
     "end_time": "2022-04-17T07:16:35.866253Z",
     "start_time": "2022-04-17T07:16:35.704869Z"
    }
   },
   "outputs": [],
   "source": [
    "from pyspark.sql import functions as F \n",
    "close_data = stock_1.select(F.collect_list('Close').alias('Close Price'))\n",
    "low_data = stock_1.select(F.collect_list('Low').alias('Low Price'))\n",
    "open_data = stock_1.select(F.collect_list('Open').alias('Open Price'))\n",
    "volumn_data = stock_1.select(F.collect_list('Volume').alias('Transaction Volume'))\n",
    "high_data = stock_1.select(F.collect_list('High').alias('High Price'))\n",
    "adjusted_close_data = stock_1.select(F.collect_list('Adjusted Close').alias('Adjusted Close Price'))"
   ]
  },
  {
   "cell_type": "code",
   "execution_count": 5,
   "metadata": {
    "ExecuteTime": {
     "end_time": "2022-04-17T07:16:38.342207Z",
     "start_time": "2022-04-17T07:16:36.354102Z"
    }
   },
   "outputs": [],
   "source": [
    "close_price_array = close_data.first()['Close Price']\n",
    "low_price_array = low_data.first()['Low Price']\n",
    "open_price_array = open_data.first()['Open Price']\n",
    "transaction_volume_array = volumn_data.first()['Transaction Volume']\n",
    "transaction_volume_array = list(map(float, transaction_volume_array))\n",
    "high_price_array = high_data.first()['High Price']\n",
    "adjusted_close_price_array = adjusted_close_data.first()['Adjusted Close Price']"
   ]
  },
  {
   "cell_type": "code",
   "execution_count": 6,
   "metadata": {
    "ExecuteTime": {
     "end_time": "2022-04-17T07:16:41.385276Z",
     "start_time": "2022-04-17T07:16:41.133595Z"
    }
   },
   "outputs": [],
   "source": [
    "date_array = stock_1.select(F.collect_list('Date').alias('Date')).first()['Date']"
   ]
  },
  {
   "cell_type": "code",
   "execution_count": 7,
   "metadata": {
    "ExecuteTime": {
     "end_time": "2022-04-17T07:16:41.942078Z",
     "start_time": "2022-04-17T07:16:41.936802Z"
    }
   },
   "outputs": [],
   "source": [
    "days = [i for i in range(1, len(date_array) + 1)]"
   ]
  },
  {
   "cell_type": "code",
   "execution_count": 8,
   "metadata": {
    "ExecuteTime": {
     "end_time": "2022-04-17T07:16:44.686643Z",
     "start_time": "2022-04-17T07:16:43.617733Z"
    }
   },
   "outputs": [
    {
     "data": {
      "text/plain": [
       "[<matplotlib.lines.Line2D at 0x7fcbb7202dd0>]"
      ]
     },
     "execution_count": 8,
     "metadata": {},
     "output_type": "execute_result"
    },
    {
     "data": {
      "image/png": "[encoded data removed]",
      "text/plain": [
       "<Figure size 432x288 with 1 Axes>"
      ]
     },
     "metadata": {
      "needs_background": "light"
     },
     "output_type": "display_data"
    }
   ],
   "source": [
    "import matplotlib.pyplot as plt\n",
    "plt.plot(days, close_price_array)"
   ]
  },
  {
   "cell_type": "code",
   "execution_count": 9,
   "metadata": {
    "ExecuteTime": {
     "end_time": "2022-04-17T07:16:48.797649Z",
     "start_time": "2022-04-17T07:16:47.895314Z"
    }
   },
   "outputs": [],
   "source": [
    "covid_data = spark.read.csv(\"../../WHO-COVID-19-global-data.csv\", inferSchema=True, header=True)"
   ]
  },
  {
   "cell_type": "code",
   "execution_count": 10,
   "metadata": {
    "ExecuteTime": {
     "end_time": "2022-04-17T07:16:49.101430Z",
     "start_time": "2022-04-17T07:16:48.800029Z"
    }
   },
   "outputs": [],
   "source": [
    "USA_covid_data = covid_data.filter(\"Country_code = 'US'\")"
   ]
  },
  {
   "cell_type": "code",
   "execution_count": 11,
   "metadata": {
    "ExecuteTime": {
     "end_time": "2022-04-17T07:16:49.133464Z",
     "start_time": "2022-04-17T07:16:49.108896Z"
    }
   },
   "outputs": [
    {
     "name": "stdout",
     "output_type": "stream",
     "text": [
      "root\n",
      " |-- Date_reported: string (nullable = true)\n",
      " |-- Country_code: string (nullable = true)\n",
      " |-- Country: string (nullable = true)\n",
      " |-- WHO_region: string (nullable = true)\n",
      " |-- New_cases: integer (nullable = true)\n",
      " |-- Cumulative_cases: integer (nullable = true)\n",
      " |-- New_deaths: integer (nullable = true)\n",
      " |-- Cumulative_deaths: integer (nullable = true)\n",
      "\n"
     ]
    }
   ],
   "source": [
    "USA_covid_data.printSchema()"
   ]
  },
  {
   "cell_type": "code",
   "execution_count": 12,
   "metadata": {
    "ExecuteTime": {
     "end_time": "2022-04-17T07:16:52.216619Z",
     "start_time": "2022-04-17T07:16:51.570884Z"
    }
   },
   "outputs": [],
   "source": [
    "covid_date_array = USA_covid_data.select(F.collect_list('Date_reported').alias('Date')).first()['Date']"
   ]
  },
  {
   "cell_type": "code",
   "execution_count": 13,
   "metadata": {
    "ExecuteTime": {
     "end_time": "2022-04-17T07:16:52.224695Z",
     "start_time": "2022-04-17T07:16:52.218984Z"
    }
   },
   "outputs": [],
   "source": [
    "def changeDateMode(date):\n",
    "    elements = date.split('-')\n",
    "    return elements[2] + '-' + elements[1] + '-' + elements[0]"
   ]
  },
  {
   "cell_type": "code",
   "execution_count": 14,
   "metadata": {
    "ExecuteTime": {
     "end_time": "2022-04-17T07:16:53.971201Z",
     "start_time": "2022-04-17T07:16:53.966956Z"
    }
   },
   "outputs": [],
   "source": [
    "covid_date_array = list(map(changeDateMode, covid_date_array))"
   ]
  },
  {
   "cell_type": "code",
   "execution_count": 15,
   "metadata": {
    "ExecuteTime": {
     "end_time": "2022-04-17T07:16:54.623724Z",
     "start_time": "2022-04-17T07:16:54.619109Z"
    }
   },
   "outputs": [],
   "source": [
    "first_day_index = 0\n",
    "for i in range(0, 3):\n",
    "    if covid_date_array[i] in date_array:\n",
    "        first_day_index = date_array.index(covid_date_array[i])\n",
    "        break"
   ]
  },
  {
   "cell_type": "code",
   "execution_count": 16,
   "metadata": {
    "ExecuteTime": {
     "end_time": "2022-04-17T07:16:55.110759Z",
     "start_time": "2022-04-17T07:16:55.105744Z"
    }
   },
   "outputs": [],
   "source": [
    "final_day_index = 0\n",
    "for i in range(1, 4):\n",
    "    if covid_date_array[len(covid_date_array) - i] in date_array:\n",
    "        final_day_index = date_array.index(covid_date_array[len(covid_date_array) - i])\n",
    "        break"
   ]
  },
  {
   "cell_type": "code",
   "execution_count": 17,
   "metadata": {
    "ExecuteTime": {
     "end_time": "2022-04-17T07:16:55.739241Z",
     "start_time": "2022-04-17T07:16:55.730995Z"
    }
   },
   "outputs": [
    {
     "data": {
      "text/plain": [
       "9848"
      ]
     },
     "execution_count": 17,
     "metadata": {},
     "output_type": "execute_result"
    }
   ],
   "source": [
    "first_day_index"
   ]
  },
  {
   "cell_type": "code",
   "execution_count": 18,
   "metadata": {
    "ExecuteTime": {
     "end_time": "2022-04-17T07:16:56.158457Z",
     "start_time": "2022-04-17T07:16:56.152357Z"
    }
   },
   "outputs": [
    {
     "data": {
      "text/plain": [
       "10410"
      ]
     },
     "execution_count": 18,
     "metadata": {},
     "output_type": "execute_result"
    }
   ],
   "source": [
    "final_day_index"
   ]
  },
  {
   "cell_type": "code",
   "execution_count": 19,
   "metadata": {
    "ExecuteTime": {
     "end_time": "2022-04-17T07:16:58.743258Z",
     "start_time": "2022-04-17T07:16:58.578432Z"
    }
   },
   "outputs": [
    {
     "data": {
      "text/plain": [
       "[<matplotlib.lines.Line2D at 0x7fcbb73f15d0>,\n",
       " <matplotlib.lines.Line2D at 0x7fcbb7415190>,\n",
       " <matplotlib.lines.Line2D at 0x7fcbb7415410>]"
      ]
     },
     "execution_count": 19,
     "metadata": {},
     "output_type": "execute_result"
    },
    {
     "data": {
      "image/png": "[encoded data removed]",
      "text/plain": [
       "<Figure size 432x288 with 1 Axes>"
      ]
     },
     "metadata": {
      "needs_background": "light"
     },
     "output_type": "display_data"
    }
   ],
   "source": [
    "plt.plot(days, close_price_array, [first_day_index] * 175, [i for i in range(0, 175)], [final_day_index] * 175, [i for i in range(0, 175)])"
   ]
  },
  {
   "cell_type": "code",
   "execution_count": 20,
   "metadata": {
    "ExecuteTime": {
     "end_time": "2022-04-17T07:17:09.587913Z",
     "start_time": "2022-04-17T07:17:09.564944Z"
    }
   },
   "outputs": [],
   "source": [
    "import numpy as np\n",
    "import sys\n",
    "def cal_dtw_distance(ts_a, ts_b):\n",
    "    \"\"\"Returns the DTW similarity distance between two 2-D\n",
    "    timeseries numpy arrays.\n",
    "\n",
    "    Arguments\n",
    "    ---------\n",
    "    ts_a, ts_b : array of shape [n_samples, n_timepoints]\n",
    "        Two arrays containing n_samples of timeseries data\n",
    "        whose DTW distance between each sample of A and B\n",
    "        will be compared\n",
    "\n",
    "    d : DistanceMetric object (default = abs(x-y))\n",
    "        the distance measure used for A_i - B_j in the\n",
    "        DTW dynamic programming function\n",
    "\n",
    "    Returns\n",
    "    -------\n",
    "    DTW distance between A and B\n",
    "    \"\"\"\n",
    "    d=lambda x, y: abs(x - y)\n",
    "    max_warping_window = 10000\n",
    "\n",
    "    # Create cost matrix via broadcasting with large int\n",
    "    ts_a, ts_b = np.array(ts_a), np.array(ts_b)\n",
    "    M, N = len(ts_a), len(ts_b)\n",
    "    cost = sys.maxsize * np.ones((M, N))\n",
    "\n",
    "    # Initialize the first row and column\n",
    "    cost[0, 0] = d(ts_a[0], ts_b[0])\n",
    "    for i in range(1, M):\n",
    "        cost[i, 0] = cost[i - 1, 0] + d(ts_a[i], ts_b[0])\n",
    "\n",
    "    for j in range(1, N):\n",
    "        cost[0, j] = cost[0, j - 1] + d(ts_a[0], ts_b[j])\n",
    "\n",
    "    # Populate rest of cost matrix within window\n",
    "    for i in range(1, M):\n",
    "        for j in range(max(1, i - max_warping_window),\n",
    "                       min(N, i + max_warping_window)):\n",
    "            choices = cost[i - 1, j - 1], cost[i, j - 1], cost[i - 1, j]\n",
    "            cost[i, j] = min(choices) + d(ts_a[i], ts_b[j])\n",
    "\n",
    "    # Return DTW distance given window\n",
    "    return cost[-1, -1]"
   ]
  },
  {
   "cell_type": "code",
   "execution_count": 21,
   "metadata": {
    "ExecuteTime": {
     "end_time": "2022-04-17T07:17:10.566953Z",
     "start_time": "2022-04-17T07:17:10.563388Z"
    }
   },
   "outputs": [],
   "source": [
    "date_gap = 365\n",
    "step = 100\n",
    "close_price_array_window = [close_price_array[i:i+date_gap] for i in range(7000, first_day_index - date_gap, step)]"
   ]
  },
  {
   "cell_type": "code",
   "execution_count": 22,
   "metadata": {
    "ExecuteTime": {
     "end_time": "2022-04-17T07:17:11.277573Z",
     "start_time": "2022-04-17T07:17:11.267130Z"
    }
   },
   "outputs": [],
   "source": [
    "def Z_ScoreNormalization(x,mu,sigma):\n",
    "    x = (x - mu) / sigma;\n",
    "    return x;\n",
    "close_price_array_window_norm = []\n",
    "for i in range(0, len(close_price_array_window)):\n",
    "    mu = np.average(close_price_array_window[i])\n",
    "    sigma = np.std(close_price_array_window[i])\n",
    "    close_price_array_window_norm.append(Z_ScoreNormalization(close_price_array_window[i], mu, sigma))"
   ]
  },
  {
   "cell_type": "code",
   "execution_count": 23,
   "metadata": {
    "ExecuteTime": {
     "end_time": "2022-04-17T07:17:12.035358Z",
     "start_time": "2022-04-17T07:17:12.031011Z"
    }
   },
   "outputs": [],
   "source": [
    "close_price_when_covid = close_price_array[first_day_index: first_day_index + date_gap]\n",
    "close_price_when_covid_norm = Z_ScoreNormalization(close_price_when_covid,\n",
    "                                                  np.average(close_price_when_covid),\n",
    "                                                  np.std(close_price_when_covid))"
   ]
  },
  {
   "cell_type": "code",
   "execution_count": 24,
   "metadata": {
    "ExecuteTime": {
     "end_time": "2022-04-17T07:17:16.780549Z",
     "start_time": "2022-04-17T07:17:12.831959Z"
    }
   },
   "outputs": [],
   "source": [
    "dtws = []\n",
    "for i in range(0, len(close_price_array_window_norm)):\n",
    "    dtw = cal_dtw_distance(close_price_array_window_norm[i], close_price_when_covid_norm)\n",
    "    dtws.append(dtw)"
   ]
  },
  {
   "cell_type": "code",
   "execution_count": 25,
   "metadata": {
    "ExecuteTime": {
     "end_time": "2022-04-17T07:17:16.791441Z",
     "start_time": "2022-04-17T07:17:16.783220Z"
    }
   },
   "outputs": [
    {
     "data": {
      "text/plain": [
       "55.93069083261275"
      ]
     },
     "execution_count": 25,
     "metadata": {},
     "output_type": "execute_result"
    }
   ],
   "source": [
    "dtws[7]"
   ]
  },
  {
   "cell_type": "code",
   "execution_count": 26,
   "metadata": {
    "ExecuteTime": {
     "end_time": "2022-04-17T07:17:16.799999Z",
     "start_time": "2022-04-17T07:17:16.795927Z"
    }
   },
   "outputs": [],
   "source": [
    "min_index = dtws.index(min(dtws))"
   ]
  },
  {
   "cell_type": "code",
   "execution_count": 27,
   "metadata": {
    "ExecuteTime": {
     "end_time": "2022-04-17T07:17:16.810098Z",
     "start_time": "2022-04-17T07:17:16.803489Z"
    }
   },
   "outputs": [
    {
     "data": {
      "text/plain": [
       "7"
      ]
     },
     "execution_count": 27,
     "metadata": {},
     "output_type": "execute_result"
    }
   ],
   "source": [
    "min_index"
   ]
  },
  {
   "cell_type": "code",
   "execution_count": 28,
   "metadata": {
    "ExecuteTime": {
     "end_time": "2022-04-17T07:17:18.081560Z",
     "start_time": "2022-04-17T07:17:18.071365Z"
    }
   },
   "outputs": [
    {
     "data": {
      "text/plain": [
       "[11.617856979370117,\n",
       " 11.521785736083984,\n",
       " 11.829643249511719,\n",
       " 11.655357360839844,\n",
       " 11.85857105255127,\n",
       " 11.973570823669434,\n",
       " 11.930000305175781,\n",
       " 11.988213539123535,\n",
       " 12.259285926818848,\n",
       " 12.479642868041992,\n",
       " 12.562856674194336,\n",
       " 12.757143020629883,\n",
       " 12.846785545349121,\n",
       " 12.64285659790039,\n",
       " 12.633929252624512,\n",
       " 12.786429405212402,\n",
       " 12.77750015258789,\n",
       " 13.032856941223145,\n",
       " 13.350000381469727,\n",
       " 13.458929061889648,\n",
       " 13.817856788635254,\n",
       " 13.831786155700684,\n",
       " 14.046428680419922,\n",
       " 14.23214340209961,\n",
       " 14.407500267028809,\n",
       " 14.021071434020996,\n",
       " 13.993571281433105,\n",
       " 13.945713996887207,\n",
       " 14.16964340209961,\n",
       " 13.889642715454102,\n",
       " 14.020357131958008,\n",
       " 13.477499961853027,\n",
       " 13.343570709228516,\n",
       " 12.614643096923828,\n",
       " 13.357500076293945,\n",
       " 12.98892879486084,\n",
       " 13.346428871154785,\n",
       " 13.463929176330566,\n",
       " 13.693214416503906,\n",
       " 13.588570594787598,\n",
       " 13.587142944335938,\n",
       " 13.073213577270508,\n",
       " 12.715356826782227,\n",
       " 12.729999542236328,\n",
       " 13.342857360839844,\n",
       " 13.4350004196167,\n",
       " 13.347143173217773,\n",
       " 13.699286460876465,\n",
       " 13.927499771118164,\n",
       " 13.928214073181152,\n",
       " 13.743928909301758,\n",
       " 13.608214378356934,\n",
       " 13.358928680419922,\n",
       " 13.562143325805664,\n",
       " 13.711786270141602,\n",
       " 13.71928596496582,\n",
       " 13.481429100036621,\n",
       " 13.569286346435547,\n",
       " 13.736429214477539,\n",
       " 13.903571128845215,\n",
       " 14.034285545349121,\n",
       " 14.303570747375488,\n",
       " 14.701070785522461,\n",
       " 14.766071319580078,\n",
       " 14.71928596496582,\n",
       " 14.350713729858398,\n",
       " 14.439286231994629,\n",
       " 14.39892864227295,\n",
       " 14.259285926818848,\n",
       " 14.178929328918457,\n",
       " 13.948928833007812,\n",
       " 13.618571281433105,\n",
       " 13.378570556640625,\n",
       " 13.303570747375488,\n",
       " 13.508929252624512,\n",
       " 13.477499961853027,\n",
       " 13.20714282989502,\n",
       " 13.88607120513916,\n",
       " 14.29607105255127,\n",
       " 14.36392879486084,\n",
       " 14.586786270141602,\n",
       " 15.071429252624512,\n",
       " 14.999643325805664,\n",
       " 15.079999923706055,\n",
       " 14.236429214477539,\n",
       " 14.118213653564453,\n",
       " 14.031070709228516,\n",
       " 14.491786003112793,\n",
       " 14.206070899963379,\n",
       " 14.307143211364746,\n",
       " 14.453213691711426,\n",
       " 14.462499618530273,\n",
       " 14.456428527832031,\n",
       " 14.161070823669434,\n",
       " 14.193214416503906,\n",
       " 14.395357131958008,\n",
       " 14.294285774230957,\n",
       " 14.276070594787598,\n",
       " 14.508213996887207,\n",
       " 14.117142677307129,\n",
       " 13.757857322692871,\n",
       " 13.736429214477539,\n",
       " 13.545000076293945,\n",
       " 13.886786460876465,\n",
       " 13.741786003112793,\n",
       " 13.478928565979004,\n",
       " 13.390713691711426,\n",
       " 13.178929328918457,\n",
       " 13.446785926818848,\n",
       " 13.106785774230957,\n",
       " 12.98464298248291,\n",
       " 13.432856559753418,\n",
       " 13.328571319580078,\n",
       " 13.649999618530273,\n",
       " 13.854642868041992,\n",
       " 13.91785717010498,\n",
       " 14.036070823669434,\n",
       " 13.962499618530273,\n",
       " 13.896071434020996,\n",
       " 13.952142715454102,\n",
       " 14.057856559753418,\n",
       " 13.994285583496094,\n",
       " 13.88607120513916,\n",
       " 13.578213691711426,\n",
       " 13.533571243286133,\n",
       " 13.607856750488281,\n",
       " 13.650357246398926,\n",
       " 14.141071319580078,\n",
       " 14.158928871154785,\n",
       " 14.233928680419922,\n",
       " 14.404643058776855,\n",
       " 14.518928527832031,\n",
       " 14.380000114440918,\n",
       " 14.468570709228516,\n",
       " 14.464285850524902,\n",
       " 14.686785697937012,\n",
       " 14.765713691711426,\n",
       " 14.929642677307129,\n",
       " 15.085714340209961,\n",
       " 15.061785697937012,\n",
       " 15.115714073181152,\n",
       " 15.091071128845215,\n",
       " 15.049642562866211,\n",
       " 14.993213653564453,\n",
       " 15.16785717010498,\n",
       " 15.325357437133789,\n",
       " 15.276785850524902,\n",
       " 15.010713577270508,\n",
       " 15.264642715454102,\n",
       " 15.014642715454102,\n",
       " 15.952142715454102,\n",
       " 15.879643440246582,\n",
       " 15.974286079406738,\n",
       " 16.17892837524414,\n",
       " 16.3028564453125,\n",
       " 16.292499542236328,\n",
       " 16.25428581237793,\n",
       " 16.417142868041992,\n",
       " 16.570356369018555,\n",
       " 16.743928909301758,\n",
       " 17.0242862701416,\n",
       " 17.61321449279785,\n",
       " 17.622142791748047,\n",
       " 17.950000762939453,\n",
       " 18.19499969482422,\n",
       " 17.773929595947266,\n",
       " 17.936071395874023,\n",
       " 17.932857513427734,\n",
       " 18.387500762939453,\n",
       " 18.322856903076172,\n",
       " 18.4424991607666,\n",
       " 18.657499313354492,\n",
       " 18.777143478393555,\n",
       " 19.12178611755371,\n",
       " 19.37285614013672,\n",
       " 19.445356369018555,\n",
       " 19.470714569091797,\n",
       " 19.04142951965332,\n",
       " 18.937856674194336,\n",
       " 18.953214645385742,\n",
       " 19.356786727905273,\n",
       " 19.47035789489746,\n",
       " 19.71428680419922,\n",
       " 20.28928565979004,\n",
       " 21.056428909301758,\n",
       " 20.912857055664062,\n",
       " 20.9132137298584,\n",
       " 21.467857360839844,\n",
       " 21.641429901123047,\n",
       " 21.51785659790039,\n",
       " 21.405000686645508,\n",
       " 21.287500381469727,\n",
       " 21.6778564453125,\n",
       " 21.945714950561523,\n",
       " 22.057857513427734,\n",
       " 21.78071403503418,\n",
       " 21.412500381469727,\n",
       " 22.093929290771484,\n",
       " 22.4757137298584,\n",
       " 22.296785354614258,\n",
       " 22.63142967224121,\n",
       " 22.72249984741211,\n",
       " 22.444286346435547,\n",
       " 22.364286422729492,\n",
       " 22.241785049438477,\n",
       " 21.6153564453125,\n",
       " 20.718929290771484,\n",
       " 21.774999618530273,\n",
       " 21.726428985595703,\n",
       " 20.979999542236328,\n",
       " 20.463571548461914,\n",
       " 20.417856216430664,\n",
       " 20.010000228881836,\n",
       " 21.78571319580078,\n",
       " 21.703571319580078,\n",
       " 21.53571319580078,\n",
       " 20.856428146362305,\n",
       " 20.79035758972168,\n",
       " 20.9278564453125,\n",
       " 20.779285430908203,\n",
       " 20.1875,\n",
       " 20.338571548461914,\n",
       " 20.292142868041992,\n",
       " 20.327856063842773,\n",
       " 20.375713348388672,\n",
       " 20.239643096923828,\n",
       " 19.93642807006836,\n",
       " 19.756071090698242,\n",
       " 19.502857208251953,\n",
       " 18.932857513427734,\n",
       " 18.942142486572266,\n",
       " 20.045713424682617,\n",
       " 19.891786575317383,\n",
       " 20.37714385986328,\n",
       " 20.190000534057617,\n",
       " 20.081785202026367,\n",
       " 20.438213348388672,\n",
       " 20.684642791748047,\n",
       " 20.633214950561523,\n",
       " 20.035356521606445,\n",
       " 20.153213500976562,\n",
       " 20.101070404052734,\n",
       " 20.409286499023438,\n",
       " 20.41857147216797,\n",
       " 20.7257137298584,\n",
       " 20.398929595947266,\n",
       " 20.5771427154541,\n",
       " 20.43428611755371,\n",
       " 20.411785125732422,\n",
       " 20.504642486572266,\n",
       " 20.920713424682617,\n",
       " 20.97892951965332,\n",
       " 20.919286727905273,\n",
       " 20.631071090698242,\n",
       " 20.78928565979004,\n",
       " 20.3846435546875,\n",
       " 20.429643630981445,\n",
       " 20.51785659790039,\n",
       " 20.323213577270508,\n",
       " 20.85714340209961,\n",
       " 21.161428451538086,\n",
       " 21.407499313354492,\n",
       " 21.783571243286133,\n",
       " 21.63857078552246,\n",
       " 21.92464256286621,\n",
       " 21.721786499023438,\n",
       " 21.5867862701416,\n",
       " 21.389286041259766,\n",
       " 21.60607147216797,\n",
       " 21.675357818603516,\n",
       " 21.676429748535156,\n",
       " 21.652143478393555,\n",
       " 21.940000534057617,\n",
       " 21.582143783569336,\n",
       " 21.565357208251953,\n",
       " 21.461429595947266,\n",
       " 20.534643173217773,\n",
       " 20.531429290771484,\n",
       " 20.898571014404297,\n",
       " 21.25107192993164,\n",
       " 21.812856674194336,\n",
       " 21.671785354614258,\n",
       " 21.706785202026367,\n",
       " 21.989286422729492,\n",
       " 22.233928680419922,\n",
       " 22.175357818603516,\n",
       " 22.13785743713379,\n",
       " 22.168928146362305,\n",
       " 22.203571319580078,\n",
       " 22.5,\n",
       " 22.56035614013672,\n",
       " 22.52964210510254,\n",
       " 22.726428985595703,\n",
       " 23.146785736083984,\n",
       " 23.75535774230957,\n",
       " 23.430713653564453,\n",
       " 23.888214111328125,\n",
       " 23.66535758972168,\n",
       " 23.68642807006836,\n",
       " 24.13142967224121,\n",
       " 24.100000381469727,\n",
       " 24.052499771118164,\n",
       " 23.70964241027832,\n",
       " 23.75857162475586,\n",
       " 24.10607147216797,\n",
       " 23.936786651611328,\n",
       " 24.15250015258789,\n",
       " 24.301429748535156,\n",
       " 23.669286727905273,\n",
       " 23.592500686645508,\n",
       " 23.921070098876953,\n",
       " 24.39214324951172,\n",
       " 24.68857192993164,\n",
       " 24.992143630981445,\n",
       " 25.068214416503906,\n",
       " 25.075000762939453,\n",
       " 24.953571319580078,\n",
       " 25.00321388244629,\n",
       " 24.671070098876953,\n",
       " 24.05500030517578,\n",
       " 23.75642967224121,\n",
       " 24.332857131958008,\n",
       " 23.825000762939453,\n",
       " 23.54964256286621,\n",
       " 23.618213653564453,\n",
       " 23.980356216430664,\n",
       " 23.814285278320312,\n",
       " 23.306785583496094,\n",
       " 22.791786193847656,\n",
       " 22.70892906188965,\n",
       " 22.8896427154541,\n",
       " 22.43214225769043,\n",
       " 22.489643096923828,\n",
       " 22.670000076293945,\n",
       " 23.206785202026367,\n",
       " 23.021785736083984,\n",
       " 22.59428596496582,\n",
       " 21.780000686645508,\n",
       " 22.64392852783203,\n",
       " 21.90571403503418,\n",
       " 22.02964210510254,\n",
       " 21.769285202026367,\n",
       " 21.571428298950195,\n",
       " 21.261428833007812,\n",
       " 21.30500030517578,\n",
       " 20.600000381469727,\n",
       " 20.87928581237793,\n",
       " 20.816070556640625,\n",
       " 19.928571701049805,\n",
       " 19.20535659790039,\n",
       " 19.537857055664062,\n",
       " 19.38678550720215,\n",
       " 19.389286041259766,\n",
       " 19.174285888671875,\n",
       " 18.77214241027832,\n",
       " 18.845714569091797,\n",
       " 20.20464324951172,\n",
       " 20.032499313354492,\n",
       " 20.060714721679688,\n",
       " 20.41071319580078,\n",
       " 21.054643630981445,\n",
       " 20.885000228881836,\n",
       " 20.819286346435547,\n",
       " 21.04857063293457,\n",
       " 20.902856826782227]"
      ]
     },
     "execution_count": 28,
     "metadata": {},
     "output_type": "execute_result"
    }
   ],
   "source": [
    "close_price_array_window[min_index]"
   ]
  },
  {
   "cell_type": "code",
   "execution_count": 29,
   "metadata": {
    "ExecuteTime": {
     "end_time": "2022-04-17T07:17:19.375312Z",
     "start_time": "2022-04-17T07:17:19.197929Z"
    }
   },
   "outputs": [
    {
     "data": {
      "text/plain": [
       "[<matplotlib.lines.Line2D at 0x7fcbb76be590>,\n",
       " <matplotlib.lines.Line2D at 0x7fcbb76be490>,\n",
       " <matplotlib.lines.Line2D at 0x7fcbb76be6d0>,\n",
       " <matplotlib.lines.Line2D at 0x7fcbb76be510>,\n",
       " <matplotlib.lines.Line2D at 0x7fcbb76be810>,\n",
       " <matplotlib.lines.Line2D at 0x7fcbb76be910>,\n",
       " <matplotlib.lines.Line2D at 0x7fcbb76be9d0>]"
      ]
     },
     "execution_count": 29,
     "metadata": {},
     "output_type": "execute_result"
    },
    {
     "data": {
      "image/png": "[encoded data removed]",
      "text/plain": [
       "<Figure size 432x288 with 1 Axes>"
      ]
     },
     "metadata": {
      "needs_background": "light"
     },
     "output_type": "display_data"
    }
   ],
   "source": [
    "plt.plot(days, close_price_array, \n",
    "         [first_day_index] * 175, [i for i in range(0, 175)], \n",
    "         [first_day_index + date_gap] * 175, [i for i in range(0, 175)],\n",
    "         [7000 + min_index*step] * 175, [i for i in range(0,175)],\n",
    "         [7000 + min_index*step + date_gap] * 175, [i for i in range(0,175)],\n",
    "         [i for i in range(7000 + min_index*step, 7000 + min_index*step + date_gap)], [0] * date_gap,\n",
    "         [i for i in range(7000 + min_index*step, 7000 + min_index*step + date_gap)], [175] * date_gap\n",
    "         )"
   ]
  },
  {
   "cell_type": "code",
   "execution_count": 30,
   "metadata": {
    "ExecuteTime": {
     "end_time": "2022-04-17T07:19:21.723569Z",
     "start_time": "2022-04-17T07:19:21.714879Z"
    }
   },
   "outputs": [
    {
     "data": {
      "text/plain": [
       "196"
      ]
     },
     "execution_count": 30,
     "metadata": {},
     "output_type": "execute_result"
    }
   ],
   "source": [
    "final_day_index-(first_day_index + date_gap + 1)"
   ]
  },
  {
   "cell_type": "code",
   "execution_count": 31,
   "metadata": {
    "ExecuteTime": {
     "end_time": "2022-04-17T07:19:28.872231Z",
     "start_time": "2022-04-17T07:19:28.864924Z"
    }
   },
   "outputs": [],
   "source": [
    "after_similar_pattern = close_price_array[7000 + min_index*step + date_gap: 7000 + min_index*step + date_gap + 184]"
   ]
  },
  {
   "cell_type": "code",
   "execution_count": 32,
   "metadata": {
    "ExecuteTime": {
     "end_time": "2022-04-17T07:19:39.825813Z",
     "start_time": "2022-04-17T07:19:39.821208Z"
    }
   },
   "outputs": [],
   "source": [
    "after_current_pattern = close_price_array[first_day_index + date_gap + 1: final_day_index]"
   ]
  },
  {
   "cell_type": "code",
   "execution_count": 33,
   "metadata": {
    "ExecuteTime": {
     "end_time": "2022-04-17T07:19:41.652026Z",
     "start_time": "2022-04-17T07:19:41.647782Z"
    }
   },
   "outputs": [],
   "source": [
    "after_similar_pattern_norm = Z_ScoreNormalization(after_similar_pattern, np.average(after_similar_pattern), np.std(after_similar_pattern))\n",
    "after_current_pattern_norm = Z_ScoreNormalization(after_current_pattern, np.average(after_current_pattern), np.std(after_current_pattern))"
   ]
  },
  {
   "cell_type": "code",
   "execution_count": 34,
   "metadata": {
    "ExecuteTime": {
     "end_time": "2022-04-17T07:19:42.200931Z",
     "start_time": "2022-04-17T07:19:42.150777Z"
    }
   },
   "outputs": [
    {
     "data": {
      "text/plain": [
       "157.47226235760564"
      ]
     },
     "execution_count": 34,
     "metadata": {},
     "output_type": "execute_result"
    }
   ],
   "source": [
    "cal_dtw_distance(after_similar_pattern_norm, after_current_pattern_norm)"
   ]
  },
  {
   "cell_type": "code",
   "execution_count": 35,
   "metadata": {
    "ExecuteTime": {
     "end_time": "2022-04-17T07:32:58.629380Z",
     "start_time": "2022-04-17T07:32:58.625217Z"
    }
   },
   "outputs": [],
   "source": [
    "def min_max_norm(x):\n",
    "    min_value = min(x)\n",
    "    max_value = max(x)\n",
    "    x = np.array(x)\n",
    "    return (x - min_value)/(max_value - min_value)"
   ]
  },
  {
   "cell_type": "code",
   "execution_count": 36,
   "metadata": {
    "ExecuteTime": {
     "end_time": "2022-04-17T07:33:10.826373Z",
     "start_time": "2022-04-17T07:33:10.814811Z"
    }
   },
   "outputs": [],
   "source": [
    "low_price_array_norm = min_max_norm(low_price_array)\n",
    "high_price_array_norm = min_max_norm(high_price_array)\n",
    "open_price_array_norm = min_max_norm(open_price_array)\n",
    "transaction_volume_array_norm = min_max_norm(transaction_volume_array)\n",
    "adjusted_close_price_array_norm = min_max_norm(adjusted_close_price_array)"
   ]
  },
  {
   "cell_type": "code",
   "execution_count": 37,
   "metadata": {
    "ExecuteTime": {
     "end_time": "2022-04-17T07:33:13.321252Z",
     "start_time": "2022-04-17T07:33:13.312390Z"
    }
   },
   "outputs": [
    {
     "name": "stdout",
     "output_type": "stream",
     "text": [
      "[[1.28347993e-01 4.42511865e-04 4.30949973e-04 6.31981003e-02\n",
      "  4.33270546e-04 3.40809167e-04]\n",
      " [1.21652000e-01 4.05118890e-04 3.97331954e-04 2.36989104e-02\n",
      "  3.96658479e-04 3.12010178e-04]\n",
      " [1.12723000e-01 3.55255959e-04 3.48427418e-04 1.42459064e-02\n",
      "  3.47836836e-04 2.73607263e-04]\n",
      " ...\n",
      " [1.74070007e+02 9.50243233e-01 9.36630596e-01 1.21444034e-02\n",
      "  9.51883718e-01 9.57585624e-01]\n",
      " [1.74720001e+02 9.64427523e-01 9.52075892e-01 1.08427101e-02\n",
      "  9.58116958e-01 9.61162128e-01]\n",
      " [1.74549896e+02 9.60239237e-01 9.42710115e-01 7.01735794e-03\n",
      "  9.56613358e-01 9.60226148e-01]]\n"
     ]
    }
   ],
   "source": [
    "datas = np.stack((close_price_array, low_price_array_norm, open_price_array_norm, transaction_volume_array_norm, high_price_array_norm, adjusted_close_price_array_norm), axis = 1)\n",
    "print(datas)"
   ]
  },
  {
   "cell_type": "code",
   "execution_count": 38,
   "metadata": {
    "ExecuteTime": {
     "end_time": "2022-04-17T07:33:18.145406Z",
     "start_time": "2022-04-17T07:33:17.032002Z"
    }
   },
   "outputs": [],
   "source": [
    "import pandas as pd\n",
    "df = pd.DataFrame(datas, columns=['close_price', 'low_price', 'open_price', 'transaction_volume', 'high_price', 'adjusted_close_price'])"
   ]
  },
  {
   "cell_type": "code",
   "execution_count": 39,
   "metadata": {
    "ExecuteTime": {
     "end_time": "2022-04-17T07:34:39.276925Z",
     "start_time": "2022-04-17T07:34:38.790631Z"
    }
   },
   "outputs": [],
   "source": [
    "sparkdf = spark.createDataFrame(df)"
   ]
  },
  {
   "cell_type": "code",
   "execution_count": 40,
   "metadata": {
    "ExecuteTime": {
     "end_time": "2022-04-17T07:34:40.452898Z",
     "start_time": "2022-04-17T07:34:39.561958Z"
    }
   },
   "outputs": [
    {
     "name": "stdout",
     "output_type": "stream",
     "text": [
      "+-------------------+--------------------+--------------------+--------------------+--------------------+--------------------+\n",
      "|        close_price|           low_price|          open_price|  transaction_volume|          high_price|adjusted_close_price|\n",
      "+-------------------+--------------------+--------------------+--------------------+--------------------+--------------------+\n",
      "| 0.1283479928970337|4.425118649857621E-4|4.309499733540966E-4| 0.06319810034460305|4.332705461604476E-4|3.408091666033806...|\n",
      "|0.12165199965238571|4.051188899742423E-4|3.973319536627579...|0.023698910354163192|3.966584793977416...|3.120101778772833E-4|\n",
      "|0.11272300034761429| 3.55255959161392E-4|3.484274179329132...| 0.01424590637692948|3.478368364379171E-4|2.736072626773375...|\n",
      "|0.11551299691200256|3.708363619489521E-4|3.606521746245647E-4|0.011647235743341283| 3.63091901598848E-4|2.856069438027582...|\n",
      "|0.11886200308799744|3.895384871866822...|3.789948186252808E-4|0.009896679451260966|3.814034142368107...|3.000106607351375E-4|\n",
      "|0.12611599266529083|4.300475261129628E-4|4.187252166624452...|0.006552513293286843|4.210665103268898E-4| 3.31209421703044E-4|\n",
      "| 0.1322540044784546|4.643245204234778E-4|4.523433587751892...|0.005034358439982706|4.546331288637508E-4|3.576084332082384...|\n",
      "|0.13783499598503113|4.954909013202512E-4|4.829106778532866E-4|0.006326148255517836|4.851431777096778...|3.816118540451355...|\n",
      "|0.14508900046348572|5.360000234602878E-4|5.226411575047212E-4|0.006468003679186414|5.248063145377243E-4|4.128105740172233E-4|\n",
      "|0.15848200023174286|6.107916320187367E-4|5.959951658107336E-4|0.007488155449398737| 5.98035988426697E-4|4.704129380220235E-4|\n",
      "|0.16071400046348572|6.232559708915359E-4| 6.08219922502385E-4| 0.01255269589441731|6.102400242602548E-4|4.800123549558101...|\n",
      "|  0.156808003783226|6.014433986675762E-4|5.898827466577728E-4|0.009280966548529269|5.888829004445776E-4|4.632131293467710...|\n",
      "| 0.1523440033197403|5.765147209219777E-4|5.654333148887401E-4|0.004817048003724459|5.644749102533968E-4|4.440141314959228...|\n",
      "|0.15401799976825714|5.858629542731381E-4|5.715456524274308E-4|0.002918599886968391|5.766789460869546E-4| 4.51213817183719E-4|\n",
      "|0.15067000687122345|5.671664875708172E-4| 5.56264686159299E-4|0.004814029803220873|5.553218222712774E-4|4.368142818248516...|\n",
      "| 0.1439729928970337|5.297678124170102E-4|5.195849479282408E-4|0.006084692215230...| 5.18704255882978E-4|4.080108655503299...|\n",
      "|0.13783499598503113|4.954909013202512E-4| 4.85966887429767E-4|0.007503246451916671|4.851431777096778...|3.816118540451355...|\n",
      "|0.13504500687122345|4.799105401395691...|4.706859211616352E-4|0.005366360495377...|4.698881125487469...|3.696125828779022...|\n",
      "|0.14229899644851685|5.204195790658497E-4|5.073601912365894E-4|0.002897472483443284|5.095512493767934E-4|  4.0081130284999E-4|\n",
      "|  0.141183003783226|5.141874512363281E-4|5.073601912365894E-4|0.003193256132794786|5.065002200494203E-4|3.960115123914592E-4|\n",
      "+-------------------+--------------------+--------------------+--------------------+--------------------+--------------------+\n",
      "only showing top 20 rows\n",
      "\n"
     ]
    }
   ],
   "source": [
    "sparkdf.show()"
   ]
  },
  {
   "cell_type": "code",
   "execution_count": 41,
   "metadata": {
    "ExecuteTime": {
     "end_time": "2022-04-17T07:35:27.085908Z",
     "start_time": "2022-04-17T07:35:24.331566Z"
    }
   },
   "outputs": [],
   "source": [
    "from pyspark.ml.regression import LinearRegression\n",
    "from pyspark.ml.feature import VectorAssembler, VectorIndexer\n",
    "assembler = VectorAssembler(inputCols=['low_price', 'open_price', 'transaction_volume', 'high_price', 'adjusted_close_price'], outputCol='features')\n",
    "output = assembler.transform(sparkdf)\n",
    "label_features = output.select(\"features\", 'close_price').toDF('features', 'label')\n",
    "train_data = pd.DataFrame(label_features.toPandas()[0:8000], columns=['features', 'label'])\n",
    "train_data = spark.createDataFrame(train_data)\n",
    "test_data = pd.DataFrame(label_features.toPandas()[8000:], columns=['features', 'label'])\n",
    "test_data = spark.createDataFrame(test_data)\n",
    "lr = LinearRegression()\n",
    "lrModel = lr.fit(train_data)"
   ]
  },
  {
   "cell_type": "code",
   "execution_count": 42,
   "metadata": {
    "ExecuteTime": {
     "end_time": "2022-04-17T07:35:32.634636Z",
     "start_time": "2022-04-17T07:35:32.455759Z"
    }
   },
   "outputs": [
    {
     "name": "stdout",
     "output_type": "stream",
     "text": [
      "R2: 0.9500222250096881\n"
     ]
    }
   ],
   "source": [
    "test_result = lrModel.evaluate(test_data)\n",
    "print(\"R2: {}\".format(test_result.r2))"
   ]
  },
  {
   "cell_type": "code",
   "execution_count": 43,
   "metadata": {
    "ExecuteTime": {
     "end_time": "2022-04-17T07:35:32.646672Z",
     "start_time": "2022-04-17T07:35:32.641755Z"
    }
   },
   "outputs": [],
   "source": [
    "test_current_data = df.loc[7000+min_index:7000+min_index+date_gap]"
   ]
  },
  {
   "cell_type": "code",
   "execution_count": 44,
   "metadata": {
    "ExecuteTime": {
     "end_time": "2022-04-17T07:36:08.535835Z",
     "start_time": "2022-04-17T07:36:08.482121Z"
    }
   },
   "outputs": [],
   "source": [
    "test_current_data = spark.createDataFrame(test_current_data)"
   ]
  },
  {
   "cell_type": "code",
   "execution_count": 45,
   "metadata": {
    "ExecuteTime": {
     "end_time": "2022-04-17T07:36:14.722808Z",
     "start_time": "2022-04-17T07:36:14.492777Z"
    }
   },
   "outputs": [
    {
     "name": "stdout",
     "output_type": "stream",
     "text": [
      "R2: 0.9768921641201787\n"
     ]
    }
   ],
   "source": [
    "test_current_data = assembler.transform(test_current_data)\n",
    "test_current_data = output.select(\"features\", 'close_price').toDF('features', 'label')\n",
    "test_result = lrModel.evaluate(test_current_data)\n",
    "print(\"R2: {}\".format(test_result.r2))"
   ]
  },
  {
   "cell_type": "code",
   "execution_count": 46,
   "metadata": {
    "ExecuteTime": {
     "end_time": "2022-04-17T07:36:18.054850Z",
     "start_time": "2022-04-17T07:36:18.047737Z"
    }
   },
   "outputs": [],
   "source": [
    "def train_and_test(sparkdf, inputCols, target):\n",
    "    assembler = VectorAssembler(inputCols=inputCols, outputCol='features')\n",
    "    output = assembler.transform(sparkdf)\n",
    "    label_features = output.select('features', target).toDF('features', 'label')\n",
    "    train_data = pd.DataFrame(label_features.toPandas()[0:8000], columns=['features', 'label'])\n",
    "    train_data = spark.createDataFrame(train_data)\n",
    "    test_data = pd.DataFrame(label_features.toPandas()[8000:], columns=['features', 'label'])\n",
    "    test_data = spark.createDataFrame(test_data)\n",
    "    lr = LinearRegression()\n",
    "    lrModel = lr.fit(train_data)\n",
    "    test_result = lrModel.evaluate(test_data)\n",
    "    print(\"R2: {}\".format(test_result.r2))\n",
    "    return test_result.r2"
   ]
  },
  {
   "cell_type": "code",
   "execution_count": 47,
   "metadata": {
    "ExecuteTime": {
     "end_time": "2022-04-17T07:36:45.019139Z",
     "start_time": "2022-04-17T07:36:39.600460Z"
    }
   },
   "outputs": [
    {
     "name": "stdout",
     "output_type": "stream",
     "text": [
      "R2: 0.9996981033430982\n",
      "R2: 0.9994089422883846\n",
      "R2: -1.5199523836530897\n",
      "R2: 0.9997025526951183\n",
      "R2: 0.9394047328580157\n"
     ]
    }
   ],
   "source": [
    "test_results = []\n",
    "inputCols = ['low_price', 'open_price', 'transaction_volume', 'high_price', 'adjusted_close_price']\n",
    "target = 'close_price'\n",
    "for i in range(0, 5):\n",
    "    test_results.append(train_and_test(sparkdf, inputCols[i:i+1], target))"
   ]
  },
  {
   "cell_type": "code",
   "execution_count": 48,
   "metadata": {
    "ExecuteTime": {
     "end_time": "2022-04-17T07:36:50.032830Z",
     "start_time": "2022-04-17T07:36:50.024795Z"
    }
   },
   "outputs": [],
   "source": [
    "best_determinant = inputCols[test_results.index(max(test_results))]"
   ]
  },
  {
   "cell_type": "code",
   "execution_count": 49,
   "metadata": {
    "ExecuteTime": {
     "end_time": "2022-04-17T07:36:51.229834Z",
     "start_time": "2022-04-17T07:36:51.221147Z"
    }
   },
   "outputs": [
    {
     "data": {
      "text/plain": [
       "'high_price'"
      ]
     },
     "execution_count": 49,
     "metadata": {},
     "output_type": "execute_result"
    }
   ],
   "source": [
    "best_determinant"
   ]
  },
  {
   "cell_type": "code",
   "execution_count": 50,
   "metadata": {
    "ExecuteTime": {
     "end_time": "2022-04-17T07:37:12.075182Z",
     "start_time": "2022-04-17T07:37:07.648982Z"
    }
   },
   "outputs": [
    {
     "name": "stdout",
     "output_type": "stream",
     "text": [
      "R2: 0.9997972150058309\n",
      "R2: 0.9998589916315269\n",
      "R2: 0.9998557380634812\n",
      "R2: 0.9500222250101809\n"
     ]
    }
   ],
   "source": [
    "inputCols = ['low_price', 'open_price', 'transaction_volume', 'high_price', 'adjusted_close_price']\n",
    "determinants = []\n",
    "determinants.append(best_determinant)\n",
    "inputCols.remove(best_determinant)\n",
    "result = max(test_results)\n",
    "for i in range(0, 4):\n",
    "    determinants.append(inputCols[i])\n",
    "    temp_result = train_and_test(sparkdf, determinants, target)\n",
    "    if temp_result < result:\n",
    "        determinants.remove(inputCols[i])"
   ]
  },
  {
   "cell_type": "code",
   "execution_count": 51,
   "metadata": {
    "ExecuteTime": {
     "end_time": "2022-04-17T07:37:20.314745Z",
     "start_time": "2022-04-17T07:37:20.306266Z"
    }
   },
   "outputs": [
    {
     "data": {
      "text/plain": [
       "['high_price', 'low_price', 'open_price', 'transaction_volume']"
      ]
     },
     "execution_count": 51,
     "metadata": {},
     "output_type": "execute_result"
    }
   ],
   "source": [
    "determinants"
   ]
  },
  {
   "cell_type": "code",
   "execution_count": 52,
   "metadata": {
    "ExecuteTime": {
     "end_time": "2022-04-17T07:37:44.174936Z",
     "start_time": "2022-04-17T07:37:44.166744Z"
    }
   },
   "outputs": [
    {
     "name": "stdout",
     "output_type": "stream",
     "text": [
      "root\n",
      " |-- Date: string (nullable = true)\n",
      " |-- Low: double (nullable = true)\n",
      " |-- Open: double (nullable = true)\n",
      " |-- Volume: long (nullable = true)\n",
      " |-- High: double (nullable = true)\n",
      " |-- Close: double (nullable = true)\n",
      " |-- Adjusted Close: double (nullable = true)\n",
      "\n"
     ]
    }
   ],
   "source": [
    "stock_1.printSchema()"
   ]
  },
  {
   "cell_type": "code",
   "execution_count": 53,
   "metadata": {
    "ExecuteTime": {
     "end_time": "2022-04-17T07:40:29.117907Z",
     "start_time": "2022-04-17T07:40:29.114939Z"
    }
   },
   "outputs": [],
   "source": [
    "interval = (int)((final_day_index - first_day_index) / 3)"
   ]
  },
  {
   "cell_type": "code",
   "execution_count": 54,
   "metadata": {
    "ExecuteTime": {
     "end_time": "2022-04-17T07:41:23.203165Z",
     "start_time": "2022-04-17T07:41:23.170666Z"
    }
   },
   "outputs": [],
   "source": [
    "final_train_data_feature = df[determinants].loc[first_day_index: first_day_index + interval]"
   ]
  },
  {
   "cell_type": "code",
   "execution_count": 55,
   "metadata": {
    "ExecuteTime": {
     "end_time": "2022-04-17T07:42:31.561606Z",
     "start_time": "2022-04-17T07:42:31.556815Z"
    }
   },
   "outputs": [],
   "source": [
    "final_train_data_target = df[['close_price']].loc[first_day_index + interval: first_day_index + 2 * interval]"
   ]
  },
  {
   "cell_type": "code",
   "execution_count": 56,
   "metadata": {
    "ExecuteTime": {
     "end_time": "2022-04-17T07:44:55.910030Z",
     "start_time": "2022-04-17T07:44:55.906210Z"
    }
   },
   "outputs": [],
   "source": [
    "newindex = [i for i in range(0, len(final_train_data_feature))]\n",
    "final_train_data_feature.index = newindex\n",
    "final_train_data_target.index = newindex"
   ]
  },
  {
   "cell_type": "code",
   "execution_count": 57,
   "metadata": {
    "ExecuteTime": {
     "end_time": "2022-04-17T07:46:02.724432Z",
     "start_time": "2022-04-17T07:46:02.715607Z"
    }
   },
   "outputs": [],
   "source": [
    "final_train_data = final_train_data_feature\n",
    "final_train_data.insert(loc=0, column='close_price', value=final_train_data_target['close_price'])\n",
    "final_train_data.insert(loc=0, column='index', value=newindex)"
   ]
  },
  {
   "cell_type": "code",
   "execution_count": 58,
   "metadata": {
    "ExecuteTime": {
     "end_time": "2022-04-17T07:46:50.591336Z",
     "start_time": "2022-04-17T07:46:50.570423Z"
    }
   },
   "outputs": [],
   "source": [
    "final_train_data.to_csv('final_train_data.csv', index=False)"
   ]
  },
  {
   "cell_type": "code",
   "execution_count": 59,
   "metadata": {
    "ExecuteTime": {
     "end_time": "2022-04-17T07:57:26.463445Z",
     "start_time": "2022-04-17T07:57:26.451234Z"
    }
   },
   "outputs": [],
   "source": [
    "final_test_data_feature = df[determinants].loc[first_day_index + interval: first_day_index + 2 * interval]\n",
    "final_test_data_target = df[['close_price']].loc[first_day_index + 2 * interval: first_day_index + 3 * interval]\n",
    "final_test_data_feature.index = newindex\n",
    "final_test_data_target.index = newindex\n",
    "\n",
    "final_test_data = final_test_data_feature\n",
    "final_test_data.insert(loc=0, column='close_price', value=final_test_data_target['close_price'])\n",
    "final_test_data.insert(loc=0, column='index', value=newindex)\n",
    "final_test_data.to_csv('final_test_data.csv', index=False)"
   ]
  },
  {
   "cell_type": "code",
   "execution_count": 60,
   "metadata": {
    "ExecuteTime": {
     "end_time": "2022-04-17T08:13:42.895367Z",
     "start_time": "2022-04-17T08:13:42.890852Z"
    }
   },
   "outputs": [],
   "source": [
    "final_predict_data_feature = df[determinants].loc[first_day_index + 2 * interval:]"
   ]
  },
  {
   "cell_type": "code",
   "execution_count": 61,
   "metadata": {
    "ExecuteTime": {
     "end_time": "2022-04-17T08:13:46.331836Z",
     "start_time": "2022-04-17T08:13:46.319694Z"
    }
   },
   "outputs": [],
   "source": [
    "newindex1 = [i for i in range(0, len(final_predict_data_feature))]\n",
    "final_predict_data_feature.index = newindex1"
   ]
  },
  {
   "cell_type": "code",
   "execution_count": 62,
   "metadata": {
    "ExecuteTime": {
     "end_time": "2022-04-17T08:13:46.846916Z",
     "start_time": "2022-04-17T08:13:46.840486Z"
    }
   },
   "outputs": [],
   "source": [
    "final_predict_data_feature.insert(loc=0, column='index', value=newindex1)"
   ]
  },
  {
   "cell_type": "code",
   "execution_count": 63,
   "metadata": {
    "ExecuteTime": {
     "end_time": "2022-04-17T08:15:27.171415Z",
     "start_time": "2022-04-17T08:15:27.163950Z"
    }
   },
   "outputs": [],
   "source": [
    "final_predict_data_feature.to_csv('final_predict_data.csv', index=False)"
   ]
  }
 ],
 "metadata": {
  "kernelspec": {
   "display_name": "Python 3",
   "language": "python",
   "name": "python3"
  },
  "language_info": {
   "codemirror_mode": {
    "name": "ipython",
    "version": 3
   },
   "file_extension": ".py",
   "mimetype": "text/x-python",
   "name": "python",
   "nbconvert_exporter": "python",
   "pygments_lexer": "ipython3",
   "version": "3.7.4"
  }
 },
 "nbformat": 4,
 "nbformat_minor": 5
}
