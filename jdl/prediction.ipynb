{
 "cells": [
  {
   "cell_type": "code",
   "execution_count": 1,
   "metadata": {
    "colab": {
     "base_uri": "https://localhost:8080/"
    },
    "id": "5Wd3xU9SK-QU",
    "outputId": "d96dab4a-be30-4fcf-dfe9-37e84a9e6047"
   },
   "outputs": [],
   "source": [
    "import numpy as np\n",
    "from tensorflow.keras.models import Sequential\n",
    "from tensorflow.keras.layers import LSTM\n",
    "from tensorflow.keras.layers import Dense, Dropout\n",
    "import pandas as pd\n",
    "from matplotlib import pyplot as plt\n",
    "from sklearn.preprocessing import MinMaxScaler\n",
    "import seaborn as sns\n",
    "df=pd.read_csv(\"final_train_data.csv\",index_col=[0])\n",
    "df_test=pd.read_csv(\"final_test_data.csv\", index_col=[0])"
   ]
  },
  {
   "cell_type": "code",
   "execution_count": 2,
   "metadata": {
    "colab": {
     "base_uri": "https://localhost:8080/"
    },
    "id": "Yoif6_IjMVD5",
    "outputId": "ace921a4-15c9-4054-f753-db6730b97814"
   },
   "outputs": [
    {
     "data": {
      "text/plain": [
       "((188, 5), (188, 5))"
      ]
     },
     "execution_count": 2,
     "metadata": {},
     "output_type": "execute_result"
    }
   ],
   "source": [
    "df.shape, df_test.shape"
   ]
  },
  {
   "cell_type": "code",
   "execution_count": 3,
   "metadata": {
    "colab": {
     "base_uri": "https://localhost:8080/",
     "height": 235
    },
    "id": "kwUL0Fd2MabC",
    "outputId": "932ac1d7-e2c4-40f2-bda7-8f46b23912e6"
   },
   "outputs": [
    {
     "data": {
      "text/html": [
       "<div>\n",
       "<style scoped>\n",
       "    .dataframe tbody tr th:only-of-type {\n",
       "        vertical-align: middle;\n",
       "    }\n",
       "\n",
       "    .dataframe tbody tr th {\n",
       "        vertical-align: top;\n",
       "    }\n",
       "\n",
       "    .dataframe thead th {\n",
       "        text-align: right;\n",
       "    }\n",
       "</style>\n",
       "<table border=\"1\" class=\"dataframe\">\n",
       "  <thead>\n",
       "    <tr style=\"text-align: right;\">\n",
       "      <th></th>\n",
       "      <th>close_price</th>\n",
       "      <th>high_price</th>\n",
       "      <th>low_price</th>\n",
       "      <th>open_price</th>\n",
       "      <th>transaction_volume</th>\n",
       "    </tr>\n",
       "    <tr>\n",
       "      <th>index</th>\n",
       "      <th></th>\n",
       "      <th></th>\n",
       "      <th></th>\n",
       "      <th></th>\n",
       "      <th></th>\n",
       "    </tr>\n",
       "  </thead>\n",
       "  <tbody>\n",
       "    <tr>\n",
       "      <th>0</th>\n",
       "      <td>115.809998</td>\n",
       "      <td>0.410603</td>\n",
       "      <td>0.413668</td>\n",
       "      <td>0.406604</td>\n",
       "      <td>0.019716</td>\n",
       "    </tr>\n",
       "    <tr>\n",
       "      <th>1</th>\n",
       "      <td>116.790001</td>\n",
       "      <td>0.409756</td>\n",
       "      <td>0.408433</td>\n",
       "      <td>0.402003</td>\n",
       "      <td>0.015952</td>\n",
       "    </tr>\n",
       "    <tr>\n",
       "      <th>2</th>\n",
       "      <td>113.019997</td>\n",
       "      <td>0.411040</td>\n",
       "      <td>0.415036</td>\n",
       "      <td>0.410287</td>\n",
       "      <td>0.014670</td>\n",
       "    </tr>\n",
       "    <tr>\n",
       "      <th>3</th>\n",
       "      <td>116.500000</td>\n",
       "      <td>0.415879</td>\n",
       "      <td>0.414589</td>\n",
       "      <td>0.406617</td>\n",
       "      <td>0.017796</td>\n",
       "    </tr>\n",
       "    <tr>\n",
       "      <th>4</th>\n",
       "      <td>113.160004</td>\n",
       "      <td>0.424067</td>\n",
       "      <td>0.427210</td>\n",
       "      <td>0.420419</td>\n",
       "      <td>0.022921</td>\n",
       "    </tr>\n",
       "  </tbody>\n",
       "</table>\n",
       "</div>"
      ],
      "text/plain": [
       "       close_price  high_price  low_price  open_price  transaction_volume\n",
       "index                                                                    \n",
       "0       115.809998    0.410603   0.413668    0.406604            0.019716\n",
       "1       116.790001    0.409756   0.408433    0.402003            0.015952\n",
       "2       113.019997    0.411040   0.415036    0.410287            0.014670\n",
       "3       116.500000    0.415879   0.414589    0.406617            0.017796\n",
       "4       113.160004    0.424067   0.427210    0.420419            0.022921"
      ]
     },
     "execution_count": 3,
     "metadata": {},
     "output_type": "execute_result"
    }
   ],
   "source": [
    "df.head()"
   ]
  },
  {
   "cell_type": "code",
   "execution_count": 4,
   "metadata": {
    "colab": {
     "base_uri": "https://localhost:8080/",
     "height": 235
    },
    "id": "gP2xz_m8MbGg",
    "outputId": "66ccd807-9233-4bed-d373-4fd8a56cabe2"
   },
   "outputs": [
    {
     "data": {
      "text/html": [
       "<div>\n",
       "<style scoped>\n",
       "    .dataframe tbody tr th:only-of-type {\n",
       "        vertical-align: middle;\n",
       "    }\n",
       "\n",
       "    .dataframe tbody tr th {\n",
       "        vertical-align: top;\n",
       "    }\n",
       "\n",
       "    .dataframe thead th {\n",
       "        text-align: right;\n",
       "    }\n",
       "</style>\n",
       "<table border=\"1\" class=\"dataframe\">\n",
       "  <thead>\n",
       "    <tr style=\"text-align: right;\">\n",
       "      <th></th>\n",
       "      <th>close_price</th>\n",
       "      <th>high_price</th>\n",
       "      <th>low_price</th>\n",
       "      <th>open_price</th>\n",
       "      <th>transaction_volume</th>\n",
       "    </tr>\n",
       "    <tr>\n",
       "      <th>index</th>\n",
       "      <th></th>\n",
       "      <th></th>\n",
       "      <th></th>\n",
       "      <th></th>\n",
       "      <th></th>\n",
       "    </tr>\n",
       "  </thead>\n",
       "  <tbody>\n",
       "    <tr>\n",
       "      <th>183</th>\n",
       "      <td>133.699997</td>\n",
       "      <td>0.602549</td>\n",
       "      <td>0.586086</td>\n",
       "      <td>0.575748</td>\n",
       "      <td>0.022602</td>\n",
       "    </tr>\n",
       "    <tr>\n",
       "      <th>184</th>\n",
       "      <td>133.410004</td>\n",
       "      <td>0.614523</td>\n",
       "      <td>0.600996</td>\n",
       "      <td>0.593604</td>\n",
       "      <td>0.020209</td>\n",
       "    </tr>\n",
       "    <tr>\n",
       "      <th>185</th>\n",
       "      <td>133.110001</td>\n",
       "      <td>0.630270</td>\n",
       "      <td>0.629532</td>\n",
       "      <td>0.629642</td>\n",
       "      <td>0.018550</td>\n",
       "    </tr>\n",
       "    <tr>\n",
       "      <th>186</th>\n",
       "      <td>134.779999</td>\n",
       "      <td>0.630216</td>\n",
       "      <td>0.633944</td>\n",
       "      <td>0.627123</td>\n",
       "      <td>0.013391</td>\n",
       "    </tr>\n",
       "    <tr>\n",
       "      <th>187</th>\n",
       "      <td>136.330002</td>\n",
       "      <td>0.640878</td>\n",
       "      <td>0.634223</td>\n",
       "      <td>0.622960</td>\n",
       "      <td>0.019224</td>\n",
       "    </tr>\n",
       "  </tbody>\n",
       "</table>\n",
       "</div>"
      ],
      "text/plain": [
       "       close_price  high_price  low_price  open_price  transaction_volume\n",
       "index                                                                    \n",
       "183     133.699997    0.602549   0.586086    0.575748            0.022602\n",
       "184     133.410004    0.614523   0.600996    0.593604            0.020209\n",
       "185     133.110001    0.630270   0.629532    0.629642            0.018550\n",
       "186     134.779999    0.630216   0.633944    0.627123            0.013391\n",
       "187     136.330002    0.640878   0.634223    0.622960            0.019224"
      ]
     },
     "execution_count": 4,
     "metadata": {},
     "output_type": "execute_result"
    }
   ],
   "source": [
    "df.tail()"
   ]
  },
  {
   "cell_type": "code",
   "execution_count": 5,
   "metadata": {},
   "outputs": [
    {
     "data": {
      "text/html": [
       "<div>\n",
       "<style scoped>\n",
       "    .dataframe tbody tr th:only-of-type {\n",
       "        vertical-align: middle;\n",
       "    }\n",
       "\n",
       "    .dataframe tbody tr th {\n",
       "        vertical-align: top;\n",
       "    }\n",
       "\n",
       "    .dataframe thead th {\n",
       "        text-align: right;\n",
       "    }\n",
       "</style>\n",
       "<table border=\"1\" class=\"dataframe\">\n",
       "  <thead>\n",
       "    <tr style=\"text-align: right;\">\n",
       "      <th></th>\n",
       "      <th>close_price</th>\n",
       "      <th>high_price</th>\n",
       "      <th>low_price</th>\n",
       "      <th>open_price</th>\n",
       "      <th>transaction_volume</th>\n",
       "    </tr>\n",
       "    <tr>\n",
       "      <th>index</th>\n",
       "      <th></th>\n",
       "      <th></th>\n",
       "      <th></th>\n",
       "      <th></th>\n",
       "      <th></th>\n",
       "    </tr>\n",
       "  </thead>\n",
       "  <tbody>\n",
       "    <tr>\n",
       "      <th>0</th>\n",
       "      <td>136.330002</td>\n",
       "      <td>0.640878</td>\n",
       "      <td>0.634223</td>\n",
       "      <td>0.622960</td>\n",
       "      <td>0.019224</td>\n",
       "    </tr>\n",
       "    <tr>\n",
       "      <th>1</th>\n",
       "      <td>136.960007</td>\n",
       "      <td>0.643393</td>\n",
       "      <td>0.646565</td>\n",
       "      <td>0.644047</td>\n",
       "      <td>0.015646</td>\n",
       "    </tr>\n",
       "    <tr>\n",
       "      <th>2</th>\n",
       "      <td>137.270004</td>\n",
       "      <td>0.630544</td>\n",
       "      <td>0.626405</td>\n",
       "      <td>0.618031</td>\n",
       "      <td>0.019499</td>\n",
       "    </tr>\n",
       "    <tr>\n",
       "      <th>3</th>\n",
       "      <td>139.960007</td>\n",
       "      <td>0.637542</td>\n",
       "      <td>0.633832</td>\n",
       "      <td>0.623618</td>\n",
       "      <td>0.014315</td>\n",
       "    </tr>\n",
       "    <tr>\n",
       "      <th>4</th>\n",
       "      <td>142.020004</td>\n",
       "      <td>0.634644</td>\n",
       "      <td>0.626572</td>\n",
       "      <td>0.633422</td>\n",
       "      <td>0.021760</td>\n",
       "    </tr>\n",
       "  </tbody>\n",
       "</table>\n",
       "</div>"
      ],
      "text/plain": [
       "       close_price  high_price  low_price  open_price  transaction_volume\n",
       "index                                                                    \n",
       "0       136.330002    0.640878   0.634223    0.622960            0.019224\n",
       "1       136.960007    0.643393   0.646565    0.644047            0.015646\n",
       "2       137.270004    0.630544   0.626405    0.618031            0.019499\n",
       "3       139.960007    0.637542   0.633832    0.623618            0.014315\n",
       "4       142.020004    0.634644   0.626572    0.633422            0.021760"
      ]
     },
     "execution_count": 5,
     "metadata": {},
     "output_type": "execute_result"
    }
   ],
   "source": [
    "df_test.head()"
   ]
  },
  {
   "cell_type": "code",
   "execution_count": 6,
   "metadata": {},
   "outputs": [
    {
     "data": {
      "text/html": [
       "<div>\n",
       "<style scoped>\n",
       "    .dataframe tbody tr th:only-of-type {\n",
       "        vertical-align: middle;\n",
       "    }\n",
       "\n",
       "    .dataframe tbody tr th {\n",
       "        vertical-align: top;\n",
       "    }\n",
       "\n",
       "    .dataframe thead th {\n",
       "        text-align: right;\n",
       "    }\n",
       "</style>\n",
       "<table border=\"1\" class=\"dataframe\">\n",
       "  <thead>\n",
       "    <tr style=\"text-align: right;\">\n",
       "      <th></th>\n",
       "      <th>close_price</th>\n",
       "      <th>high_price</th>\n",
       "      <th>low_price</th>\n",
       "      <th>open_price</th>\n",
       "      <th>transaction_volume</th>\n",
       "    </tr>\n",
       "    <tr>\n",
       "      <th>index</th>\n",
       "      <th></th>\n",
       "      <th></th>\n",
       "      <th></th>\n",
       "      <th></th>\n",
       "      <th></th>\n",
       "    </tr>\n",
       "  </thead>\n",
       "  <tbody>\n",
       "    <tr>\n",
       "      <th>183</th>\n",
       "      <td>165.380005</td>\n",
       "      <td>0.734158</td>\n",
       "      <td>0.743733</td>\n",
       "      <td>0.732392</td>\n",
       "      <td>0.008113</td>\n",
       "    </tr>\n",
       "    <tr>\n",
       "      <th>184</th>\n",
       "      <td>168.820007</td>\n",
       "      <td>0.735907</td>\n",
       "      <td>0.742057</td>\n",
       "      <td>0.736116</td>\n",
       "      <td>0.009258</td>\n",
       "    </tr>\n",
       "    <tr>\n",
       "      <th>185</th>\n",
       "      <td>170.210007</td>\n",
       "      <td>0.731806</td>\n",
       "      <td>0.741387</td>\n",
       "      <td>0.730694</td>\n",
       "      <td>0.009537</td>\n",
       "    </tr>\n",
       "    <tr>\n",
       "      <th>186</th>\n",
       "      <td>174.070007</td>\n",
       "      <td>0.739243</td>\n",
       "      <td>0.744403</td>\n",
       "      <td>0.730420</td>\n",
       "      <td>0.008369</td>\n",
       "    </tr>\n",
       "    <tr>\n",
       "      <th>187</th>\n",
       "      <td>174.720001</td>\n",
       "      <td>0.746023</td>\n",
       "      <td>0.749987</td>\n",
       "      <td>0.738033</td>\n",
       "      <td>0.008698</td>\n",
       "    </tr>\n",
       "  </tbody>\n",
       "</table>\n",
       "</div>"
      ],
      "text/plain": [
       "       close_price  high_price  low_price  open_price  transaction_volume\n",
       "index                                                                    \n",
       "183     165.380005    0.734158   0.743733    0.732392            0.008113\n",
       "184     168.820007    0.735907   0.742057    0.736116            0.009258\n",
       "185     170.210007    0.731806   0.741387    0.730694            0.009537\n",
       "186     174.070007    0.739243   0.744403    0.730420            0.008369\n",
       "187     174.720001    0.746023   0.749987    0.738033            0.008698"
      ]
     },
     "execution_count": 6,
     "metadata": {},
     "output_type": "execute_result"
    }
   ],
   "source": [
    "df_test.tail()"
   ]
  },
  {
   "cell_type": "code",
   "execution_count": 7,
   "metadata": {
    "id": "bBKiER6_MiFr"
   },
   "outputs": [
    {
     "name": "stdout",
     "output_type": "stream",
     "text": [
      "(188, 5)\n",
      "(188, 5)\n"
     ]
    }
   ],
   "source": [
    "df_for_training = df\n",
    "df_for_testing = df_test\n",
    "print(df_for_training.shape)\n",
    "print(df_for_testing.shape)"
   ]
  },
  {
   "cell_type": "code",
   "execution_count": 8,
   "metadata": {
    "id": "8ifCDWtDMnqN"
   },
   "outputs": [],
   "source": [
    "scaler = MinMaxScaler(feature_range=(0,1))\n",
    "df_for_training_scaled = scaler.fit_transform(df_for_training)\n",
    "df_for_testing_scaled = scaler.transform(df_for_testing)"
   ]
  },
  {
   "cell_type": "code",
   "execution_count": 9,
   "metadata": {
    "id": "SNYZ2QL6M1X_"
   },
   "outputs": [],
   "source": [
    "def createXY(dataset, n_past): \n",
    "    dataX = []\n",
    "    dataY = []\n",
    "    for i in range(n_past, len(dataset)):\n",
    "        dataX.append(dataset[i - n_past:i, 0:dataset.shape[1]])\n",
    "        dataY.append(dataset[i,0]) # 用第0相作为label TODO：改为close price所在\n",
    "    return np.array(dataX), np.array(dataY) \n",
    "\n",
    "trainX, trainY = createXY(df_for_training_scaled, 10) # 取过去10天的数据作为features\n",
    "testX, testY = createXY(df_for_testing_scaled, 10)"
   ]
  },
  {
   "cell_type": "code",
   "execution_count": 10,
   "metadata": {},
   "outputs": [
    {
     "name": "stderr",
     "output_type": "stream",
     "text": [
      "/Users/lucky/opt/anaconda3/lib/python3.7/site-packages/ipykernel_launcher.py:12: DeprecationWarning: KerasRegressor is deprecated, use Sci-Keras (https://github.com/adriangb/scikeras) instead. See https://www.adriangb.com/scikeras/stable/migration.html for help migrating.\n",
      "  if sys.path[0] == '':\n"
     ]
    }
   ],
   "source": [
    "from tensorflow.keras.wrappers.scikit_learn import KerasRegressor\n",
    "from sklearn.model_selection import GridSearchCV\n",
    "def build_model(optimizer):\n",
    "    grid_model = Sequential()\n",
    "    grid_model.add(LSTM(50,return_sequences=True,input_shape=(10,5)))\n",
    "    grid_model.add(LSTM(50))\n",
    "    grid_model.add(Dropout(0.2))\n",
    "    grid_model.add(Dense(1))\n",
    "    grid_model.compile(loss = 'mse', optimizer = optimizer)\n",
    "    return grid_model\n",
    "\n",
    "grid_model = KerasRegressor(build_fn=build_model, verbose=1, validation_data=(testX, testY))\n",
    "parameters = {'batch_size' : [16,20],\n",
    "              'epochs' : [100,100],\n",
    "              'optimizer' : ['adam','Adadelta'] }\n",
    "\n",
    "grid_search = GridSearchCV(estimator = grid_model, param_grid = parameters, \n",
    "                           cv = 2, n_jobs = -1)"
   ]
  },
  {
   "cell_type": "code",
   "execution_count": 11,
   "metadata": {
    "colab": {
     "base_uri": "https://localhost:8080/"
    },
    "id": "ZvkHvH6MNCuO",
    "outputId": "325485e9-d33c-4b3b-c591-f740d7794611"
   },
   "outputs": [
    {
     "name": "stdout",
     "output_type": "stream",
     "text": [
      "Epoch 1/100\n",
      "WARNING:tensorflow:AutoGraph could not transform <function Model.make_train_function.<locals>.train_function at 0x7fe75b3e43b0> and will run it as-is.\n",
      "Please report this to the TensorFlow team. When filing the bug, set the verbosity to 10 (on Linux, `export AUTOGRAPH_VERBOSITY=10`) and attach the full output.\n",
      "Cause: 'arguments' object has no attribute 'posonlyargs'\n",
      "To silence this warning, decorate the function with @tf.autograph.experimental.do_not_convert\n",
      "WARNING: AutoGraph could not transform <function Model.make_train_function.<locals>.train_function at 0x7fe75b3e43b0> and will run it as-is.\n",
      "Please report this to the TensorFlow team. When filing the bug, set the verbosity to 10 (on Linux, `export AUTOGRAPH_VERBOSITY=10`) and attach the full output.\n",
      "Cause: 'arguments' object has no attribute 'posonlyargs'\n",
      "To silence this warning, decorate the function with @tf.autograph.experimental.do_not_convert\n",
      "10/12 [========================>.....] - ETA: 0s - loss: 0.0943WARNING:tensorflow:AutoGraph could not transform <function Model.make_test_function.<locals>.test_function at 0x7fe75b300050> and will run it as-is.\n",
      "Please report this to the TensorFlow team. When filing the bug, set the verbosity to 10 (on Linux, `export AUTOGRAPH_VERBOSITY=10`) and attach the full output.\n",
      "Cause: 'arguments' object has no attribute 'posonlyargs'\n",
      "To silence this warning, decorate the function with @tf.autograph.experimental.do_not_convert\n",
      "WARNING: AutoGraph could not transform <function Model.make_test_function.<locals>.test_function at 0x7fe75b300050> and will run it as-is.\n",
      "Please report this to the TensorFlow team. When filing the bug, set the verbosity to 10 (on Linux, `export AUTOGRAPH_VERBOSITY=10`) and attach the full output.\n",
      "Cause: 'arguments' object has no attribute 'posonlyargs'\n",
      "To silence this warning, decorate the function with @tf.autograph.experimental.do_not_convert\n",
      "12/12 [==============================] - 4s 81ms/step - loss: 0.0893 - val_loss: 0.1717\n",
      "Epoch 2/100\n",
      "12/12 [==============================] - 0s 12ms/step - loss: 0.0259 - val_loss: 0.2886\n",
      "Epoch 3/100\n",
      "12/12 [==============================] - 0s 12ms/step - loss: 0.0193 - val_loss: 0.2110\n",
      "Epoch 4/100\n",
      "12/12 [==============================] - 0s 12ms/step - loss: 0.0172 - val_loss: 0.1987\n",
      "Epoch 5/100\n",
      "12/12 [==============================] - 0s 11ms/step - loss: 0.0151 - val_loss: 0.1259\n",
      "Epoch 6/100\n",
      "12/12 [==============================] - 0s 11ms/step - loss: 0.0159 - val_loss: 0.1586\n",
      "Epoch 7/100\n",
      "12/12 [==============================] - 0s 12ms/step - loss: 0.0167 - val_loss: 0.1531\n",
      "Epoch 8/100\n",
      "12/12 [==============================] - 0s 11ms/step - loss: 0.0190 - val_loss: 0.0587\n",
      "Epoch 9/100\n",
      "12/12 [==============================] - 0s 11ms/step - loss: 0.0181 - val_loss: 0.1980\n",
      "Epoch 10/100\n",
      "12/12 [==============================] - 0s 11ms/step - loss: 0.0179 - val_loss: 0.1206\n",
      "Epoch 11/100\n",
      "12/12 [==============================] - 0s 11ms/step - loss: 0.0155 - val_loss: 0.0780\n",
      "Epoch 12/100\n",
      "12/12 [==============================] - 0s 11ms/step - loss: 0.0164 - val_loss: 0.0769\n",
      "Epoch 13/100\n",
      "12/12 [==============================] - 0s 10ms/step - loss: 0.0162 - val_loss: 0.2034\n",
      "Epoch 14/100\n",
      "12/12 [==============================] - 0s 11ms/step - loss: 0.0158 - val_loss: 0.0397\n",
      "Epoch 15/100\n",
      "12/12 [==============================] - 0s 11ms/step - loss: 0.0143 - val_loss: 0.1455\n",
      "Epoch 16/100\n",
      "12/12 [==============================] - 0s 11ms/step - loss: 0.0136 - val_loss: 0.0668\n",
      "Epoch 17/100\n",
      "12/12 [==============================] - 0s 11ms/step - loss: 0.0130 - val_loss: 0.0722\n",
      "Epoch 18/100\n",
      "12/12 [==============================] - 0s 10ms/step - loss: 0.0116 - val_loss: 0.0788\n",
      "Epoch 19/100\n",
      "12/12 [==============================] - 0s 11ms/step - loss: 0.0118 - val_loss: 0.1024\n",
      "Epoch 20/100\n",
      "12/12 [==============================] - 0s 10ms/step - loss: 0.0122 - val_loss: 0.0677\n",
      "Epoch 21/100\n",
      "12/12 [==============================] - 0s 10ms/step - loss: 0.0122 - val_loss: 0.0568\n",
      "Epoch 22/100\n",
      "12/12 [==============================] - 0s 12ms/step - loss: 0.0118 - val_loss: 0.0974\n",
      "Epoch 23/100\n",
      "12/12 [==============================] - 0s 11ms/step - loss: 0.0123 - val_loss: 0.0916\n",
      "Epoch 24/100\n",
      "12/12 [==============================] - 0s 11ms/step - loss: 0.0115 - val_loss: 0.0509\n",
      "Epoch 25/100\n",
      "12/12 [==============================] - 0s 10ms/step - loss: 0.0118 - val_loss: 0.0781\n",
      "Epoch 26/100\n",
      "12/12 [==============================] - 0s 11ms/step - loss: 0.0107 - val_loss: 0.0484\n",
      "Epoch 27/100\n",
      "12/12 [==============================] - 0s 10ms/step - loss: 0.0114 - val_loss: 0.0887\n",
      "Epoch 28/100\n",
      "12/12 [==============================] - 0s 11ms/step - loss: 0.0108 - val_loss: 0.0511\n",
      "Epoch 29/100\n",
      "12/12 [==============================] - 0s 11ms/step - loss: 0.0103 - val_loss: 0.0266\n",
      "Epoch 30/100\n",
      "12/12 [==============================] - 0s 10ms/step - loss: 0.0121 - val_loss: 0.0358\n",
      "Epoch 31/100\n",
      "12/12 [==============================] - 0s 11ms/step - loss: 0.0117 - val_loss: 0.0753\n",
      "Epoch 32/100\n",
      "12/12 [==============================] - 0s 11ms/step - loss: 0.0097 - val_loss: 0.0543\n",
      "Epoch 33/100\n",
      "12/12 [==============================] - 0s 10ms/step - loss: 0.0099 - val_loss: 0.0508\n",
      "Epoch 34/100\n",
      "12/12 [==============================] - 0s 10ms/step - loss: 0.0096 - val_loss: 0.0347\n",
      "Epoch 35/100\n",
      "12/12 [==============================] - 0s 11ms/step - loss: 0.0100 - val_loss: 0.0390\n",
      "Epoch 36/100\n",
      "12/12 [==============================] - 0s 11ms/step - loss: 0.0083 - val_loss: 0.0380\n",
      "Epoch 37/100\n",
      "12/12 [==============================] - 0s 10ms/step - loss: 0.0088 - val_loss: 0.0564\n",
      "Epoch 38/100\n",
      "12/12 [==============================] - 0s 11ms/step - loss: 0.0096 - val_loss: 0.0509\n",
      "Epoch 39/100\n",
      "12/12 [==============================] - 0s 11ms/step - loss: 0.0089 - val_loss: 0.0294\n",
      "Epoch 40/100\n",
      "12/12 [==============================] - 0s 12ms/step - loss: 0.0087 - val_loss: 0.0400\n",
      "Epoch 41/100\n",
      "12/12 [==============================] - 0s 13ms/step - loss: 0.0096 - val_loss: 0.0311\n",
      "Epoch 42/100\n",
      "12/12 [==============================] - 0s 12ms/step - loss: 0.0095 - val_loss: 0.0309\n",
      "Epoch 43/100\n",
      "12/12 [==============================] - 0s 11ms/step - loss: 0.0093 - val_loss: 0.0863\n",
      "Epoch 44/100\n",
      "12/12 [==============================] - 0s 14ms/step - loss: 0.0099 - val_loss: 0.1045\n",
      "Epoch 45/100\n",
      "12/12 [==============================] - 0s 12ms/step - loss: 0.0079 - val_loss: 0.0404\n",
      "Epoch 46/100\n",
      "12/12 [==============================] - 0s 13ms/step - loss: 0.0093 - val_loss: 0.0670\n",
      "Epoch 47/100\n",
      "12/12 [==============================] - 0s 13ms/step - loss: 0.0093 - val_loss: 0.0336\n",
      "Epoch 48/100\n",
      "12/12 [==============================] - 0s 12ms/step - loss: 0.0091 - val_loss: 0.0332\n",
      "Epoch 49/100\n",
      "12/12 [==============================] - 0s 12ms/step - loss: 0.0082 - val_loss: 0.0568\n",
      "Epoch 50/100\n",
      "12/12 [==============================] - 0s 13ms/step - loss: 0.0086 - val_loss: 0.0429\n",
      "Epoch 51/100\n",
      "12/12 [==============================] - 0s 12ms/step - loss: 0.0080 - val_loss: 0.0336\n",
      "Epoch 52/100\n",
      "12/12 [==============================] - 0s 14ms/step - loss: 0.0081 - val_loss: 0.0480\n",
      "Epoch 53/100\n",
      "12/12 [==============================] - 0s 12ms/step - loss: 0.0080 - val_loss: 0.0354\n",
      "Epoch 54/100\n",
      "12/12 [==============================] - 0s 13ms/step - loss: 0.0082 - val_loss: 0.0227\n",
      "Epoch 55/100\n",
      "12/12 [==============================] - 0s 12ms/step - loss: 0.0077 - val_loss: 0.0227\n",
      "Epoch 56/100\n",
      "12/12 [==============================] - 0s 12ms/step - loss: 0.0092 - val_loss: 0.0461\n",
      "Epoch 57/100\n",
      "12/12 [==============================] - 0s 12ms/step - loss: 0.0082 - val_loss: 0.0205\n",
      "Epoch 58/100\n",
      "12/12 [==============================] - 0s 13ms/step - loss: 0.0078 - val_loss: 0.0237\n",
      "Epoch 59/100\n",
      "12/12 [==============================] - 0s 11ms/step - loss: 0.0084 - val_loss: 0.0373\n",
      "Epoch 60/100\n",
      "12/12 [==============================] - 0s 14ms/step - loss: 0.0074 - val_loss: 0.0354\n",
      "Epoch 61/100\n",
      "12/12 [==============================] - 0s 12ms/step - loss: 0.0084 - val_loss: 0.0171\n",
      "Epoch 62/100\n",
      "12/12 [==============================] - 0s 12ms/step - loss: 0.0081 - val_loss: 0.0460\n",
      "Epoch 63/100\n"
     ]
    },
    {
     "name": "stdout",
     "output_type": "stream",
     "text": [
      "12/12 [==============================] - 0s 12ms/step - loss: 0.0073 - val_loss: 0.0478\n",
      "Epoch 64/100\n",
      "12/12 [==============================] - 0s 10ms/step - loss: 0.0075 - val_loss: 0.0371\n",
      "Epoch 65/100\n",
      "12/12 [==============================] - 0s 10ms/step - loss: 0.0085 - val_loss: 0.0460\n",
      "Epoch 66/100\n",
      "12/12 [==============================] - 0s 10ms/step - loss: 0.0081 - val_loss: 0.0154\n",
      "Epoch 67/100\n",
      "12/12 [==============================] - 0s 10ms/step - loss: 0.0086 - val_loss: 0.0142\n",
      "Epoch 68/100\n",
      "12/12 [==============================] - 0s 12ms/step - loss: 0.0079 - val_loss: 0.0312\n",
      "Epoch 69/100\n",
      "12/12 [==============================] - 0s 11ms/step - loss: 0.0077 - val_loss: 0.0285\n",
      "Epoch 70/100\n",
      "12/12 [==============================] - 0s 12ms/step - loss: 0.0075 - val_loss: 0.0104\n",
      "Epoch 71/100\n",
      "12/12 [==============================] - 0s 11ms/step - loss: 0.0090 - val_loss: 0.0549\n",
      "Epoch 72/100\n",
      "12/12 [==============================] - 0s 11ms/step - loss: 0.0092 - val_loss: 0.0568\n",
      "Epoch 73/100\n",
      "12/12 [==============================] - 0s 10ms/step - loss: 0.0076 - val_loss: 0.0152\n",
      "Epoch 74/100\n",
      "12/12 [==============================] - 0s 10ms/step - loss: 0.0079 - val_loss: 0.0161\n",
      "Epoch 75/100\n",
      "12/12 [==============================] - 0s 11ms/step - loss: 0.0086 - val_loss: 0.0169\n",
      "Epoch 76/100\n",
      "12/12 [==============================] - 0s 11ms/step - loss: 0.0066 - val_loss: 0.0235\n",
      "Epoch 77/100\n",
      "12/12 [==============================] - 0s 13ms/step - loss: 0.0069 - val_loss: 0.0109\n",
      "Epoch 78/100\n",
      "12/12 [==============================] - 0s 12ms/step - loss: 0.0076 - val_loss: 0.0434\n",
      "Epoch 79/100\n",
      "12/12 [==============================] - 0s 11ms/step - loss: 0.0078 - val_loss: 0.0432\n",
      "Epoch 80/100\n",
      "12/12 [==============================] - 0s 12ms/step - loss: 0.0076 - val_loss: 0.0179\n",
      "Epoch 81/100\n",
      "12/12 [==============================] - 0s 10ms/step - loss: 0.0062 - val_loss: 0.0309\n",
      "Epoch 82/100\n",
      "12/12 [==============================] - 0s 11ms/step - loss: 0.0080 - val_loss: 0.0108\n",
      "Epoch 83/100\n",
      "12/12 [==============================] - 0s 12ms/step - loss: 0.0079 - val_loss: 0.0090\n",
      "Epoch 84/100\n",
      "12/12 [==============================] - 0s 11ms/step - loss: 0.0066 - val_loss: 0.0142\n",
      "Epoch 85/100\n",
      "12/12 [==============================] - 0s 11ms/step - loss: 0.0074 - val_loss: 0.0556\n",
      "Epoch 86/100\n",
      "12/12 [==============================] - 0s 12ms/step - loss: 0.0083 - val_loss: 0.0272\n",
      "Epoch 87/100\n",
      "12/12 [==============================] - 0s 11ms/step - loss: 0.0077 - val_loss: 0.0144\n",
      "Epoch 88/100\n",
      "12/12 [==============================] - 0s 11ms/step - loss: 0.0084 - val_loss: 0.0361\n",
      "Epoch 89/100\n",
      "12/12 [==============================] - 0s 11ms/step - loss: 0.0068 - val_loss: 0.0167\n",
      "Epoch 90/100\n",
      "12/12 [==============================] - 0s 11ms/step - loss: 0.0070 - val_loss: 0.0134\n",
      "Epoch 91/100\n",
      "12/12 [==============================] - 0s 11ms/step - loss: 0.0066 - val_loss: 0.0170\n",
      "Epoch 92/100\n",
      "12/12 [==============================] - 0s 12ms/step - loss: 0.0060 - val_loss: 0.0191\n",
      "Epoch 93/100\n",
      "12/12 [==============================] - 0s 11ms/step - loss: 0.0078 - val_loss: 0.0150\n",
      "Epoch 94/100\n",
      "12/12 [==============================] - 0s 11ms/step - loss: 0.0063 - val_loss: 0.0175\n",
      "Epoch 95/100\n",
      "12/12 [==============================] - 0s 11ms/step - loss: 0.0061 - val_loss: 0.0083\n",
      "Epoch 96/100\n",
      "12/12 [==============================] - 0s 12ms/step - loss: 0.0073 - val_loss: 0.0113\n",
      "Epoch 97/100\n",
      "12/12 [==============================] - 0s 12ms/step - loss: 0.0064 - val_loss: 0.0140\n",
      "Epoch 98/100\n",
      "12/12 [==============================] - 0s 12ms/step - loss: 0.0061 - val_loss: 0.0256\n",
      "Epoch 99/100\n",
      "12/12 [==============================] - 0s 10ms/step - loss: 0.0067 - val_loss: 0.0109\n",
      "Epoch 100/100\n",
      "12/12 [==============================] - 0s 10ms/step - loss: 0.0059 - val_loss: 0.0123\n"
     ]
    }
   ],
   "source": [
    "grid_search = grid_search.fit(trainX, trainY)"
   ]
  },
  {
   "cell_type": "code",
   "execution_count": 12,
   "metadata": {
    "colab": {
     "base_uri": "https://localhost:8080/"
    },
    "id": "Qy2V4JQANIIK",
    "outputId": "d36fddc1-e27a-4531-db16-cc81ef8f9286"
   },
   "outputs": [
    {
     "data": {
      "text/plain": [
       "{'batch_size': 16, 'epochs': 100, 'optimizer': 'adam'}"
      ]
     },
     "execution_count": 12,
     "metadata": {},
     "output_type": "execute_result"
    }
   ],
   "source": [
    "grid_search.best_params_"
   ]
  },
  {
   "cell_type": "code",
   "execution_count": 13,
   "metadata": {
    "colab": {
     "base_uri": "https://localhost:8080/"
    },
    "id": "yqcpASdkNI9X",
    "outputId": "f6a24342-b3c8-4eb3-ade3-92370837e576"
   },
   "outputs": [
    {
     "name": "stdout",
     "output_type": "stream",
     "text": [
      "WARNING:tensorflow:AutoGraph could not transform <function Model.make_predict_function.<locals>.predict_function at 0x7fe75d1a4710> and will run it as-is.\n",
      "Please report this to the TensorFlow team. When filing the bug, set the verbosity to 10 (on Linux, `export AUTOGRAPH_VERBOSITY=10`) and attach the full output.\n",
      "Cause: 'arguments' object has no attribute 'posonlyargs'\n",
      "To silence this warning, decorate the function with @tf.autograph.experimental.do_not_convert\n",
      "WARNING: AutoGraph could not transform <function Model.make_predict_function.<locals>.predict_function at 0x7fe75d1a4710> and will run it as-is.\n",
      "Please report this to the TensorFlow team. When filing the bug, set the verbosity to 10 (on Linux, `export AUTOGRAPH_VERBOSITY=10`) and attach the full output.\n",
      "Cause: 'arguments' object has no attribute 'posonlyargs'\n",
      "To silence this warning, decorate the function with @tf.autograph.experimental.do_not_convert\n"
     ]
    }
   ],
   "source": [
    "my_model = grid_search.best_estimator_.model\n",
    "prediction = my_model.predict(testX)"
   ]
  },
  {
   "cell_type": "code",
   "execution_count": 14,
   "metadata": {
    "colab": {
     "base_uri": "https://localhost:8080/"
    },
    "id": "ixNV4QOiNdvP",
    "outputId": "6afda16f-7cb5-4900-c542-ae9c5fc8eaed"
   },
   "outputs": [],
   "source": [
    "prediction_copies_array = np.repeat(prediction, 5, axis=-1)\n",
    "pred = scaler.inverse_transform(np.reshape(prediction_copies_array,(len(prediction),5)))[:,0]"
   ]
  },
  {
   "cell_type": "code",
   "execution_count": 15,
   "metadata": {
    "id": "Pw67GGOANfVG"
   },
   "outputs": [],
   "source": [
    "original_copies_array = np.repeat(testY, 5, axis=-1)\n",
    "original = scaler.inverse_transform(np.reshape(original_copies_array,(len(testY),5)))[:,0]"
   ]
  },
  {
   "cell_type": "code",
   "execution_count": 16,
   "metadata": {
    "colab": {
     "base_uri": "https://localhost:8080/"
    },
    "id": "GydDOw3kNuBE",
    "outputId": "0cb326bd-7a60-417c-d61e-da96fda5d0b0"
   },
   "outputs": [
    {
     "name": "stdout",
     "output_type": "stream",
     "text": [
      "Pred Values--  [142.57167 146.84152 148.73325 146.82523 142.89114 144.01442 145.26973\n",
      " 146.69896 148.68922 149.27913 147.62224 144.94664 144.68503 144.92546\n",
      " 145.887   147.41307 146.84488 146.18564 145.36613 144.66841 144.78198\n",
      " 145.49156 147.86763 149.1123  150.47853 150.18994 147.00793 146.12543\n",
      " 147.45924 149.07439 150.03151 149.48822 148.38937 147.19652 150.70815\n",
      " 151.86137 152.04498 152.5699  153.06235 154.97356 154.12036 153.4395\n",
      " 149.45508 148.63051 147.2358  148.41162 149.01205 146.21526 144.03595\n",
      " 143.03209 145.29051 147.47249 147.32281 145.85185 143.26154 143.05565\n",
      " 142.55048 143.76613 141.80522 142.2028  143.01717 144.23296 144.43715\n",
      " 144.11436 142.93742 141.93538 143.77068 145.50912 146.87932 148.64818\n",
      " 148.85666 149.17966 148.16801 148.0117  148.7451  149.70967 152.55122\n",
      " 151.1297  149.34355 149.59296 151.2482  151.60765 151.8858  151.46637\n",
      " 151.5443  149.39656 148.59465 150.39073 151.36284 152.00304 153.4882\n",
      " 157.56192 159.85739 159.47345 159.33067 159.16171 154.75352 155.66783\n",
      " 161.80067 163.34137 161.91095 159.26128 161.2237  167.23782 171.54475\n",
      " 169.9385  172.82619 170.01443 166.87613 172.82239 168.39554 165.61674\n",
      " 164.64746 168.1425  171.79143 172.28406 174.27573 173.91733 172.7554\n",
      " 171.45027 170.9137  174.9404  173.61751 168.93823 165.96564 166.71712\n",
      " 167.8746  170.87935 171.61517 168.24413 168.5371  166.03543 162.80852\n",
      " 161.37987 160.14519 159.36037 157.93262 158.68652 159.12816 167.26588\n",
      " 173.86137 172.61609 170.75746 167.2315  166.18286 166.83461 170.2366\n",
      " 172.37474 168.3147  164.1007  163.83984 168.503   169.62277 166.1637\n",
      " 163.48747 161.29459 157.61217 159.989   163.47491 164.51785 162.09683\n",
      " 163.77776 164.11707 161.17036 157.3915  155.31389 160.22504 158.46196\n",
      " 154.71448 150.3754  152.96796 158.32372 161.1507  163.32297 163.97603\n",
      " 165.8243  166.937   170.01204]\n",
      "\n",
      "Original Values--  [149.1499939  148.47999573 146.38999939 142.44999695 146.1499939\n",
      " 145.3999939  146.80000305 148.55999756 148.99000549 146.77000427\n",
      " 144.97999573 145.63999939 145.86000061 145.52000427 147.36000061\n",
      " 146.94999695 147.05999756 146.13999939 146.08999634 145.6000061\n",
      " 145.86000061 148.88999939 149.1000061  151.11999512 150.19000244\n",
      " 146.36000061 146.69999695 148.19000244 149.71000671 149.61999512\n",
      " 148.36000061 147.53999329 148.6000061  153.11999512 151.83000183\n",
      " 152.50999451 153.6499939  154.30000305 156.69000244 155.11000061\n",
      " 154.07000732 148.97000122 149.55000305 148.11999512 149.02999878\n",
      " 148.78999329 146.05999756 142.94000244 143.42999268 145.8500061\n",
      " 146.83000183 146.91999817 145.36999512 141.91000366 142.83000183\n",
      " 141.5        142.6499939  139.13999939 141.11000061 142.\n",
      " 143.28999329 142.8999939  142.80999756 141.50999451 140.91000366\n",
      " 143.75999451 144.83999634 146.55000305 148.75999451 149.25999451\n",
      " 149.47999573 148.69000244 148.63999939 149.32000732 148.8500061\n",
      " 152.57000732 149.80000305 148.96000671 150.02000427 151.49000549\n",
      " 150.96000671 151.27999878 150.44000244 150.80999756 147.91999817\n",
      " 147.86999512 149.99000549 150.         151.         153.49000549\n",
      " 157.86999512 160.55000305 161.02000427 161.41000366 161.94000244\n",
      " 156.80999756 160.24000549 165.30000305 164.77000427 163.75999451\n",
      " 161.83999634 165.32000732 171.17999268 175.08000183 174.55999756\n",
      " 179.44999695 175.74000549 174.33000183 179.30000305 172.25999451\n",
      " 171.13999939 169.75       172.99000549 175.63999939 176.27999878\n",
      " 180.33000183 179.28999329 179.38000488 178.19999695 177.57000732\n",
      " 182.00999451 179.69999695 174.91999817 172.         172.16999817\n",
      " 172.19000244 175.08000183 175.52999878 172.19000244 173.07000732\n",
      " 169.80000305 166.22999573 164.50999451 162.41000366 161.61999512\n",
      " 159.77999878 159.69000244 159.22000122 170.33000183 174.77999878\n",
      " 174.61000061 175.83999634 172.8999939  172.38999939 171.66000366\n",
      " 174.83000183 176.27999878 172.11999512 168.63999939 168.88000488\n",
      " 172.78999329 172.55000305 168.88000488 167.30000305 164.32000732\n",
      " 160.07000732 162.74000549 164.8500061  165.11999512 163.19999695\n",
      " 166.55999756 166.22999573 163.16999817 159.30000305 157.44000244\n",
      " 162.94999695 158.52000427 154.72999573 150.61999512 155.08999634\n",
      " 159.58999634 160.61999512 163.97999573 165.38000488 168.82000732\n",
      " 170.21000671 174.07000732 174.72000122]\n"
     ]
    }
   ],
   "source": [
    "print(\"Pred Values-- \" ,pred)\n",
    "print(\"\\nOriginal Values-- \",original)"
   ]
  },
  {
   "cell_type": "code",
   "execution_count": 17,
   "metadata": {
    "colab": {
     "base_uri": "https://localhost:8080/",
     "height": 295
    },
    "id": "Z8yOKMnLN2bQ",
    "outputId": "22f36d27-6371-47de-fefc-e8bdb58aa8ac"
   },
   "outputs": [
    {
     "data": {
      "image/png": "[encoded data removed]",
      "text/plain": [
       "<Figure size 432x288 with 1 Axes>"
      ]
     },
     "metadata": {
      "needs_background": "light"
     },
     "output_type": "display_data"
    }
   ],
   "source": [
    "import matplotlib.pyplot as plt\n",
    "plt.plot(original, color = 'red', label = 'Real Stock Price')\n",
    "plt.plot(pred, color = 'blue', label = 'Predicted Stock Price')\n",
    "plt.title('Stock Price Prediction')\n",
    "plt.xlabel('Time')\n",
    "plt.ylabel('Stock Price')\n",
    "plt.legend()\n",
    "plt.show()"
   ]
  },
  {
   "cell_type": "code",
   "execution_count": 18,
   "metadata": {},
   "outputs": [
    {
     "name": "stdout",
     "output_type": "stream",
     "text": [
      "R-Squared: 0.9387446566775315\n"
     ]
    }
   ],
   "source": [
    "import math\n",
    "def computeCorrelation(X, Y):\n",
    "    xBar = np.mean(X)\n",
    "    yBar = np.mean(Y)\n",
    "    SSR = 0\n",
    "    varX = 0\n",
    "    varY = 0\n",
    "    for i in range(0 , len(X)):\n",
    "        diffXXBar = X[i] - xBar\n",
    "        diffYYBar = Y[i] - yBar\n",
    "        SSR += (diffXXBar * diffYYBar)\n",
    "        varX +=  diffXXBar**2\n",
    "        varY += diffYYBar**2\n",
    "    \n",
    "    SST = math.sqrt(varX * varY)\n",
    "    \n",
    "    print (\"R-Squared:\", (SSR / SST)**2)\n",
    "\n",
    "computeCorrelation(pred, original)"
   ]
  }
 ],
 "metadata": {
  "colab": {
   "collapsed_sections": [],
   "name": "ANN_for_stock_prediction.ipynb",
   "provenance": []
  },
  "kernelspec": {
   "display_name": "Python 3",
   "language": "python",
   "name": "python3"
  },
  "language_info": {
   "codemirror_mode": {
    "name": "ipython",
    "version": 3
   },
   "file_extension": ".py",
   "mimetype": "text/x-python",
   "name": "python",
   "nbconvert_exporter": "python",
   "pygments_lexer": "ipython3",
   "version": "3.7.4"
  }
 },
 "nbformat": 4,
 "nbformat_minor": 1
}
